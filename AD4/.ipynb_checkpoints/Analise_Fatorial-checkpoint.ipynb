{
 "cells": [
  {
   "cell_type": "markdown",
   "metadata": {},
   "source": [
    "<img src=\"data:image/png;base64,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\" align='left' width=250px;>\n",
    "\n",
    "<img src=\"data:image/png;base64,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\" align='right' width=200px;>"
   ]
  },
  {
   "cell_type": "markdown",
   "metadata": {},
   "source": [
    "# **Análise Fatorial Exploratória - Python**\n",
    "\n",
    "## Prof. Dr. José Eduardo Ferreira Lopes\n",
    "\n",
    "### Introdução\n",
    "\n",
    "Objetiva-se com este notebook apresentar o processo de <b>Análise Fatorial Exploratória - AFE </b> em Python, destacando os princpais pontos relacionados ao assunto.\n"
   ]
  },
  {
   "cell_type": "markdown",
   "metadata": {},
   "source": [
    "### Pontos de Aprendizagem:\n",
    "\n",
    "> -  Circunstâncias a partir das quais uma análise fatorial pode ser aplicada;<br>\n",
    ">\n",
    "> -  <b>Premissas</b> subjacentes à utilização da análise fatorial;<br>\n",
    ">\n",
    "> - Diferenciar a análise fatorial das outras técnicas multivariadas;<br>\n",
    ">\n",
    "> - O porque e os principais <b>métodos rotacionais</b>;<br>\n",
    ">\n",
    "> - <b>Número de fatores</b> a serem extraídos e possíveis nomes;<br>\n",
    ">\n",
    "> - Conceitos de <b>cargas fatorias</b> e <b>escores fatoriais</b>;<br>\n",
    ">\n",
    "> - Conceitos de <b>eigenvalues</b> (autovalores) e <b>comunalidade</b>;<br>\n",
    ">\n",
    "> - Saber estratificar observações a partir de escores fatoriais.<br>\n"
   ]
  },
  {
   "cell_type": "markdown",
   "metadata": {},
   "source": [
    "### Definições e Conceitos:\n",
    "\n",
    "Análise Fatorial é um nome genérico dado a uma classe de métodos estatísticos multivariados cujo propósito principal é definir a estrutura subjacente em uma matriz de dados. Assim, têm-se os seguintes pontos:<br>\n",
    "> - Abordar o problema de analisar a estrutura das inter-relações (correlações) entre um grande número de variáveis, definindo um conjunto de dimensões latentes comuns, chamadas de fatores;<br>\n",
    "> - Identificar as dimensões separadas da estrutura e então determinar o grau em que cada variável é explicada por cada dimensão;\n",
    "Resumir e reduzir os dados em dimensões latentes interpretáveis e compreensíveis usando escores para cada dimensão e, consequentemente, substituir as variáveis originais.<br>\n",
    "> - Os modelos de análise fatorial buscam explicar o comportamento das variáveis observadas em relação ao comportamento de um conjunto de variáveis não observadas (variáveis latentes ou fatores).\n",
    "\n",
    "\n"
   ]
  },
  {
   "cell_type": "markdown",
   "metadata": {},
   "source": [
    "### Fonte de pesquisa - Introdução à Análise Fatorial em Python\n",
    "\n",
    "https://www.datacamp.com/community/tutorials/introduction-factor-analysis"
   ]
  },
  {
   "cell_type": "markdown",
   "metadata": {},
   "source": [
    "### Bibliotecas utilizadas\n",
    "\n",
    "<p>As principais bibliotecas utilizadas são:<br>\n",
    "<a href=\"https://pandas.pydata.org/\">Pandas</a>;<br>\n",
    "<a href=\"https://matplotlib.org/\">Matplotlib</a>;<br>  \n",
    "<a href=\"https://factor-analyzer.readthedocs.io/en/latest/index.html\">factor_analyzer</a>;<br>\n",
    "<a href=\"https://docs.scipy.org/doc/scipy/reference/tutorial/index.html\">scipy</a><br>\n",
    "</p>\n"
   ]
  },
  {
   "cell_type": "code",
   "execution_count": 1,
   "metadata": {},
   "outputs": [],
   "source": [
    "import pandas as pd\n",
    "import matplotlib.pyplot as plt\n",
    "from statsmodels.graphics.gofplots import qqplot\n",
    "import numpy as np\n",
    "from scipy import stats as st\n",
    "import researchpy as rs\n",
    "from factor_analyzer import FactorAnalyzer as fa\n",
    "from factor_analyzer.factor_analyzer import calculate_bartlett_sphericity as bartlett\n",
    "from factor_analyzer.factor_analyzer import calculate_kmo as kmo\n",
    "from scipy.stats import shapiro\n",
    "\n",
    "pd.set_option(\"display.max_columns\", 101)"
   ]
  },
  {
   "cell_type": "code",
   "execution_count": null,
   "metadata": {},
   "outputs": [],
   "source": [
    "pip install researchpy"
   ]
  },
  {
   "cell_type": "code",
   "execution_count": null,
   "metadata": {},
   "outputs": [],
   "source": [
    "pip install factor_analyzer"
   ]
  },
  {
   "cell_type": "markdown",
   "metadata": {},
   "source": [
    "### Dados\n",
    "\n",
    "Os dados aqui utilizados acompnham o livro-texto do Hair jr. HAIR JR., J. F. et al. <b>Análise Multivariada de Dados</b>. 6. ed. Bookman: Porto Alegre, 2009. O arquivo de dados se chama HBAT e contém informações a respeito de pesquisa respondida pelos clientes, avaliando atributos/características da empres HBAT.<br>\n",
    "\n",
    "<pre>\n",
    "ID - Identificador do Cliente              X1 - Longevidade do Cliente\n",
    "X2 - Tipo de Indústria                     X3 - Tamanho da Empresa\n",
    "X4 - Região                                X5 - Sistema de Distribuição\n",
    "X6 - Qualidade do Produto                  X7 - Atividades de E-Comerce\n",
    "X8 - Suporte Técnico                       X9 - Resolução de Reclamações\n",
    "X10 - Propaganda                           X11 - Linha de Produtos\n",
    "X12 - Imagem da Força de Vendas            X13 - Preços Competitivos\n",
    "X14 - Garantias                            X15 - Novos Produtos\n",
    "X16 - Pedidos e Faturamento                X17 - Flexibilidade de Preços\n",
    "X18 - Velocidade de Entrega                X19 - Satisfação\n",
    "X20 - Recomendaria                         X21 - Recompraria\n",
    "X22 - Nível de Compra                      X23 - Consideraria Aliança Estratégica\n",
    "</pre>\n",
    "\n",
    "Da variável X6 Até a variável X18, representam a nota que cada um dos clientes pesquisados atribuíram para os respectivos atributos. Notas entre 0 e 10."
   ]
  },
  {
   "cell_type": "markdown",
   "metadata": {},
   "source": [
    "<p>Leitura / Carga da planilha de Clientes do Excel: \n",
    "<a href=\"https://pandas.pydata.org/pandas-docs/stable/reference/api/pandas.read_excel.html#pandas.read_excel/\">read_excel</a>\n",
    "</p>"
   ]
  },
  {
   "cell_type": "code",
   "execution_count": 2,
   "metadata": {},
   "outputs": [],
   "source": [
    "df = pd.read_excel(\"../HBAT.xlsx\", sheet_name = \"HBAT\")"
   ]
  },
  {
   "cell_type": "markdown",
   "metadata": {},
   "source": [
    "<p>Visualização de n primeiras linhas do arquivo (head): \n",
    "<a href=\"https://pandas.pydata.org/pandas-docs/stable/reference/api/pandas.DataFrame.head.html\">head()</a><br>\n",
    "</p>"
   ]
  },
  {
   "cell_type": "markdown",
   "metadata": {},
   "source": [
    "Por *_default_*, são apresenadas as cinco primeiras linhas. Ao passar o parâmetro, serão exibidas as n primieras linhas."
   ]
  },
  {
   "cell_type": "code",
   "execution_count": 4,
   "metadata": {},
   "outputs": [
    {
     "data": {
      "text/html": [
       "<div>\n",
       "<style scoped>\n",
       "    .dataframe tbody tr th:only-of-type {\n",
       "        vertical-align: middle;\n",
       "    }\n",
       "\n",
       "    .dataframe tbody tr th {\n",
       "        vertical-align: top;\n",
       "    }\n",
       "\n",
       "    .dataframe thead th {\n",
       "        text-align: right;\n",
       "    }\n",
       "</style>\n",
       "<table border=\"1\" class=\"dataframe\">\n",
       "  <thead>\n",
       "    <tr style=\"text-align: right;\">\n",
       "      <th></th>\n",
       "      <th>id</th>\n",
       "      <th>x1</th>\n",
       "      <th>x2</th>\n",
       "      <th>x3</th>\n",
       "      <th>x4</th>\n",
       "      <th>x5</th>\n",
       "      <th>x6</th>\n",
       "      <th>x7</th>\n",
       "      <th>x8</th>\n",
       "      <th>x9</th>\n",
       "      <th>x10</th>\n",
       "      <th>x11</th>\n",
       "      <th>x12</th>\n",
       "      <th>x13</th>\n",
       "      <th>x14</th>\n",
       "      <th>x15</th>\n",
       "      <th>x16</th>\n",
       "      <th>x17</th>\n",
       "      <th>x18</th>\n",
       "      <th>x19</th>\n",
       "      <th>x20</th>\n",
       "      <th>x21</th>\n",
       "      <th>x22</th>\n",
       "      <th>x23</th>\n",
       "    </tr>\n",
       "  </thead>\n",
       "  <tbody>\n",
       "    <tr>\n",
       "      <th>0</th>\n",
       "      <td>1</td>\n",
       "      <td>Entre 1 e 5 Anos</td>\n",
       "      <td>Indústria de Revista</td>\n",
       "      <td>Grande (500+)</td>\n",
       "      <td>Fora da América do Norte</td>\n",
       "      <td>Direto</td>\n",
       "      <td>8.5</td>\n",
       "      <td>3.9</td>\n",
       "      <td>2.5</td>\n",
       "      <td>5.9</td>\n",
       "      <td>4.8</td>\n",
       "      <td>4.9</td>\n",
       "      <td>6.0</td>\n",
       "      <td>6.8</td>\n",
       "      <td>4.7</td>\n",
       "      <td>4.3</td>\n",
       "      <td>5.0</td>\n",
       "      <td>5.1</td>\n",
       "      <td>3.7</td>\n",
       "      <td>8.2</td>\n",
       "      <td>8.0</td>\n",
       "      <td>8.4</td>\n",
       "      <td>65.1</td>\n",
       "      <td>Sim</td>\n",
       "    </tr>\n",
       "    <tr>\n",
       "      <th>1</th>\n",
       "      <td>2</td>\n",
       "      <td>Acima de 5 Anos</td>\n",
       "      <td>Indústria de Jornal</td>\n",
       "      <td>Pequena (0 to 499)</td>\n",
       "      <td>USA/América do Norte</td>\n",
       "      <td>Indireto</td>\n",
       "      <td>8.2</td>\n",
       "      <td>2.7</td>\n",
       "      <td>5.1</td>\n",
       "      <td>7.2</td>\n",
       "      <td>3.4</td>\n",
       "      <td>7.9</td>\n",
       "      <td>3.1</td>\n",
       "      <td>5.3</td>\n",
       "      <td>5.5</td>\n",
       "      <td>4.0</td>\n",
       "      <td>3.9</td>\n",
       "      <td>4.3</td>\n",
       "      <td>4.9</td>\n",
       "      <td>5.7</td>\n",
       "      <td>6.5</td>\n",
       "      <td>7.5</td>\n",
       "      <td>67.1</td>\n",
       "      <td>Não</td>\n",
       "    </tr>\n",
       "    <tr>\n",
       "      <th>2</th>\n",
       "      <td>3</td>\n",
       "      <td>Acima de 5 Anos</td>\n",
       "      <td>Indústria de Revista</td>\n",
       "      <td>Grande (500+)</td>\n",
       "      <td>Fora da América do Norte</td>\n",
       "      <td>Direto</td>\n",
       "      <td>9.2</td>\n",
       "      <td>3.4</td>\n",
       "      <td>5.6</td>\n",
       "      <td>5.6</td>\n",
       "      <td>5.4</td>\n",
       "      <td>7.4</td>\n",
       "      <td>5.8</td>\n",
       "      <td>4.5</td>\n",
       "      <td>6.2</td>\n",
       "      <td>4.6</td>\n",
       "      <td>5.4</td>\n",
       "      <td>4.0</td>\n",
       "      <td>4.5</td>\n",
       "      <td>8.9</td>\n",
       "      <td>8.4</td>\n",
       "      <td>9.0</td>\n",
       "      <td>72.1</td>\n",
       "      <td>Sim</td>\n",
       "    </tr>\n",
       "  </tbody>\n",
       "</table>\n",
       "</div>"
      ],
      "text/plain": [
       "   id                x1                    x2                  x3  \\\n",
       "0   1  Entre 1 e 5 Anos  Indústria de Revista       Grande (500+)   \n",
       "1   2   Acima de 5 Anos   Indústria de Jornal  Pequena (0 to 499)   \n",
       "2   3   Acima de 5 Anos  Indústria de Revista       Grande (500+)   \n",
       "\n",
       "                         x4        x5   x6   x7   x8   x9  x10  x11  x12  x13  \\\n",
       "0  Fora da América do Norte    Direto  8.5  3.9  2.5  5.9  4.8  4.9  6.0  6.8   \n",
       "1      USA/América do Norte  Indireto  8.2  2.7  5.1  7.2  3.4  7.9  3.1  5.3   \n",
       "2  Fora da América do Norte    Direto  9.2  3.4  5.6  5.6  5.4  7.4  5.8  4.5   \n",
       "\n",
       "   x14  x15  x16  x17  x18  x19  x20  x21   x22  x23  \n",
       "0  4.7  4.3  5.0  5.1  3.7  8.2  8.0  8.4  65.1  Sim  \n",
       "1  5.5  4.0  3.9  4.3  4.9  5.7  6.5  7.5  67.1  Não  \n",
       "2  6.2  4.6  5.4  4.0  4.5  8.9  8.4  9.0  72.1  Sim  "
      ]
     },
     "execution_count": 4,
     "metadata": {},
     "output_type": "execute_result"
    }
   ],
   "source": [
    "df.head(3)"
   ]
  },
  {
   "cell_type": "markdown",
   "metadata": {},
   "source": [
    "<p>Resumo do arquivo (info): \n",
    "<a href=\"https://pandas.pydata.org/pandas-docs/stable/reference/api/pandas.DataFrame.info.html\">info()</a><br>\n",
    "Valores e Tipo de Dados\n",
    "</p>"
   ]
  },
  {
   "cell_type": "code",
   "execution_count": 5,
   "metadata": {},
   "outputs": [
    {
     "name": "stdout",
     "output_type": "stream",
     "text": [
      "<class 'pandas.core.frame.DataFrame'>\n",
      "RangeIndex: 100 entries, 0 to 99\n",
      "Data columns (total 24 columns):\n",
      " #   Column  Non-Null Count  Dtype  \n",
      "---  ------  --------------  -----  \n",
      " 0   id      100 non-null    int64  \n",
      " 1   x1      100 non-null    object \n",
      " 2   x2      100 non-null    object \n",
      " 3   x3      100 non-null    object \n",
      " 4   x4      100 non-null    object \n",
      " 5   x5      100 non-null    object \n",
      " 6   x6      100 non-null    object \n",
      " 7   x7      100 non-null    float64\n",
      " 8   x8      100 non-null    float64\n",
      " 9   x9      100 non-null    float64\n",
      " 10  x10     100 non-null    float64\n",
      " 11  x11     100 non-null    float64\n",
      " 12  x12     100 non-null    float64\n",
      " 13  x13     100 non-null    float64\n",
      " 14  x14     100 non-null    float64\n",
      " 15  x15     100 non-null    float64\n",
      " 16  x16     100 non-null    float64\n",
      " 17  x17     100 non-null    float64\n",
      " 18  x18     100 non-null    float64\n",
      " 19  x19     100 non-null    float64\n",
      " 20  x20     100 non-null    float64\n",
      " 21  x21     100 non-null    float64\n",
      " 22  x22     100 non-null    float64\n",
      " 23  x23     100 non-null    object \n",
      "dtypes: float64(16), int64(1), object(7)\n",
      "memory usage: 18.9+ KB\n"
     ]
    }
   ],
   "source": [
    "df.info()"
   ]
  },
  {
   "cell_type": "markdown",
   "metadata": {},
   "source": [
    "### Análise\n",
    "\n",
    "Observar que a variável X6 é do tipo **object**, enquanto o esperado seria **float64**"
   ]
  },
  {
   "cell_type": "markdown",
   "metadata": {},
   "source": [
    "Verificar os valores da variável."
   ]
  },
  {
   "cell_type": "code",
   "execution_count": 6,
   "metadata": {},
   "outputs": [
    {
     "data": {
      "text/plain": [
       "8.7          6\n",
       "9.3          6\n",
       "9.9          5\n",
       "6.4          5\n",
       "6.7          4\n",
       "8.5          4\n",
       "5.7          4\n",
       "9.1          4\n",
       "7.7          3\n",
       "8.6          3\n",
       "9.2          3\n",
       "8            3\n",
       "9.4          3\n",
       "7.6          3\n",
       "6.9          3\n",
       "8.2          3\n",
       "7.4          2\n",
       "9            2\n",
       "Excelente    2\n",
       "6.1          2\n",
       "5.5          2\n",
       "6.5          2\n",
       "5.9          2\n",
       "7.5          2\n",
       "7.9          2\n",
       "9.6          2\n",
       "7.1          2\n",
       "5            1\n",
       "8.1          1\n",
       "6.3          1\n",
       "8.3          1\n",
       "8.4          1\n",
       "8.8          1\n",
       "9.5          1\n",
       "5.2          1\n",
       "6.2          1\n",
       "5.6          1\n",
       "6            1\n",
       "5.8          1\n",
       "6.6          1\n",
       "5.1          1\n",
       "7.8          1\n",
       "7            1\n",
       "Name: x6, dtype: int64"
      ]
     },
     "execution_count": 6,
     "metadata": {},
     "output_type": "execute_result"
    }
   ],
   "source": [
    "df[\"x6\"].value_counts()"
   ]
  },
  {
   "cell_type": "markdown",
   "metadata": {},
   "source": [
    "Observar que existe um valor do tipo *string* enquanto o esperado é *float*. Este valor pode ser substituído por **10**, dado que a escala de coleta de dados variáva entre 1 e 10, sendo que 10 correspondia à nota **Excelente**\n"
   ]
  },
  {
   "cell_type": "markdown",
   "metadata": {},
   "source": [
    "Substituir o valor encntrado **Excelente** por 10 e alterar o tipo de dado."
   ]
  },
  {
   "cell_type": "code",
   "execution_count": 7,
   "metadata": {},
   "outputs": [],
   "source": [
    "df[\"x6\"] = df[\"x6\"].replace('Excelente', '10')"
   ]
  },
  {
   "cell_type": "code",
   "execution_count": 8,
   "metadata": {},
   "outputs": [],
   "source": [
    "df[\"x6\"] = df[\"x6\"].astype(\"float64\")"
   ]
  },
  {
   "cell_type": "markdown",
   "metadata": {},
   "source": [
    "## Exploração dos Dados"
   ]
  },
  {
   "cell_type": "markdown",
   "metadata": {},
   "source": [
    "### Estatística Descritiva\n",
    "\n",
    "<p> Função Utilizada: <br>\n",
    "<a href=\"https://pandas.pydata.org/pandas-docs/stable/reference/api/pandas.DataFrame.describe.html\">describe()</a> <br>\n",
    "</p>\n",
    "\n",
    "A função describe() gera as estatísticas descritivas que sumarizam a tendência central, dispersão e forma de distribuição de um conjunto de dados. <br>\n",
    "Por padrão, as estatísticas geradas são para variáveis métricas. com o parâmetro <b>include='all'</b>, são geradas as estatísticas para todos os tipos de variáveis.\n",
    "\n"
   ]
  },
  {
   "cell_type": "code",
   "execution_count": 9,
   "metadata": {},
   "outputs": [
    {
     "data": {
      "text/html": [
       "<div>\n",
       "<style scoped>\n",
       "    .dataframe tbody tr th:only-of-type {\n",
       "        vertical-align: middle;\n",
       "    }\n",
       "\n",
       "    .dataframe tbody tr th {\n",
       "        vertical-align: top;\n",
       "    }\n",
       "\n",
       "    .dataframe thead th {\n",
       "        text-align: right;\n",
       "    }\n",
       "</style>\n",
       "<table border=\"1\" class=\"dataframe\">\n",
       "  <thead>\n",
       "    <tr style=\"text-align: right;\">\n",
       "      <th></th>\n",
       "      <th>id</th>\n",
       "      <th>x6</th>\n",
       "      <th>x7</th>\n",
       "      <th>x8</th>\n",
       "      <th>x9</th>\n",
       "      <th>x10</th>\n",
       "      <th>x11</th>\n",
       "      <th>x12</th>\n",
       "      <th>x13</th>\n",
       "      <th>x14</th>\n",
       "      <th>x15</th>\n",
       "      <th>x16</th>\n",
       "      <th>x17</th>\n",
       "      <th>x18</th>\n",
       "      <th>x19</th>\n",
       "      <th>x20</th>\n",
       "      <th>x21</th>\n",
       "      <th>x22</th>\n",
       "    </tr>\n",
       "  </thead>\n",
       "  <tbody>\n",
       "    <tr>\n",
       "      <th>count</th>\n",
       "      <td>100.00</td>\n",
       "      <td>100.00</td>\n",
       "      <td>100.00</td>\n",
       "      <td>100.00</td>\n",
       "      <td>100.00</td>\n",
       "      <td>100.00</td>\n",
       "      <td>100.00</td>\n",
       "      <td>100.00</td>\n",
       "      <td>100.00</td>\n",
       "      <td>100.00</td>\n",
       "      <td>100.00</td>\n",
       "      <td>100.00</td>\n",
       "      <td>100.00</td>\n",
       "      <td>100.00</td>\n",
       "      <td>100.00</td>\n",
       "      <td>100.00</td>\n",
       "      <td>100.00</td>\n",
       "      <td>100.00</td>\n",
       "    </tr>\n",
       "    <tr>\n",
       "      <th>mean</th>\n",
       "      <td>50.50</td>\n",
       "      <td>7.81</td>\n",
       "      <td>3.67</td>\n",
       "      <td>5.36</td>\n",
       "      <td>5.44</td>\n",
       "      <td>4.01</td>\n",
       "      <td>5.80</td>\n",
       "      <td>5.12</td>\n",
       "      <td>6.97</td>\n",
       "      <td>6.04</td>\n",
       "      <td>5.15</td>\n",
       "      <td>4.28</td>\n",
       "      <td>4.61</td>\n",
       "      <td>3.89</td>\n",
       "      <td>6.92</td>\n",
       "      <td>7.02</td>\n",
       "      <td>7.71</td>\n",
       "      <td>58.40</td>\n",
       "    </tr>\n",
       "    <tr>\n",
       "      <th>std</th>\n",
       "      <td>29.01</td>\n",
       "      <td>1.40</td>\n",
       "      <td>0.70</td>\n",
       "      <td>1.53</td>\n",
       "      <td>1.21</td>\n",
       "      <td>1.13</td>\n",
       "      <td>1.32</td>\n",
       "      <td>1.07</td>\n",
       "      <td>1.55</td>\n",
       "      <td>0.82</td>\n",
       "      <td>1.49</td>\n",
       "      <td>0.93</td>\n",
       "      <td>1.21</td>\n",
       "      <td>0.73</td>\n",
       "      <td>1.19</td>\n",
       "      <td>1.04</td>\n",
       "      <td>0.94</td>\n",
       "      <td>8.86</td>\n",
       "    </tr>\n",
       "    <tr>\n",
       "      <th>min</th>\n",
       "      <td>1.00</td>\n",
       "      <td>5.00</td>\n",
       "      <td>2.20</td>\n",
       "      <td>1.30</td>\n",
       "      <td>2.60</td>\n",
       "      <td>1.90</td>\n",
       "      <td>2.30</td>\n",
       "      <td>2.90</td>\n",
       "      <td>3.70</td>\n",
       "      <td>4.10</td>\n",
       "      <td>1.70</td>\n",
       "      <td>2.00</td>\n",
       "      <td>2.60</td>\n",
       "      <td>1.60</td>\n",
       "      <td>4.70</td>\n",
       "      <td>4.60</td>\n",
       "      <td>5.50</td>\n",
       "      <td>37.10</td>\n",
       "    </tr>\n",
       "    <tr>\n",
       "      <th>25%</th>\n",
       "      <td>25.75</td>\n",
       "      <td>6.57</td>\n",
       "      <td>3.28</td>\n",
       "      <td>4.25</td>\n",
       "      <td>4.60</td>\n",
       "      <td>3.18</td>\n",
       "      <td>4.70</td>\n",
       "      <td>4.50</td>\n",
       "      <td>5.88</td>\n",
       "      <td>5.40</td>\n",
       "      <td>4.10</td>\n",
       "      <td>3.70</td>\n",
       "      <td>3.70</td>\n",
       "      <td>3.40</td>\n",
       "      <td>6.00</td>\n",
       "      <td>6.30</td>\n",
       "      <td>7.10</td>\n",
       "      <td>51.10</td>\n",
       "    </tr>\n",
       "    <tr>\n",
       "      <th>50%</th>\n",
       "      <td>50.50</td>\n",
       "      <td>8.00</td>\n",
       "      <td>3.60</td>\n",
       "      <td>5.40</td>\n",
       "      <td>5.45</td>\n",
       "      <td>4.00</td>\n",
       "      <td>5.75</td>\n",
       "      <td>4.90</td>\n",
       "      <td>7.10</td>\n",
       "      <td>6.10</td>\n",
       "      <td>5.00</td>\n",
       "      <td>4.40</td>\n",
       "      <td>4.35</td>\n",
       "      <td>3.90</td>\n",
       "      <td>7.05</td>\n",
       "      <td>7.00</td>\n",
       "      <td>7.70</td>\n",
       "      <td>58.60</td>\n",
       "    </tr>\n",
       "    <tr>\n",
       "      <th>75%</th>\n",
       "      <td>75.25</td>\n",
       "      <td>9.10</td>\n",
       "      <td>3.92</td>\n",
       "      <td>6.62</td>\n",
       "      <td>6.32</td>\n",
       "      <td>4.80</td>\n",
       "      <td>6.80</td>\n",
       "      <td>5.80</td>\n",
       "      <td>8.40</td>\n",
       "      <td>6.60</td>\n",
       "      <td>6.30</td>\n",
       "      <td>4.80</td>\n",
       "      <td>5.60</td>\n",
       "      <td>4.43</td>\n",
       "      <td>7.62</td>\n",
       "      <td>7.60</td>\n",
       "      <td>8.40</td>\n",
       "      <td>65.35</td>\n",
       "    </tr>\n",
       "    <tr>\n",
       "      <th>max</th>\n",
       "      <td>100.00</td>\n",
       "      <td>10.00</td>\n",
       "      <td>5.70</td>\n",
       "      <td>8.50</td>\n",
       "      <td>7.80</td>\n",
       "      <td>6.50</td>\n",
       "      <td>8.40</td>\n",
       "      <td>8.20</td>\n",
       "      <td>9.90</td>\n",
       "      <td>8.10</td>\n",
       "      <td>9.50</td>\n",
       "      <td>6.70</td>\n",
       "      <td>7.30</td>\n",
       "      <td>5.50</td>\n",
       "      <td>9.90</td>\n",
       "      <td>9.90</td>\n",
       "      <td>9.90</td>\n",
       "      <td>77.10</td>\n",
       "    </tr>\n",
       "  </tbody>\n",
       "</table>\n",
       "</div>"
      ],
      "text/plain": [
       "           id      x6      x7      x8      x9     x10     x11     x12     x13  \\\n",
       "count  100.00  100.00  100.00  100.00  100.00  100.00  100.00  100.00  100.00   \n",
       "mean    50.50    7.81    3.67    5.36    5.44    4.01    5.80    5.12    6.97   \n",
       "std     29.01    1.40    0.70    1.53    1.21    1.13    1.32    1.07    1.55   \n",
       "min      1.00    5.00    2.20    1.30    2.60    1.90    2.30    2.90    3.70   \n",
       "25%     25.75    6.57    3.28    4.25    4.60    3.18    4.70    4.50    5.88   \n",
       "50%     50.50    8.00    3.60    5.40    5.45    4.00    5.75    4.90    7.10   \n",
       "75%     75.25    9.10    3.92    6.62    6.32    4.80    6.80    5.80    8.40   \n",
       "max    100.00   10.00    5.70    8.50    7.80    6.50    8.40    8.20    9.90   \n",
       "\n",
       "          x14     x15     x16     x17     x18     x19     x20     x21     x22  \n",
       "count  100.00  100.00  100.00  100.00  100.00  100.00  100.00  100.00  100.00  \n",
       "mean     6.04    5.15    4.28    4.61    3.89    6.92    7.02    7.71   58.40  \n",
       "std      0.82    1.49    0.93    1.21    0.73    1.19    1.04    0.94    8.86  \n",
       "min      4.10    1.70    2.00    2.60    1.60    4.70    4.60    5.50   37.10  \n",
       "25%      5.40    4.10    3.70    3.70    3.40    6.00    6.30    7.10   51.10  \n",
       "50%      6.10    5.00    4.40    4.35    3.90    7.05    7.00    7.70   58.60  \n",
       "75%      6.60    6.30    4.80    5.60    4.43    7.62    7.60    8.40   65.35  \n",
       "max      8.10    9.50    6.70    7.30    5.50    9.90    9.90    9.90   77.10  "
      ]
     },
     "execution_count": 9,
     "metadata": {},
     "output_type": "execute_result"
    }
   ],
   "source": [
    "df.describe().round(2)"
   ]
  },
  {
   "cell_type": "code",
   "execution_count": 11,
   "metadata": {},
   "outputs": [
    {
     "data": {
      "text/plain": [
       "5.594999999999999"
      ]
     },
     "execution_count": 11,
     "metadata": {},
     "output_type": "execute_result"
    }
   ],
   "source": [
    "df[\"x6\"].quantile(q=0.05)"
   ]
  },
  {
   "cell_type": "markdown",
   "metadata": {},
   "source": [
    "### Distribuição dos Dados - BoxPlot e Histograma\n",
    "\n",
    "Valendo-se destes três gráficos, é possível fazer uma inspeção visual na distribuição das variáveis (forma). É possível observar assimetria, espalhamento (curtose), outliers e possível ajuste/desvio da distribuição normal.\n",
    "\n",
    "#### Quantil-Quantil Plot\n",
    "\n",
    "Também conhecido por **Q-Q plot** ou **QQ plot**\n",
    "\n",
    "É gerada uma distribuição idealizada e então, comparada com a distribuição da variável em questão, neste caso, a distribuição Gaussiana (Normal). <br>\n",
    "\n",
    "A distribuição idealizada é dividida em grupos (ex.: 5 grupos), chamada quintis. Cada ponto da amostra é pareado com o membro similar da distribuição idealizada a partir da distribuição acumulada. <br>\n",
    "\n",
    "O resultado é plotado como um gráfico de dispersão com a distribuição idealizada no eixo x e variável testada no eixo y. <br>\n",
    "\n",
    "Além dos pontos, é traçada uma linha, formando um ângulo de 45 graus, cujo objetivo é facilitar a análise. Quando os pontos desviam da da distribuição esperada (os pontos plotados distanciam da linha traçada), indicam possível desvio da distribuição normal.\n",
    "\n",
    "The resulting points are plotted as a scatter plot with the idealized value on the x-axis and the data sample on the y-axis.\n",
    "\n",
    "<p> Funções Utilizadas: <br>\n",
    "<a href=\"https://pandas.pydata.org/pandas-docs/stable/reference/frame.html#plotting\">plot()</a> <br>\n",
    "<a href=\"https://www.statsmodels.org/stable/generated/statsmodels.graphics.gofplots.qqplot.html\">qqplot()</a> <br>\n",
    "</p>"
   ]
  },
  {
   "cell_type": "code",
   "execution_count": 80,
   "metadata": {},
   "outputs": [
    {
     "data": {
      "image/png": "[encoded data removed]",
      "text/plain": [
       "<Figure size 1440x360 with 3 Axes>"
      ]
     },
     "metadata": {
      "needs_background": "light"
     },
     "output_type": "display_data"
    }
   ],
   "source": [
    "plt.rcParams[\"figure.figsize\"] = (20,5)\n",
    "fig, axes = plt.subplots(1, 3)\n",
    "df[\"x6\"].plot(kind=\"box\", ax=axes[0]).set_ylim(1, 10)\n",
    "df[\"x6\"].plot('hist', bins=8, ax=axes[1], xlim=(0, 11), title='x6 - Qualidade do Produto').set_ylim(0, 35)\n",
    "qqplot(df[\"x6\"], line='s', ax=axes[2])\n",
    "plt.show()"
   ]
  },
  {
   "cell_type": "code",
   "execution_count": 81,
   "metadata": {},
   "outputs": [
    {
     "data": {
      "image/png": "[encoded data removed]",
      "text/plain": [
       "<Figure size 1440x360 with 3 Axes>"
      ]
     },
     "metadata": {
      "needs_background": "light"
     },
     "output_type": "display_data"
    }
   ],
   "source": [
    "plt.rcParams[\"figure.figsize\"] = (20,5)\n",
    "fig, axes = plt.subplots(1, 3)\n",
    "df[\"x7\"].plot(kind=\"box\", ax=axes[0]).set_ylim(1, 10)\n",
    "df[\"x7\"].plot('hist', bins=8, ax=axes[1], xlim=(0, 11), title='x7 - Atividades de E-Comerce').set_ylim(0, 35)\n",
    "qqplot(df[\"x7\"], line='s', ax=axes[2])\n",
    "plt.show()"
   ]
  },
  {
   "cell_type": "code",
   "execution_count": 82,
   "metadata": {},
   "outputs": [
    {
     "data": {
      "image/png": "[encoded data removed]",
      "text/plain": [
       "<Figure size 1440x360 with 3 Axes>"
      ]
     },
     "metadata": {
      "needs_background": "light"
     },
     "output_type": "display_data"
    }
   ],
   "source": [
    "plt.rcParams[\"figure.figsize\"] = (20,5)\n",
    "fig, axes = plt.subplots(1, 3)\n",
    "df[\"x8\"].plot(kind=\"box\", ax=axes[0]).set_ylim(1, 10)\n",
    "df[\"x8\"].plot('hist', bins=8, ax=axes[1], xlim=(0, 11), title='x8 - Suporte Técnico').set_ylim(0, 35)\n",
    "qqplot(df[\"x9\"], line='s', ax=axes[2])\n",
    "plt.show()"
   ]
  },
  {
   "cell_type": "code",
   "execution_count": 83,
   "metadata": {},
   "outputs": [
    {
     "data": {
      "image/png": "[encoded data removed]",
      "text/plain": [
       "<Figure size 1440x360 with 3 Axes>"
      ]
     },
     "metadata": {
      "needs_background": "light"
     },
     "output_type": "display_data"
    }
   ],
   "source": [
    "plt.rcParams[\"figure.figsize\"] = (20,5)\n",
    "fig, axes = plt.subplots(1, 3)\n",
    "df[\"x9\"].plot(kind=\"box\", ax=axes[0]).set_ylim(1, 10)\n",
    "df[\"x9\"].plot('hist', bins=8, ax=axes[1], xlim=(0, 11), title='x9 - Resolução de Reclamações').set_ylim(0, 35)\n",
    "qqplot(df[\"x9\"], line='s', ax=axes[2])\n",
    "plt.show()"
   ]
  },
  {
   "cell_type": "code",
   "execution_count": 84,
   "metadata": {},
   "outputs": [
    {
     "data": {
      "image/png": "[encoded data removed]",
      "text/plain": [
       "<Figure size 1440x360 with 3 Axes>"
      ]
     },
     "metadata": {
      "needs_background": "light"
     },
     "output_type": "display_data"
    }
   ],
   "source": [
    "plt.rcParams[\"figure.figsize\"] = (20,5)\n",
    "fig, axes = plt.subplots(1, 3)\n",
    "df[\"x10\"].plot(kind=\"box\", ax=axes[0]).set_ylim(1, 10)\n",
    "df[\"x10\"].plot('hist', bins=8, ax=axes[1], xlim=(0, 11), title='x10 - Propaganda').set_ylim(0, 35)\n",
    "qqplot(df[\"x10\"], line='s', ax=axes[2])\n",
    "plt.show()"
   ]
  },
  {
   "cell_type": "code",
   "execution_count": 85,
   "metadata": {},
   "outputs": [
    {
     "data": {
      "image/png": "[encoded data removed]",
      "text/plain": [
       "<Figure size 1440x360 with 3 Axes>"
      ]
     },
     "metadata": {
      "needs_background": "light"
     },
     "output_type": "display_data"
    }
   ],
   "source": [
    "plt.rcParams[\"figure.figsize\"] = (20,5)\n",
    "fig, axes = plt.subplots(1, 3)\n",
    "df[\"x11\"].plot(kind=\"box\", ax=axes[0]).set_ylim(1, 10)\n",
    "df[\"x11\"].plot('hist', bins=8, ax=axes[1], xlim=(0, 11), title='x11 - Linha de Produtos').set_ylim(0, 35)\n",
    "qqplot(df[\"x11\"], line='s', ax=axes[2])\n",
    "plt.show()"
   ]
  },
  {
   "cell_type": "code",
   "execution_count": 86,
   "metadata": {},
   "outputs": [
    {
     "data": {
      "image/png": "[encoded data removed]",
      "text/plain": [
       "<Figure size 1440x360 with 3 Axes>"
      ]
     },
     "metadata": {
      "needs_background": "light"
     },
     "output_type": "display_data"
    }
   ],
   "source": [
    "plt.rcParams[\"figure.figsize\"] = (20,5)\n",
    "fig, axes = plt.subplots(1, 3)\n",
    "df[\"x12\"].plot(kind=\"box\", ax=axes[0]).set_ylim(1, 10)\n",
    "df[\"x12\"].plot('hist', bins=8, ax=axes[1], xlim=(0, 11), title='x12 - Imagem da Força de Vendas').set_ylim(0, 35)\n",
    "qqplot(df[\"x12\"], line='s', ax=axes[2])\n",
    "plt.show()"
   ]
  },
  {
   "cell_type": "code",
   "execution_count": 87,
   "metadata": {},
   "outputs": [
    {
     "data": {
      "image/png": "[encoded data removed]",
      "text/plain": [
       "<Figure size 1440x360 with 3 Axes>"
      ]
     },
     "metadata": {
      "needs_background": "light"
     },
     "output_type": "display_data"
    }
   ],
   "source": [
    "plt.rcParams[\"figure.figsize\"] = (20,5)\n",
    "fig, axes = plt.subplots(1, 3)\n",
    "df[\"x13\"].plot(kind=\"box\", ax=axes[0]).set_ylim(1, 10)\n",
    "df[\"x13\"].plot('hist', bins=8, ax=axes[1], xlim=(0, 11), title='x13 - Preços Competitivos').set_ylim(0, 35)\n",
    "qqplot(df[\"x13\"], line='s', ax=axes[2])\n",
    "plt.show()"
   ]
  },
  {
   "cell_type": "code",
   "execution_count": 88,
   "metadata": {},
   "outputs": [
    {
     "data": {
      "image/png": "[encoded data removed]",
      "text/plain": [
       "<Figure size 1440x360 with 3 Axes>"
      ]
     },
     "metadata": {
      "needs_background": "light"
     },
     "output_type": "display_data"
    }
   ],
   "source": [
    "plt.rcParams[\"figure.figsize\"] = (20,5)\n",
    "fig, axes = plt.subplots(1, 3)\n",
    "df[\"x14\"].plot(kind=\"box\", ax=axes[0]).set_ylim(1, 10)\n",
    "df[\"x14\"].plot('hist', bins=8, ax=axes[1], xlim=(0, 11), title='x14 - Garantias').set_ylim(0, 35)\n",
    "qqplot(df[\"x14\"], line='s', ax=axes[2])\n",
    "plt.show()"
   ]
  },
  {
   "cell_type": "code",
   "execution_count": 89,
   "metadata": {},
   "outputs": [
    {
     "data": {
      "image/png": "[encoded data removed]",
      "text/plain": [
       "<Figure size 1440x360 with 3 Axes>"
      ]
     },
     "metadata": {
      "needs_background": "light"
     },
     "output_type": "display_data"
    }
   ],
   "source": [
    "plt.rcParams[\"figure.figsize\"] = (20,5)\n",
    "fig, axes = plt.subplots(1, 3)\n",
    "df[\"x15\"].plot(kind=\"box\", ax=axes[0]).set_ylim(1, 10)\n",
    "df[\"x15\"].plot('hist', bins=8, ax=axes[1], xlim=(0, 11), title='x15 - Novos Produtos').set_ylim(0, 35)\n",
    "qqplot(df[\"x15\"], line='s', ax=axes[2])\n",
    "plt.show()"
   ]
  },
  {
   "cell_type": "code",
   "execution_count": 90,
   "metadata": {},
   "outputs": [
    {
     "data": {
      "image/png": "[encoded data removed]",
      "text/plain": [
       "<Figure size 1440x360 with 3 Axes>"
      ]
     },
     "metadata": {
      "needs_background": "light"
     },
     "output_type": "display_data"
    }
   ],
   "source": [
    "plt.rcParams[\"figure.figsize\"] = (20,5)\n",
    "fig, axes = plt.subplots(1, 3)\n",
    "df[\"x16\"].plot(kind=\"box\", ax=axes[0]).set_ylim(1, 10)\n",
    "df[\"x16\"].plot('hist', bins=8, ax=axes[1], xlim=(0, 11), title='x16 - Pedidos e Faturamento').set_ylim(0, 35)\n",
    "qqplot(df[\"x16\"], line='s', ax=axes[2])\n",
    "plt.show()"
   ]
  },
  {
   "cell_type": "code",
   "execution_count": 91,
   "metadata": {},
   "outputs": [
    {
     "data": {
      "image/png": "[encoded data removed]",
      "text/plain": [
       "<Figure size 1440x360 with 3 Axes>"
      ]
     },
     "metadata": {
      "needs_background": "light"
     },
     "output_type": "display_data"
    }
   ],
   "source": [
    "plt.rcParams[\"figure.figsize\"] = (20,5)\n",
    "fig, axes = plt.subplots(1, 3)\n",
    "df[\"x17\"].plot(kind=\"box\", ax=axes[0]).set_ylim(1, 10)\n",
    "df[\"x17\"].plot('hist', bins=8, ax=axes[1], xlim=(0, 11), title='x17 - Flexibilidade de Preços').set_ylim(0, 35)\n",
    "qqplot(df[\"x17\"], line='s', ax=axes[2])\n",
    "plt.show()"
   ]
  },
  {
   "cell_type": "code",
   "execution_count": 92,
   "metadata": {},
   "outputs": [
    {
     "data": {
      "image/png": "[encoded data removed]",
      "text/plain": [
       "<Figure size 1440x360 with 3 Axes>"
      ]
     },
     "metadata": {
      "needs_background": "light"
     },
     "output_type": "display_data"
    }
   ],
   "source": [
    "plt.rcParams[\"figure.figsize\"] = (20,5)\n",
    "fig, axes = plt.subplots(1, 3)\n",
    "df[\"x18\"].plot(kind=\"box\", ax=axes[0]).set_ylim(1, 10)\n",
    "df[\"x8\"].plot('hist', bins=8, ax=axes[1], xlim=(0, 11), title='x18 - Velocidade de Entrega').set_ylim(0, 30)\n",
    "qqplot(df[\"x18\"], line='s', ax=axes[2])\n",
    "plt.show()"
   ]
  },
  {
   "cell_type": "markdown",
   "metadata": {},
   "source": [
    "#### Análise\n",
    "\n",
    "Analisando as figuras, é possível observar: Em relação à variável x6 - Qualidade do Produto, que oe valores são altos, sendo o atributo, bem avaliado pelos clientes e não se observa presença de *outliers*. Em relação à variável x7 - Atividades de E-Comerce, as notas são baixas, sendo o atributo, mal avaliado pelos clientes. É possível observar que há presença de *outliers* e nos dois casos, os pontos plotados no QQ plot se distancial da linha, indicando possível desvio da normalidade.\n"
   ]
  },
  {
   "cell_type": "markdown",
   "metadata": {},
   "source": [
    "## Normalidade dos Dados\n",
    "\n",
    "A partir da análise gráfica, é possível observar possíveis violações da normalidade. Contudo, testes devem ser conduzidos para certificar esta possibilidade.<br>\n",
    "\n",
    "Existem muitos testes que podem ser utilizados para avaliar o quanto a dsitribuição de uma determinada amostra se parece com a distribuição Gaussiana (normal). Cada um dos testes abordam diferentes pressupostos e aspectos dos dados.\n",
    "\n",
    "#### Interpretação dos Testes de Normalidade\n",
    "\n",
    "Cada teste retorna ao menos dois parâmetros:\n",
    "\n",
    "> - Estatística: Um valor calculado que pode ser interpretado comparando-o com algum valor crítico de uma distribuição estatística de deste.\n",
    "> - p-valor: Usado para interpretar o teste. Neste caso, o quanto a distribuição se aproxima de uma distribuição normal.<br>\n",
    "\n",
    "Para analisar a estatísitca calculada, requer maior profundidade e proficiência em estatística e no teste estatístico específico. Em contrapartida, o p-valor é mais simples e prático para analisar.<br>\n",
    "\n",
    "O teste assume que a amostra provem de uma distribuição normal. Tecnicamente, chamada de hipótese nula ou H0. O nível de confiança, chamado alfa, tipicamente 5% (ou 0,05), é usado para intepretar o p-valor.\n",
    "\n",
    "> - p <= alfa: Rejeita H0, distribuição não normal\n",
    "> - p > alfa: Falha em rejeitar H0, distribuição normal\n",
    "\n",
    "Em gereal, estamos procurando por p-valores maiores que alfa, confirmando que a distribuição da amostra provém de uma distribuição normal.\n"
   ]
  },
  {
   "cell_type": "code",
   "execution_count": 9,
   "metadata": {},
   "outputs": [],
   "source": [
    "# Cáculo do N (Listwise), Curtose e Assimetria para cada uma das variáveis\n",
    "\n",
    "Normal = pd.DataFrame({'N': df[['x6', 'x7', 'x8', 'x9', 'x10', 'x11', 'x12', 'x13', 'x14', 'x15', 'x16', 'x17', 'x18']].count(),\n",
    "                     'Curtose': df[['x6', 'x7', 'x8', 'x9', 'x10', 'x11', 'x12', 'x13', 'x14', 'x15', 'x16', 'x17', 'x18']].kurtosis(),\n",
    "                     'Assimetria': df[['x6', 'x7', 'x8', 'x9', 'x10', 'x11', 'x12', 'x13', 'x14', 'x15', 'x16', 'x17', 'x18']].skew()})"
   ]
  },
  {
   "cell_type": "code",
   "execution_count": 94,
   "metadata": {},
   "outputs": [
    {
     "data": {
      "text/html": [
       "<div>\n",
       "<style scoped>\n",
       "    .dataframe tbody tr th:only-of-type {\n",
       "        vertical-align: middle;\n",
       "    }\n",
       "\n",
       "    .dataframe tbody tr th {\n",
       "        vertical-align: top;\n",
       "    }\n",
       "\n",
       "    .dataframe thead th {\n",
       "        text-align: right;\n",
       "    }\n",
       "</style>\n",
       "<table border=\"1\" class=\"dataframe\">\n",
       "  <thead>\n",
       "    <tr style=\"text-align: right;\">\n",
       "      <th></th>\n",
       "      <th>N</th>\n",
       "      <th>Curtose</th>\n",
       "      <th>Assimetria</th>\n",
       "    </tr>\n",
       "  </thead>\n",
       "  <tbody>\n",
       "    <tr>\n",
       "      <th>x6</th>\n",
       "      <td>100</td>\n",
       "      <td>-1.1318</td>\n",
       "      <td>-0.2445</td>\n",
       "    </tr>\n",
       "    <tr>\n",
       "      <th>x7</th>\n",
       "      <td>100</td>\n",
       "      <td>0.7353</td>\n",
       "      <td>0.6604</td>\n",
       "    </tr>\n",
       "    <tr>\n",
       "      <th>x8</th>\n",
       "      <td>100</td>\n",
       "      <td>-0.5482</td>\n",
       "      <td>-0.2033</td>\n",
       "    </tr>\n",
       "    <tr>\n",
       "      <th>x9</th>\n",
       "      <td>100</td>\n",
       "      <td>-0.5859</td>\n",
       "      <td>-0.1358</td>\n",
       "    </tr>\n",
       "    <tr>\n",
       "      <th>x10</th>\n",
       "      <td>100</td>\n",
       "      <td>-0.8876</td>\n",
       "      <td>0.0436</td>\n",
       "    </tr>\n",
       "    <tr>\n",
       "      <th>x11</th>\n",
       "      <td>100</td>\n",
       "      <td>-0.5218</td>\n",
       "      <td>-0.0924</td>\n",
       "    </tr>\n",
       "    <tr>\n",
       "      <th>x12</th>\n",
       "      <td>100</td>\n",
       "      <td>0.4095</td>\n",
       "      <td>0.3769</td>\n",
       "    </tr>\n",
       "    <tr>\n",
       "      <th>x13</th>\n",
       "      <td>100</td>\n",
       "      <td>-0.9034</td>\n",
       "      <td>-0.2399</td>\n",
       "    </tr>\n",
       "    <tr>\n",
       "      <th>x14</th>\n",
       "      <td>100</td>\n",
       "      <td>-0.4447</td>\n",
       "      <td>0.0084</td>\n",
       "    </tr>\n",
       "    <tr>\n",
       "      <th>x15</th>\n",
       "      <td>100</td>\n",
       "      <td>0.0164</td>\n",
       "      <td>0.2985</td>\n",
       "    </tr>\n",
       "    <tr>\n",
       "      <th>x16</th>\n",
       "      <td>100</td>\n",
       "      <td>0.2441</td>\n",
       "      <td>-0.3335</td>\n",
       "    </tr>\n",
       "    <tr>\n",
       "      <th>x17</th>\n",
       "      <td>100</td>\n",
       "      <td>-0.8159</td>\n",
       "      <td>0.3228</td>\n",
       "    </tr>\n",
       "    <tr>\n",
       "      <th>x18</th>\n",
       "      <td>100</td>\n",
       "      <td>0.2181</td>\n",
       "      <td>-0.4631</td>\n",
       "    </tr>\n",
       "  </tbody>\n",
       "</table>\n",
       "</div>"
      ],
      "text/plain": [
       "       N  Curtose  Assimetria\n",
       "x6   100  -1.1318     -0.2445\n",
       "x7   100   0.7353      0.6604\n",
       "x8   100  -0.5482     -0.2033\n",
       "x9   100  -0.5859     -0.1358\n",
       "x10  100  -0.8876      0.0436\n",
       "x11  100  -0.5218     -0.0924\n",
       "x12  100   0.4095      0.3769\n",
       "x13  100  -0.9034     -0.2399\n",
       "x14  100  -0.4447      0.0084\n",
       "x15  100   0.0164      0.2985\n",
       "x16  100   0.2441     -0.3335\n",
       "x17  100  -0.8159      0.3228\n",
       "x18  100   0.2181     -0.4631"
      ]
     },
     "execution_count": 94,
     "metadata": {},
     "output_type": "execute_result"
    }
   ],
   "source": [
    "Normal.round(4)"
   ]
  },
  {
   "cell_type": "markdown",
   "metadata": {},
   "source": [
    "<img src=\"data:image/png;base64,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\" align='center' width=200px;>"
   ]
  },
  {
   "cell_type": "markdown",
   "metadata": {},
   "source": [
    "### Normalidade: Análise de Assimetria e Curtose - Valores Padronizados\n",
    "\n",
    "A partir da assimetria e curtose, calcula-se a assimetria e curtose padronizados e compare-se este valor com os valores críticos de z.\n",
    "\n",
    ">Valores críticos de 𝑧:<br>\n",
    ">> - 𝑧= ±2,58 (𝑠𝑖𝑔𝑛𝑖𝑓𝑖𝑐â𝑛𝑐𝑖𝑎 𝑑𝑒 0,01)<br>\n",
    ">> - 𝑧= ±1,96 (𝑠𝑖𝑔𝑛𝑖𝑓𝑖𝑐â𝑛𝑐𝑖𝑎 𝑑𝑒 0,05)<br>\n",
    "\n",
    "Se o valor 𝑧 calculado exceder o valor crítico especificado, então a distribuição é não-normal<br>\n",
    "\n",
    "### Normalidade: Teste K^2 de D’Agostino\n",
    "\n",
    "A partir da curtose e da assimetria, determina se uma distribuição provém de uma distribuição normal.\n",
    "\n",
    "<p> Função Utilizada: <br>\n",
    "<a href=\"https://docs.scipy.org/doc/scipy/reference/generated/scipy.stats.normaltest.html\">normaltest()</a> <br>\n",
    "</p>\n",
    "\n",
    "### Normalidade:Teste KS - Kolmogorov-Smirnov\n",
    "\n",
    "Este teste avalia se uma dada distribuição para uma variável randômica se aproxima da distribuição da variável analisada.\n",
    "\n",
    "<p> Função Utilizada: <br>\n",
    "<a href=\"https://docs.scipy.org/doc/scipy-0.14.0/reference/generated/scipy.stats.kstest.html\">kstest()</a> <br>\n",
    "</p>\n",
    "\n",
    "\n",
    "### Normalidade:Teste W - Shapiro-Wilk\n",
    "\n",
    "Testa a hipótese nulal de que os dados provém de uma distribuição normal.\n",
    "\n",
    "<p> Função Utilizada: <br>\n",
    "<a href=\"https://docs.scipy.org/doc/scipy/reference/generated/scipy.stats.shapiro.html\">shapiro()</a> <br>\n",
    "</p>"
   ]
  },
  {
   "cell_type": "code",
   "execution_count": 10,
   "metadata": {},
   "outputs": [],
   "source": [
    "# Cáculo da Curtose e Assimetria padronizadas para cada uma das variáveis\n",
    "Normal['Z_Curtose'] = Normal['Curtose'] / np.sqrt(24/Normal['N'])\n",
    "Normal['Z_Assimetria'] = Normal['Assimetria'] / np.sqrt(6/Normal['N'])"
   ]
  },
  {
   "cell_type": "code",
   "execution_count": 11,
   "metadata": {},
   "outputs": [],
   "source": [
    "colunas = ['x6', 'x7', 'x8', 'x9', 'x10', 'x11', 'x12', 'x13', 'x14', 'x15', 'x16', 'x17', 'x18']"
   ]
  },
  {
   "cell_type": "code",
   "execution_count": 12,
   "metadata": {},
   "outputs": [],
   "source": [
    "# Cálculo da estatísticas e p-valores para os teste K^2 de D’Agostino, ks e w\n",
    "j = 0\n",
    "while j < len(colunas):\n",
    "    Normal.at[colunas[j], 'normal_qui'] = st.normaltest(df[colunas[j]])[0]\n",
    "    Normal.at[colunas[j], 'p-valor_qui'] = st.normaltest(df[colunas[j]])[1]\n",
    "    Normal.at[colunas[j], 'ks'] = st.kstest(df[colunas[j]], 'norm')[0]\n",
    "    Normal.at[colunas[j], 'p-valor_ks'] = st.kstest(df[colunas[j]], 'norm')[1]\n",
    "    Normal.at[colunas[j], 'w'] = shapiro(df[colunas[j]])[0]\n",
    "    Normal.at[colunas[j], 'p-valor_w'] = shapiro(df[colunas[j]])[1]\n",
    "    \n",
    "    j +=1"
   ]
  },
  {
   "cell_type": "code",
   "execution_count": 13,
   "metadata": {},
   "outputs": [
    {
     "data": {
      "text/html": [
       "<div>\n",
       "<style scoped>\n",
       "    .dataframe tbody tr th:only-of-type {\n",
       "        vertical-align: middle;\n",
       "    }\n",
       "\n",
       "    .dataframe tbody tr th {\n",
       "        vertical-align: top;\n",
       "    }\n",
       "\n",
       "    .dataframe thead th {\n",
       "        text-align: right;\n",
       "    }\n",
       "</style>\n",
       "<table border=\"1\" class=\"dataframe\">\n",
       "  <thead>\n",
       "    <tr style=\"text-align: right;\">\n",
       "      <th></th>\n",
       "      <th>N</th>\n",
       "      <th>Curtose</th>\n",
       "      <th>Assimetria</th>\n",
       "      <th>Z_Curtose</th>\n",
       "      <th>Z_Assimetria</th>\n",
       "      <th>normal_qui</th>\n",
       "      <th>p-valor_qui</th>\n",
       "      <th>ks</th>\n",
       "      <th>p-valor_ks</th>\n",
       "      <th>w</th>\n",
       "      <th>p-valor_w</th>\n",
       "    </tr>\n",
       "  </thead>\n",
       "  <tbody>\n",
       "    <tr>\n",
       "      <th>x6</th>\n",
       "      <td>100</td>\n",
       "      <td>-1.1318</td>\n",
       "      <td>-0.2445</td>\n",
       "      <td>-2.3104</td>\n",
       "      <td>-0.9982</td>\n",
       "      <td>26.1400</td>\n",
       "      <td>0.0000</td>\n",
       "      <td>1.0000</td>\n",
       "      <td>0.0</td>\n",
       "      <td>0.9497</td>\n",
       "      <td>0.0008</td>\n",
       "    </tr>\n",
       "    <tr>\n",
       "      <th>x7</th>\n",
       "      <td>100</td>\n",
       "      <td>0.7353</td>\n",
       "      <td>0.6604</td>\n",
       "      <td>1.5010</td>\n",
       "      <td>2.6960</td>\n",
       "      <td>8.9967</td>\n",
       "      <td>0.0111</td>\n",
       "      <td>0.9861</td>\n",
       "      <td>0.0</td>\n",
       "      <td>0.9585</td>\n",
       "      <td>0.0032</td>\n",
       "    </tr>\n",
       "    <tr>\n",
       "      <th>x8</th>\n",
       "      <td>100</td>\n",
       "      <td>-0.5482</td>\n",
       "      <td>-0.2033</td>\n",
       "      <td>-1.1191</td>\n",
       "      <td>-0.8298</td>\n",
       "      <td>2.6773</td>\n",
       "      <td>0.2622</td>\n",
       "      <td>0.9838</td>\n",
       "      <td>0.0</td>\n",
       "      <td>0.9863</td>\n",
       "      <td>0.3900</td>\n",
       "    </tr>\n",
       "    <tr>\n",
       "      <th>x9</th>\n",
       "      <td>100</td>\n",
       "      <td>-0.5859</td>\n",
       "      <td>-0.1358</td>\n",
       "      <td>-1.1959</td>\n",
       "      <td>-0.5544</td>\n",
       "      <td>2.6962</td>\n",
       "      <td>0.2597</td>\n",
       "      <td>0.9953</td>\n",
       "      <td>0.0</td>\n",
       "      <td>0.9865</td>\n",
       "      <td>0.4023</td>\n",
       "    </tr>\n",
       "    <tr>\n",
       "      <th>x10</th>\n",
       "      <td>100</td>\n",
       "      <td>-0.8876</td>\n",
       "      <td>0.0436</td>\n",
       "      <td>-1.8118</td>\n",
       "      <td>0.1780</td>\n",
       "      <td>9.2436</td>\n",
       "      <td>0.0098</td>\n",
       "      <td>0.9721</td>\n",
       "      <td>0.0</td>\n",
       "      <td>0.9763</td>\n",
       "      <td>0.0677</td>\n",
       "    </tr>\n",
       "    <tr>\n",
       "      <th>x11</th>\n",
       "      <td>100</td>\n",
       "      <td>-0.5218</td>\n",
       "      <td>-0.0924</td>\n",
       "      <td>-1.0651</td>\n",
       "      <td>-0.3774</td>\n",
       "      <td>1.8237</td>\n",
       "      <td>0.4018</td>\n",
       "      <td>0.9893</td>\n",
       "      <td>0.0</td>\n",
       "      <td>0.9869</td>\n",
       "      <td>0.4325</td>\n",
       "    </tr>\n",
       "    <tr>\n",
       "      <th>x12</th>\n",
       "      <td>100</td>\n",
       "      <td>0.4095</td>\n",
       "      <td>0.3769</td>\n",
       "      <td>0.8359</td>\n",
       "      <td>1.5387</td>\n",
       "      <td>3.3971</td>\n",
       "      <td>0.1829</td>\n",
       "      <td>0.9981</td>\n",
       "      <td>0.0</td>\n",
       "      <td>0.9740</td>\n",
       "      <td>0.0453</td>\n",
       "    </tr>\n",
       "    <tr>\n",
       "      <th>x13</th>\n",
       "      <td>100</td>\n",
       "      <td>-0.9034</td>\n",
       "      <td>-0.2399</td>\n",
       "      <td>-1.8441</td>\n",
       "      <td>-0.9795</td>\n",
       "      <td>10.8593</td>\n",
       "      <td>0.0044</td>\n",
       "      <td>0.9999</td>\n",
       "      <td>0.0</td>\n",
       "      <td>0.9676</td>\n",
       "      <td>0.0145</td>\n",
       "    </tr>\n",
       "    <tr>\n",
       "      <th>x14</th>\n",
       "      <td>100</td>\n",
       "      <td>-0.4447</td>\n",
       "      <td>0.0084</td>\n",
       "      <td>-0.9077</td>\n",
       "      <td>0.0342</td>\n",
       "      <td>1.0420</td>\n",
       "      <td>0.5939</td>\n",
       "      <td>1.0000</td>\n",
       "      <td>0.0</td>\n",
       "      <td>0.9909</td>\n",
       "      <td>0.7404</td>\n",
       "    </tr>\n",
       "    <tr>\n",
       "      <th>x15</th>\n",
       "      <td>100</td>\n",
       "      <td>0.0164</td>\n",
       "      <td>0.2985</td>\n",
       "      <td>0.0335</td>\n",
       "      <td>1.2187</td>\n",
       "      <td>1.6278</td>\n",
       "      <td>0.4431</td>\n",
       "      <td>0.9818</td>\n",
       "      <td>0.0</td>\n",
       "      <td>0.9860</td>\n",
       "      <td>0.3728</td>\n",
       "    </tr>\n",
       "    <tr>\n",
       "      <th>x16</th>\n",
       "      <td>100</td>\n",
       "      <td>0.2441</td>\n",
       "      <td>-0.3335</td>\n",
       "      <td>0.4984</td>\n",
       "      <td>-1.3617</td>\n",
       "      <td>2.4132</td>\n",
       "      <td>0.2992</td>\n",
       "      <td>0.9772</td>\n",
       "      <td>0.0</td>\n",
       "      <td>0.9741</td>\n",
       "      <td>0.0455</td>\n",
       "    </tr>\n",
       "    <tr>\n",
       "      <th>x17</th>\n",
       "      <td>100</td>\n",
       "      <td>-0.8159</td>\n",
       "      <td>0.3228</td>\n",
       "      <td>-1.6654</td>\n",
       "      <td>1.3177</td>\n",
       "      <td>8.6632</td>\n",
       "      <td>0.0131</td>\n",
       "      <td>0.9953</td>\n",
       "      <td>0.0</td>\n",
       "      <td>0.9655</td>\n",
       "      <td>0.0100</td>\n",
       "    </tr>\n",
       "    <tr>\n",
       "      <th>x18</th>\n",
       "      <td>100</td>\n",
       "      <td>0.2181</td>\n",
       "      <td>-0.4631</td>\n",
       "      <td>0.4452</td>\n",
       "      <td>-1.8906</td>\n",
       "      <td>4.0314</td>\n",
       "      <td>0.1332</td>\n",
       "      <td>0.9718</td>\n",
       "      <td>0.0</td>\n",
       "      <td>0.9816</td>\n",
       "      <td>0.1770</td>\n",
       "    </tr>\n",
       "  </tbody>\n",
       "</table>\n",
       "</div>"
      ],
      "text/plain": [
       "       N  Curtose  Assimetria  Z_Curtose  Z_Assimetria  normal_qui  \\\n",
       "x6   100  -1.1318     -0.2445    -2.3104       -0.9982     26.1400   \n",
       "x7   100   0.7353      0.6604     1.5010        2.6960      8.9967   \n",
       "x8   100  -0.5482     -0.2033    -1.1191       -0.8298      2.6773   \n",
       "x9   100  -0.5859     -0.1358    -1.1959       -0.5544      2.6962   \n",
       "x10  100  -0.8876      0.0436    -1.8118        0.1780      9.2436   \n",
       "x11  100  -0.5218     -0.0924    -1.0651       -0.3774      1.8237   \n",
       "x12  100   0.4095      0.3769     0.8359        1.5387      3.3971   \n",
       "x13  100  -0.9034     -0.2399    -1.8441       -0.9795     10.8593   \n",
       "x14  100  -0.4447      0.0084    -0.9077        0.0342      1.0420   \n",
       "x15  100   0.0164      0.2985     0.0335        1.2187      1.6278   \n",
       "x16  100   0.2441     -0.3335     0.4984       -1.3617      2.4132   \n",
       "x17  100  -0.8159      0.3228    -1.6654        1.3177      8.6632   \n",
       "x18  100   0.2181     -0.4631     0.4452       -1.8906      4.0314   \n",
       "\n",
       "     p-valor_qui      ks  p-valor_ks       w  p-valor_w  \n",
       "x6        0.0000  1.0000         0.0  0.9497     0.0008  \n",
       "x7        0.0111  0.9861         0.0  0.9585     0.0032  \n",
       "x8        0.2622  0.9838         0.0  0.9863     0.3900  \n",
       "x9        0.2597  0.9953         0.0  0.9865     0.4023  \n",
       "x10       0.0098  0.9721         0.0  0.9763     0.0677  \n",
       "x11       0.4018  0.9893         0.0  0.9869     0.4325  \n",
       "x12       0.1829  0.9981         0.0  0.9740     0.0453  \n",
       "x13       0.0044  0.9999         0.0  0.9676     0.0145  \n",
       "x14       0.5939  1.0000         0.0  0.9909     0.7404  \n",
       "x15       0.4431  0.9818         0.0  0.9860     0.3728  \n",
       "x16       0.2992  0.9772         0.0  0.9741     0.0455  \n",
       "x17       0.0131  0.9953         0.0  0.9655     0.0100  \n",
       "x18       0.1332  0.9718         0.0  0.9816     0.1770  "
      ]
     },
     "execution_count": 13,
     "metadata": {},
     "output_type": "execute_result"
    }
   ],
   "source": [
    "Normal.round(4)"
   ]
  },
  {
   "cell_type": "markdown",
   "metadata": {},
   "source": [
    "### Análise da Normalidade\n",
    "\n",
    "Ao observar os testes de normalidade, considerando a Curtose e Assimetria padronizados (Z_Curtose  Z_Assimetria), a um nível de significância de 0,05, as variáveis x6 e x7 violam a condição de normalidade. Contudo, a um nível de significância de 0,01, apenas a variável X7 viola a condição de normalidade.<br>\n",
    "Considerando o teste K^2 de D’Agostino, as variáveis X6, X7, X10, X13 e X17 violam o pressuposto de normalidade.<br>\n",
    "Considerando o KS, todos as variáveis violam o pressuposto de normalidade.<br>\n",
    "Considerando o W, as variáveis X6, X7, X13 e X17 violam o pressuposto de normalidade.<br>"
   ]
  },
  {
   "cell_type": "markdown",
   "metadata": {},
   "source": [
    "### Transformação da variável x7\n",
    "\n",
    "Executar alguma transformação da variável com o objetivo de atingir a distribuição normal."
   ]
  },
  {
   "cell_type": "code",
   "execution_count": 14,
   "metadata": {},
   "outputs": [],
   "source": [
    "df['x7_log'] = np.log(df['x7'])"
   ]
  },
  {
   "cell_type": "code",
   "execution_count": 100,
   "metadata": {},
   "outputs": [
    {
     "data": {
      "image/png": "[encoded data removed]",
      "text/plain": [
       "<Figure size 1440x360 with 3 Axes>"
      ]
     },
     "metadata": {
      "needs_background": "light"
     },
     "output_type": "display_data"
    }
   ],
   "source": [
    "plt.rcParams[\"figure.figsize\"] = (20,5)\n",
    "fig, axes = plt.subplots(1, 3)\n",
    "df[\"x7_log\"].plot(kind=\"box\", ax=axes[0]).set_ylim(0, 2)\n",
    "df[\"x7_log\"].plot('hist', bins=8, ax=axes[1], xlim=(0, 2), title='X7_log - Atividades de E-Comerce').set_ylim(0, 35)\n",
    "qqplot(df[\"x7_log\"], line='s', ax=axes[2])\n",
    "plt.show()"
   ]
  },
  {
   "cell_type": "code",
   "execution_count": 101,
   "metadata": {},
   "outputs": [],
   "source": [
    "qui, p_value_qui = st.normaltest(df['x7_log'])"
   ]
  },
  {
   "cell_type": "code",
   "execution_count": 102,
   "metadata": {},
   "outputs": [
    {
     "data": {
      "text/plain": [
       "(0.72, 0.698)"
      ]
     },
     "execution_count": 102,
     "metadata": {},
     "output_type": "execute_result"
    }
   ],
   "source": [
    "round(qui,3), round(p_value_qui,3)"
   ]
  },
  {
   "cell_type": "code",
   "execution_count": 103,
   "metadata": {},
   "outputs": [],
   "source": [
    "ks, p_value_ks = st.kstest(df['x7_log'], 'norm')"
   ]
  },
  {
   "cell_type": "code",
   "execution_count": 104,
   "metadata": {},
   "outputs": [
    {
     "data": {
      "text/plain": [
       "(0.800243, 0.0)"
      ]
     },
     "execution_count": 104,
     "metadata": {},
     "output_type": "execute_result"
    }
   ],
   "source": [
    "round(ks,6), round(p_value_ks,6)"
   ]
  },
  {
   "cell_type": "code",
   "execution_count": 105,
   "metadata": {},
   "outputs": [],
   "source": [
    "w, p_value_w = shapiro(df['x7_log'])"
   ]
  },
  {
   "cell_type": "code",
   "execution_count": 106,
   "metadata": {},
   "outputs": [
    {
     "data": {
      "text/plain": [
       "(0.981, 0.150774)"
      ]
     },
     "execution_count": 106,
     "metadata": {},
     "output_type": "execute_result"
    }
   ],
   "source": [
    "round(w,3), round(p_value_w,6)"
   ]
  },
  {
   "cell_type": "markdown",
   "metadata": {},
   "source": [
    "## Correlação entre os Dados\n",
    "\n",
    "Matriz de correlações\n",
    "> - Examinar a matriz de correlações e verificar se existem valores significativos para justificar a utilização da técnica. Caso as correlações entre TODAS as variáveis sejam baixas, talvez a análise fatorial não seja apropriada\n",
    "> - Espera-se que variáveis que apresentam alta correlação tendem a compartilhar o mesmo fator\n",
    "> - A matriz de correlação mede a associação linear entre as variáveis por meio do coeficiente de correlação de Pearson\n",
    "> - Se não houver um número substancial de valores de correlação superiores a 0,30, há fortes indícios de que a utilização da técnica não é apropriada. (HAIR,et all; 2009). Contudo, cabe destacar que depende do tamanho da amostra.\n",
    "\n",
    "A partir deste ponto, utilizar a variável x7 transformada (x7_log) em lugar de x7. "
   ]
  },
  {
   "cell_type": "markdown",
   "metadata": {},
   "source": [
    "### Correlação\n",
    "\n",
    "Calcula a correlação entre pares de variáveis.\n",
    "\n",
    "<p> Função Utilizada: <br>\n",
    "<a href=\"https://pandas.pydata.org/pandas-docs/stable/reference/api/pandas.DataFrame.corr.html\">corr()</a> <br>\n",
    "</p>\n",
    "\n",
    "Contudo, esta função não gera o p-valor (significânca estatísitca)"
   ]
  },
  {
   "cell_type": "code",
   "execution_count": 107,
   "metadata": {},
   "outputs": [
    {
     "data": {
      "text/html": [
       "<div>\n",
       "<style scoped>\n",
       "    .dataframe tbody tr th:only-of-type {\n",
       "        vertical-align: middle;\n",
       "    }\n",
       "\n",
       "    .dataframe tbody tr th {\n",
       "        vertical-align: top;\n",
       "    }\n",
       "\n",
       "    .dataframe thead th {\n",
       "        text-align: right;\n",
       "    }\n",
       "</style>\n",
       "<table border=\"1\" class=\"dataframe\">\n",
       "  <thead>\n",
       "    <tr style=\"text-align: right;\">\n",
       "      <th></th>\n",
       "      <th>x6</th>\n",
       "      <th>x7_log</th>\n",
       "      <th>x8</th>\n",
       "      <th>x9</th>\n",
       "      <th>x10</th>\n",
       "      <th>x11</th>\n",
       "      <th>x12</th>\n",
       "      <th>x13</th>\n",
       "      <th>x14</th>\n",
       "      <th>x15</th>\n",
       "      <th>x16</th>\n",
       "      <th>x17</th>\n",
       "      <th>x18</th>\n",
       "    </tr>\n",
       "  </thead>\n",
       "  <tbody>\n",
       "    <tr>\n",
       "      <th>x6</th>\n",
       "      <td>1.0000</td>\n",
       "      <td>-0.1524</td>\n",
       "      <td>0.0956</td>\n",
       "      <td>0.1064</td>\n",
       "      <td>-0.0535</td>\n",
       "      <td>0.4775</td>\n",
       "      <td>-0.1518</td>\n",
       "      <td>-0.4013</td>\n",
       "      <td>0.0883</td>\n",
       "      <td>0.0270</td>\n",
       "      <td>0.1043</td>\n",
       "      <td>-0.4931</td>\n",
       "      <td>0.0277</td>\n",
       "    </tr>\n",
       "    <tr>\n",
       "      <th>x7_log</th>\n",
       "      <td>-0.1524</td>\n",
       "      <td>1.0000</td>\n",
       "      <td>-0.0107</td>\n",
       "      <td>0.1017</td>\n",
       "      <td>0.4417</td>\n",
       "      <td>-0.0845</td>\n",
       "      <td>0.7835</td>\n",
       "      <td>0.2549</td>\n",
       "      <td>0.0373</td>\n",
       "      <td>-0.0544</td>\n",
       "      <td>0.1367</td>\n",
       "      <td>0.2810</td>\n",
       "      <td>0.1687</td>\n",
       "    </tr>\n",
       "    <tr>\n",
       "      <th>x8</th>\n",
       "      <td>0.0956</td>\n",
       "      <td>-0.0107</td>\n",
       "      <td>1.0000</td>\n",
       "      <td>0.0967</td>\n",
       "      <td>-0.0629</td>\n",
       "      <td>0.1926</td>\n",
       "      <td>0.0170</td>\n",
       "      <td>-0.2708</td>\n",
       "      <td>0.7972</td>\n",
       "      <td>-0.0736</td>\n",
       "      <td>0.0801</td>\n",
       "      <td>-0.1861</td>\n",
       "      <td>0.0254</td>\n",
       "    </tr>\n",
       "    <tr>\n",
       "      <th>x9</th>\n",
       "      <td>0.1064</td>\n",
       "      <td>0.1017</td>\n",
       "      <td>0.0967</td>\n",
       "      <td>1.0000</td>\n",
       "      <td>0.1969</td>\n",
       "      <td>0.5614</td>\n",
       "      <td>0.2298</td>\n",
       "      <td>-0.1280</td>\n",
       "      <td>0.1404</td>\n",
       "      <td>0.0594</td>\n",
       "      <td>0.7569</td>\n",
       "      <td>0.3945</td>\n",
       "      <td>0.8651</td>\n",
       "    </tr>\n",
       "    <tr>\n",
       "      <th>x10</th>\n",
       "      <td>-0.0535</td>\n",
       "      <td>0.4417</td>\n",
       "      <td>-0.0629</td>\n",
       "      <td>0.1969</td>\n",
       "      <td>1.0000</td>\n",
       "      <td>-0.0116</td>\n",
       "      <td>0.5422</td>\n",
       "      <td>0.1342</td>\n",
       "      <td>0.0108</td>\n",
       "      <td>0.0842</td>\n",
       "      <td>0.1842</td>\n",
       "      <td>0.3336</td>\n",
       "      <td>0.2759</td>\n",
       "    </tr>\n",
       "    <tr>\n",
       "      <th>x11</th>\n",
       "      <td>0.4775</td>\n",
       "      <td>-0.0845</td>\n",
       "      <td>0.1926</td>\n",
       "      <td>0.5614</td>\n",
       "      <td>-0.0116</td>\n",
       "      <td>1.0000</td>\n",
       "      <td>-0.0613</td>\n",
       "      <td>-0.4949</td>\n",
       "      <td>0.2731</td>\n",
       "      <td>0.0462</td>\n",
       "      <td>0.4244</td>\n",
       "      <td>-0.3780</td>\n",
       "      <td>0.6019</td>\n",
       "    </tr>\n",
       "    <tr>\n",
       "      <th>x12</th>\n",
       "      <td>-0.1518</td>\n",
       "      <td>0.7835</td>\n",
       "      <td>0.0170</td>\n",
       "      <td>0.2298</td>\n",
       "      <td>0.5422</td>\n",
       "      <td>-0.0613</td>\n",
       "      <td>1.0000</td>\n",
       "      <td>0.2646</td>\n",
       "      <td>0.1075</td>\n",
       "      <td>0.0316</td>\n",
       "      <td>0.1951</td>\n",
       "      <td>0.3522</td>\n",
       "      <td>0.2716</td>\n",
       "    </tr>\n",
       "    <tr>\n",
       "      <th>x13</th>\n",
       "      <td>-0.4013</td>\n",
       "      <td>0.2549</td>\n",
       "      <td>-0.2708</td>\n",
       "      <td>-0.1280</td>\n",
       "      <td>0.1342</td>\n",
       "      <td>-0.4949</td>\n",
       "      <td>0.2646</td>\n",
       "      <td>1.0000</td>\n",
       "      <td>-0.2450</td>\n",
       "      <td>0.0232</td>\n",
       "      <td>-0.1146</td>\n",
       "      <td>0.4711</td>\n",
       "      <td>-0.0729</td>\n",
       "    </tr>\n",
       "    <tr>\n",
       "      <th>x14</th>\n",
       "      <td>0.0883</td>\n",
       "      <td>0.0373</td>\n",
       "      <td>0.7972</td>\n",
       "      <td>0.1404</td>\n",
       "      <td>0.0108</td>\n",
       "      <td>0.2731</td>\n",
       "      <td>0.1075</td>\n",
       "      <td>-0.2450</td>\n",
       "      <td>1.0000</td>\n",
       "      <td>0.0352</td>\n",
       "      <td>0.1971</td>\n",
       "      <td>-0.1703</td>\n",
       "      <td>0.1094</td>\n",
       "    </tr>\n",
       "    <tr>\n",
       "      <th>x15</th>\n",
       "      <td>0.0270</td>\n",
       "      <td>-0.0544</td>\n",
       "      <td>-0.0736</td>\n",
       "      <td>0.0594</td>\n",
       "      <td>0.0842</td>\n",
       "      <td>0.0462</td>\n",
       "      <td>0.0316</td>\n",
       "      <td>0.0232</td>\n",
       "      <td>0.0352</td>\n",
       "      <td>1.0000</td>\n",
       "      <td>0.0685</td>\n",
       "      <td>0.0941</td>\n",
       "      <td>0.1057</td>\n",
       "    </tr>\n",
       "    <tr>\n",
       "      <th>x16</th>\n",
       "      <td>0.1043</td>\n",
       "      <td>0.1367</td>\n",
       "      <td>0.0801</td>\n",
       "      <td>0.7569</td>\n",
       "      <td>0.1842</td>\n",
       "      <td>0.4244</td>\n",
       "      <td>0.1951</td>\n",
       "      <td>-0.1146</td>\n",
       "      <td>0.1971</td>\n",
       "      <td>0.0685</td>\n",
       "      <td>1.0000</td>\n",
       "      <td>0.4070</td>\n",
       "      <td>0.7510</td>\n",
       "    </tr>\n",
       "    <tr>\n",
       "      <th>x17</th>\n",
       "      <td>-0.4931</td>\n",
       "      <td>0.2810</td>\n",
       "      <td>-0.1861</td>\n",
       "      <td>0.3945</td>\n",
       "      <td>0.3336</td>\n",
       "      <td>-0.3780</td>\n",
       "      <td>0.3522</td>\n",
       "      <td>0.4711</td>\n",
       "      <td>-0.1703</td>\n",
       "      <td>0.0941</td>\n",
       "      <td>0.4070</td>\n",
       "      <td>1.0000</td>\n",
       "      <td>0.4967</td>\n",
       "    </tr>\n",
       "    <tr>\n",
       "      <th>x18</th>\n",
       "      <td>0.0277</td>\n",
       "      <td>0.1687</td>\n",
       "      <td>0.0254</td>\n",
       "      <td>0.8651</td>\n",
       "      <td>0.2759</td>\n",
       "      <td>0.6019</td>\n",
       "      <td>0.2716</td>\n",
       "      <td>-0.0729</td>\n",
       "      <td>0.1094</td>\n",
       "      <td>0.1057</td>\n",
       "      <td>0.7510</td>\n",
       "      <td>0.4967</td>\n",
       "      <td>1.0000</td>\n",
       "    </tr>\n",
       "  </tbody>\n",
       "</table>\n",
       "</div>"
      ],
      "text/plain": [
       "            x6  x7_log      x8      x9     x10     x11     x12     x13  \\\n",
       "x6      1.0000 -0.1524  0.0956  0.1064 -0.0535  0.4775 -0.1518 -0.4013   \n",
       "x7_log -0.1524  1.0000 -0.0107  0.1017  0.4417 -0.0845  0.7835  0.2549   \n",
       "x8      0.0956 -0.0107  1.0000  0.0967 -0.0629  0.1926  0.0170 -0.2708   \n",
       "x9      0.1064  0.1017  0.0967  1.0000  0.1969  0.5614  0.2298 -0.1280   \n",
       "x10    -0.0535  0.4417 -0.0629  0.1969  1.0000 -0.0116  0.5422  0.1342   \n",
       "x11     0.4775 -0.0845  0.1926  0.5614 -0.0116  1.0000 -0.0613 -0.4949   \n",
       "x12    -0.1518  0.7835  0.0170  0.2298  0.5422 -0.0613  1.0000  0.2646   \n",
       "x13    -0.4013  0.2549 -0.2708 -0.1280  0.1342 -0.4949  0.2646  1.0000   \n",
       "x14     0.0883  0.0373  0.7972  0.1404  0.0108  0.2731  0.1075 -0.2450   \n",
       "x15     0.0270 -0.0544 -0.0736  0.0594  0.0842  0.0462  0.0316  0.0232   \n",
       "x16     0.1043  0.1367  0.0801  0.7569  0.1842  0.4244  0.1951 -0.1146   \n",
       "x17    -0.4931  0.2810 -0.1861  0.3945  0.3336 -0.3780  0.3522  0.4711   \n",
       "x18     0.0277  0.1687  0.0254  0.8651  0.2759  0.6019  0.2716 -0.0729   \n",
       "\n",
       "           x14     x15     x16     x17     x18  \n",
       "x6      0.0883  0.0270  0.1043 -0.4931  0.0277  \n",
       "x7_log  0.0373 -0.0544  0.1367  0.2810  0.1687  \n",
       "x8      0.7972 -0.0736  0.0801 -0.1861  0.0254  \n",
       "x9      0.1404  0.0594  0.7569  0.3945  0.8651  \n",
       "x10     0.0108  0.0842  0.1842  0.3336  0.2759  \n",
       "x11     0.2731  0.0462  0.4244 -0.3780  0.6019  \n",
       "x12     0.1075  0.0316  0.1951  0.3522  0.2716  \n",
       "x13    -0.2450  0.0232 -0.1146  0.4711 -0.0729  \n",
       "x14     1.0000  0.0352  0.1971 -0.1703  0.1094  \n",
       "x15     0.0352  1.0000  0.0685  0.0941  0.1057  \n",
       "x16     0.1971  0.0685  1.0000  0.4070  0.7510  \n",
       "x17    -0.1703  0.0941  0.4070  1.0000  0.4967  \n",
       "x18     0.1094  0.1057  0.7510  0.4967  1.0000  "
      ]
     },
     "execution_count": 107,
     "metadata": {},
     "output_type": "execute_result"
    }
   ],
   "source": [
    "df[['x6', 'x7_log', 'x8', 'x9', 'x10', 'x11', 'x12', 'x13', 'x14', 'x15', 'x16', 'x17', 'x18']].corr().round(4)"
   ]
  },
  {
   "cell_type": "markdown",
   "metadata": {},
   "source": [
    "### Correlação 1: Outra função para calcular a correlação e Siginficância\n",
    "\n",
    "Calcula a correlação entre pares de variáveis. Contudo, a apresentação não é por matriz.\n",
    "\n",
    "<p> Função Utilizada: <br>\n",
    "<a href=\"https://researchpy.readthedocs.io/en/latest/corr_pair_documentation.html\">corr_pair()</a> <br>\n",
    "</p>\n"
   ]
  },
  {
   "cell_type": "code",
   "execution_count": 108,
   "metadata": {},
   "outputs": [
    {
     "data": {
      "text/html": [
       "<div>\n",
       "<style scoped>\n",
       "    .dataframe tbody tr th:only-of-type {\n",
       "        vertical-align: middle;\n",
       "    }\n",
       "\n",
       "    .dataframe tbody tr th {\n",
       "        vertical-align: top;\n",
       "    }\n",
       "\n",
       "    .dataframe thead th {\n",
       "        text-align: right;\n",
       "    }\n",
       "</style>\n",
       "<table border=\"1\" class=\"dataframe\">\n",
       "  <thead>\n",
       "    <tr style=\"text-align: right;\">\n",
       "      <th></th>\n",
       "      <th>r value</th>\n",
       "      <th>p-value</th>\n",
       "      <th>N</th>\n",
       "    </tr>\n",
       "  </thead>\n",
       "  <tbody>\n",
       "    <tr>\n",
       "      <th>x6 &amp; x7_log</th>\n",
       "      <td>-0.1524</td>\n",
       "      <td>0.1301</td>\n",
       "      <td>100</td>\n",
       "    </tr>\n",
       "    <tr>\n",
       "      <th>x6 &amp; x8</th>\n",
       "      <td>0.0956</td>\n",
       "      <td>0.3441</td>\n",
       "      <td>100</td>\n",
       "    </tr>\n",
       "    <tr>\n",
       "      <th>x6 &amp; x9</th>\n",
       "      <td>0.1064</td>\n",
       "      <td>0.2922</td>\n",
       "      <td>100</td>\n",
       "    </tr>\n",
       "    <tr>\n",
       "      <th>x6 &amp; x10</th>\n",
       "      <td>-0.0535</td>\n",
       "      <td>0.5972</td>\n",
       "      <td>100</td>\n",
       "    </tr>\n",
       "    <tr>\n",
       "      <th>x6 &amp; x11</th>\n",
       "      <td>0.4775</td>\n",
       "      <td>0.0000</td>\n",
       "      <td>100</td>\n",
       "    </tr>\n",
       "    <tr>\n",
       "      <th>x6 &amp; x12</th>\n",
       "      <td>-0.1518</td>\n",
       "      <td>0.1316</td>\n",
       "      <td>100</td>\n",
       "    </tr>\n",
       "    <tr>\n",
       "      <th>x6 &amp; x13</th>\n",
       "      <td>-0.4013</td>\n",
       "      <td>0.0000</td>\n",
       "      <td>100</td>\n",
       "    </tr>\n",
       "    <tr>\n",
       "      <th>x6 &amp; x14</th>\n",
       "      <td>0.0883</td>\n",
       "      <td>0.3823</td>\n",
       "      <td>100</td>\n",
       "    </tr>\n",
       "    <tr>\n",
       "      <th>x6 &amp; x15</th>\n",
       "      <td>0.0270</td>\n",
       "      <td>0.7898</td>\n",
       "      <td>100</td>\n",
       "    </tr>\n",
       "    <tr>\n",
       "      <th>x6 &amp; x16</th>\n",
       "      <td>0.1043</td>\n",
       "      <td>0.3017</td>\n",
       "      <td>100</td>\n",
       "    </tr>\n",
       "    <tr>\n",
       "      <th>x6 &amp; x17</th>\n",
       "      <td>-0.4931</td>\n",
       "      <td>0.0000</td>\n",
       "      <td>100</td>\n",
       "    </tr>\n",
       "    <tr>\n",
       "      <th>x6 &amp; x18</th>\n",
       "      <td>0.0277</td>\n",
       "      <td>0.7843</td>\n",
       "      <td>100</td>\n",
       "    </tr>\n",
       "    <tr>\n",
       "      <th>x7_log &amp; x8</th>\n",
       "      <td>-0.0107</td>\n",
       "      <td>0.9157</td>\n",
       "      <td>100</td>\n",
       "    </tr>\n",
       "    <tr>\n",
       "      <th>x7_log &amp; x9</th>\n",
       "      <td>0.1017</td>\n",
       "      <td>0.3138</td>\n",
       "      <td>100</td>\n",
       "    </tr>\n",
       "    <tr>\n",
       "      <th>x7_log &amp; x10</th>\n",
       "      <td>0.4417</td>\n",
       "      <td>0.0000</td>\n",
       "      <td>100</td>\n",
       "    </tr>\n",
       "    <tr>\n",
       "      <th>x7_log &amp; x11</th>\n",
       "      <td>-0.0845</td>\n",
       "      <td>0.4031</td>\n",
       "      <td>100</td>\n",
       "    </tr>\n",
       "    <tr>\n",
       "      <th>x7_log &amp; x12</th>\n",
       "      <td>0.7835</td>\n",
       "      <td>0.0000</td>\n",
       "      <td>100</td>\n",
       "    </tr>\n",
       "    <tr>\n",
       "      <th>x7_log &amp; x13</th>\n",
       "      <td>0.2549</td>\n",
       "      <td>0.0105</td>\n",
       "      <td>100</td>\n",
       "    </tr>\n",
       "    <tr>\n",
       "      <th>x7_log &amp; x14</th>\n",
       "      <td>0.0373</td>\n",
       "      <td>0.7128</td>\n",
       "      <td>100</td>\n",
       "    </tr>\n",
       "    <tr>\n",
       "      <th>x7_log &amp; x15</th>\n",
       "      <td>-0.0544</td>\n",
       "      <td>0.5907</td>\n",
       "      <td>100</td>\n",
       "    </tr>\n",
       "    <tr>\n",
       "      <th>x7_log &amp; x16</th>\n",
       "      <td>0.1367</td>\n",
       "      <td>0.1750</td>\n",
       "      <td>100</td>\n",
       "    </tr>\n",
       "    <tr>\n",
       "      <th>x7_log &amp; x17</th>\n",
       "      <td>0.2810</td>\n",
       "      <td>0.0046</td>\n",
       "      <td>100</td>\n",
       "    </tr>\n",
       "    <tr>\n",
       "      <th>x7_log &amp; x18</th>\n",
       "      <td>0.1687</td>\n",
       "      <td>0.0934</td>\n",
       "      <td>100</td>\n",
       "    </tr>\n",
       "    <tr>\n",
       "      <th>x8 &amp; x9</th>\n",
       "      <td>0.0967</td>\n",
       "      <td>0.3387</td>\n",
       "      <td>100</td>\n",
       "    </tr>\n",
       "    <tr>\n",
       "      <th>x8 &amp; x10</th>\n",
       "      <td>-0.0629</td>\n",
       "      <td>0.5343</td>\n",
       "      <td>100</td>\n",
       "    </tr>\n",
       "    <tr>\n",
       "      <th>x8 &amp; x11</th>\n",
       "      <td>0.1926</td>\n",
       "      <td>0.0549</td>\n",
       "      <td>100</td>\n",
       "    </tr>\n",
       "    <tr>\n",
       "      <th>x8 &amp; x12</th>\n",
       "      <td>0.0170</td>\n",
       "      <td>0.8668</td>\n",
       "      <td>100</td>\n",
       "    </tr>\n",
       "    <tr>\n",
       "      <th>x8 &amp; x13</th>\n",
       "      <td>-0.2708</td>\n",
       "      <td>0.0064</td>\n",
       "      <td>100</td>\n",
       "    </tr>\n",
       "    <tr>\n",
       "      <th>x8 &amp; x14</th>\n",
       "      <td>0.7972</td>\n",
       "      <td>0.0000</td>\n",
       "      <td>100</td>\n",
       "    </tr>\n",
       "    <tr>\n",
       "      <th>x8 &amp; x15</th>\n",
       "      <td>-0.0736</td>\n",
       "      <td>0.4669</td>\n",
       "      <td>100</td>\n",
       "    </tr>\n",
       "    <tr>\n",
       "      <th>...</th>\n",
       "      <td>...</td>\n",
       "      <td>...</td>\n",
       "      <td>...</td>\n",
       "    </tr>\n",
       "    <tr>\n",
       "      <th>x10 &amp; x17</th>\n",
       "      <td>0.3336</td>\n",
       "      <td>0.0007</td>\n",
       "      <td>100</td>\n",
       "    </tr>\n",
       "    <tr>\n",
       "      <th>x10 &amp; x18</th>\n",
       "      <td>0.2759</td>\n",
       "      <td>0.0055</td>\n",
       "      <td>100</td>\n",
       "    </tr>\n",
       "    <tr>\n",
       "      <th>x11 &amp; x12</th>\n",
       "      <td>-0.0613</td>\n",
       "      <td>0.5445</td>\n",
       "      <td>100</td>\n",
       "    </tr>\n",
       "    <tr>\n",
       "      <th>x11 &amp; x13</th>\n",
       "      <td>-0.4949</td>\n",
       "      <td>0.0000</td>\n",
       "      <td>100</td>\n",
       "    </tr>\n",
       "    <tr>\n",
       "      <th>x11 &amp; x14</th>\n",
       "      <td>0.2731</td>\n",
       "      <td>0.0060</td>\n",
       "      <td>100</td>\n",
       "    </tr>\n",
       "    <tr>\n",
       "      <th>x11 &amp; x15</th>\n",
       "      <td>0.0462</td>\n",
       "      <td>0.6483</td>\n",
       "      <td>100</td>\n",
       "    </tr>\n",
       "    <tr>\n",
       "      <th>x11 &amp; x16</th>\n",
       "      <td>0.4244</td>\n",
       "      <td>0.0000</td>\n",
       "      <td>100</td>\n",
       "    </tr>\n",
       "    <tr>\n",
       "      <th>x11 &amp; x17</th>\n",
       "      <td>-0.3780</td>\n",
       "      <td>0.0001</td>\n",
       "      <td>100</td>\n",
       "    </tr>\n",
       "    <tr>\n",
       "      <th>x11 &amp; x18</th>\n",
       "      <td>0.6019</td>\n",
       "      <td>0.0000</td>\n",
       "      <td>100</td>\n",
       "    </tr>\n",
       "    <tr>\n",
       "      <th>x12 &amp; x13</th>\n",
       "      <td>0.2646</td>\n",
       "      <td>0.0078</td>\n",
       "      <td>100</td>\n",
       "    </tr>\n",
       "    <tr>\n",
       "      <th>x12 &amp; x14</th>\n",
       "      <td>0.1075</td>\n",
       "      <td>0.2873</td>\n",
       "      <td>100</td>\n",
       "    </tr>\n",
       "    <tr>\n",
       "      <th>x12 &amp; x15</th>\n",
       "      <td>0.0316</td>\n",
       "      <td>0.7547</td>\n",
       "      <td>100</td>\n",
       "    </tr>\n",
       "    <tr>\n",
       "      <th>x12 &amp; x16</th>\n",
       "      <td>0.1951</td>\n",
       "      <td>0.0517</td>\n",
       "      <td>100</td>\n",
       "    </tr>\n",
       "    <tr>\n",
       "      <th>x12 &amp; x17</th>\n",
       "      <td>0.3522</td>\n",
       "      <td>0.0003</td>\n",
       "      <td>100</td>\n",
       "    </tr>\n",
       "    <tr>\n",
       "      <th>x12 &amp; x18</th>\n",
       "      <td>0.2716</td>\n",
       "      <td>0.0063</td>\n",
       "      <td>100</td>\n",
       "    </tr>\n",
       "    <tr>\n",
       "      <th>x13 &amp; x14</th>\n",
       "      <td>-0.2450</td>\n",
       "      <td>0.0140</td>\n",
       "      <td>100</td>\n",
       "    </tr>\n",
       "    <tr>\n",
       "      <th>x13 &amp; x15</th>\n",
       "      <td>0.0232</td>\n",
       "      <td>0.8191</td>\n",
       "      <td>100</td>\n",
       "    </tr>\n",
       "    <tr>\n",
       "      <th>x13 &amp; x16</th>\n",
       "      <td>-0.1146</td>\n",
       "      <td>0.2564</td>\n",
       "      <td>100</td>\n",
       "    </tr>\n",
       "    <tr>\n",
       "      <th>x13 &amp; x17</th>\n",
       "      <td>0.4711</td>\n",
       "      <td>0.0000</td>\n",
       "      <td>100</td>\n",
       "    </tr>\n",
       "    <tr>\n",
       "      <th>x13 &amp; x18</th>\n",
       "      <td>-0.0729</td>\n",
       "      <td>0.4712</td>\n",
       "      <td>100</td>\n",
       "    </tr>\n",
       "    <tr>\n",
       "      <th>x14 &amp; x15</th>\n",
       "      <td>0.0352</td>\n",
       "      <td>0.7281</td>\n",
       "      <td>100</td>\n",
       "    </tr>\n",
       "    <tr>\n",
       "      <th>x14 &amp; x16</th>\n",
       "      <td>0.1971</td>\n",
       "      <td>0.0494</td>\n",
       "      <td>100</td>\n",
       "    </tr>\n",
       "    <tr>\n",
       "      <th>x14 &amp; x17</th>\n",
       "      <td>-0.1703</td>\n",
       "      <td>0.0904</td>\n",
       "      <td>100</td>\n",
       "    </tr>\n",
       "    <tr>\n",
       "      <th>x14 &amp; x18</th>\n",
       "      <td>0.1094</td>\n",
       "      <td>0.2786</td>\n",
       "      <td>100</td>\n",
       "    </tr>\n",
       "    <tr>\n",
       "      <th>x15 &amp; x16</th>\n",
       "      <td>0.0685</td>\n",
       "      <td>0.4980</td>\n",
       "      <td>100</td>\n",
       "    </tr>\n",
       "    <tr>\n",
       "      <th>x15 &amp; x17</th>\n",
       "      <td>0.0941</td>\n",
       "      <td>0.3516</td>\n",
       "      <td>100</td>\n",
       "    </tr>\n",
       "    <tr>\n",
       "      <th>x15 &amp; x18</th>\n",
       "      <td>0.1057</td>\n",
       "      <td>0.2950</td>\n",
       "      <td>100</td>\n",
       "    </tr>\n",
       "    <tr>\n",
       "      <th>x16 &amp; x17</th>\n",
       "      <td>0.4070</td>\n",
       "      <td>0.0000</td>\n",
       "      <td>100</td>\n",
       "    </tr>\n",
       "    <tr>\n",
       "      <th>x16 &amp; x18</th>\n",
       "      <td>0.7510</td>\n",
       "      <td>0.0000</td>\n",
       "      <td>100</td>\n",
       "    </tr>\n",
       "    <tr>\n",
       "      <th>x17 &amp; x18</th>\n",
       "      <td>0.4967</td>\n",
       "      <td>0.0000</td>\n",
       "      <td>100</td>\n",
       "    </tr>\n",
       "  </tbody>\n",
       "</table>\n",
       "<p>78 rows × 3 columns</p>\n",
       "</div>"
      ],
      "text/plain": [
       "              r value p-value    N\n",
       "x6 & x7_log   -0.1524  0.1301  100\n",
       "x6 & x8        0.0956  0.3441  100\n",
       "x6 & x9        0.1064  0.2922  100\n",
       "x6 & x10      -0.0535  0.5972  100\n",
       "x6 & x11       0.4775  0.0000  100\n",
       "x6 & x12      -0.1518  0.1316  100\n",
       "x6 & x13      -0.4013  0.0000  100\n",
       "x6 & x14       0.0883  0.3823  100\n",
       "x6 & x15       0.0270  0.7898  100\n",
       "x6 & x16       0.1043  0.3017  100\n",
       "x6 & x17      -0.4931  0.0000  100\n",
       "x6 & x18       0.0277  0.7843  100\n",
       "x7_log & x8   -0.0107  0.9157  100\n",
       "x7_log & x9    0.1017  0.3138  100\n",
       "x7_log & x10   0.4417  0.0000  100\n",
       "x7_log & x11  -0.0845  0.4031  100\n",
       "x7_log & x12   0.7835  0.0000  100\n",
       "x7_log & x13   0.2549  0.0105  100\n",
       "x7_log & x14   0.0373  0.7128  100\n",
       "x7_log & x15  -0.0544  0.5907  100\n",
       "x7_log & x16   0.1367  0.1750  100\n",
       "x7_log & x17   0.2810  0.0046  100\n",
       "x7_log & x18   0.1687  0.0934  100\n",
       "x8 & x9        0.0967  0.3387  100\n",
       "x8 & x10      -0.0629  0.5343  100\n",
       "x8 & x11       0.1926  0.0549  100\n",
       "x8 & x12       0.0170  0.8668  100\n",
       "x8 & x13      -0.2708  0.0064  100\n",
       "x8 & x14       0.7972  0.0000  100\n",
       "x8 & x15      -0.0736  0.4669  100\n",
       "...               ...     ...  ...\n",
       "x10 & x17      0.3336  0.0007  100\n",
       "x10 & x18      0.2759  0.0055  100\n",
       "x11 & x12     -0.0613  0.5445  100\n",
       "x11 & x13     -0.4949  0.0000  100\n",
       "x11 & x14      0.2731  0.0060  100\n",
       "x11 & x15      0.0462  0.6483  100\n",
       "x11 & x16      0.4244  0.0000  100\n",
       "x11 & x17     -0.3780  0.0001  100\n",
       "x11 & x18      0.6019  0.0000  100\n",
       "x12 & x13      0.2646  0.0078  100\n",
       "x12 & x14      0.1075  0.2873  100\n",
       "x12 & x15      0.0316  0.7547  100\n",
       "x12 & x16      0.1951  0.0517  100\n",
       "x12 & x17      0.3522  0.0003  100\n",
       "x12 & x18      0.2716  0.0063  100\n",
       "x13 & x14     -0.2450  0.0140  100\n",
       "x13 & x15      0.0232  0.8191  100\n",
       "x13 & x16     -0.1146  0.2564  100\n",
       "x13 & x17      0.4711  0.0000  100\n",
       "x13 & x18     -0.0729  0.4712  100\n",
       "x14 & x15      0.0352  0.7281  100\n",
       "x14 & x16      0.1971  0.0494  100\n",
       "x14 & x17     -0.1703  0.0904  100\n",
       "x14 & x18      0.1094  0.2786  100\n",
       "x15 & x16      0.0685  0.4980  100\n",
       "x15 & x17      0.0941  0.3516  100\n",
       "x15 & x18      0.1057  0.2950  100\n",
       "x16 & x17      0.4070  0.0000  100\n",
       "x16 & x18      0.7510  0.0000  100\n",
       "x17 & x18      0.4967  0.0000  100\n",
       "\n",
       "[78 rows x 3 columns]"
      ]
     },
     "execution_count": 108,
     "metadata": {},
     "output_type": "execute_result"
    }
   ],
   "source": [
    "rs.correlation.corr_pair(df[['x6', 'x7_log', 'x8', 'x9', 'x10', 'x11', 'x12', 'x13', 'x14', 'x15', 'x16', 'x17', 'x18']])"
   ]
  },
  {
   "cell_type": "markdown",
   "metadata": {},
   "source": [
    "### Correlação 2: Outra função para calcular a correlação e Siginficância\n",
    "\n",
    "Calcula a correlação entre pares de variáveis. Contudo, a apresentação não é por matriz.\n",
    "\n",
    "<p> Função Utilizada: <br>\n",
    "<a href=\"https://docs.scipy.org/doc/scipy/reference/generated/scipy.stats.pearsonr.html\">pearsonr()</a> <br>\n",
    "</p>\n"
   ]
  },
  {
   "cell_type": "code",
   "execution_count": 15,
   "metadata": {},
   "outputs": [],
   "source": [
    "r = st.pearsonr(df[\"x6\"], df[\"x7_log\"])[0].round(4)"
   ]
  },
  {
   "cell_type": "code",
   "execution_count": 16,
   "metadata": {},
   "outputs": [
    {
     "data": {
      "text/plain": [
       "-0.1524"
      ]
     },
     "execution_count": 16,
     "metadata": {},
     "output_type": "execute_result"
    }
   ],
   "source": [
    "r"
   ]
  },
  {
   "cell_type": "code",
   "execution_count": 111,
   "metadata": {},
   "outputs": [],
   "source": [
    "p_value_r = st.pearsonr(df[\"x6\"], df[\"x7_log\"])[1].round(4)"
   ]
  },
  {
   "cell_type": "code",
   "execution_count": 112,
   "metadata": {},
   "outputs": [
    {
     "data": {
      "text/plain": [
       "0.1301"
      ]
     },
     "execution_count": 112,
     "metadata": {},
     "output_type": "execute_result"
    }
   ],
   "source": [
    "p_value_r"
   ]
  },
  {
   "cell_type": "markdown",
   "metadata": {},
   "source": [
    "### Correlação - Análise\n",
    "\n",
    "Observando as correlações entre os pares de variáveis, é possível constatar que existe correlação estatisticamente significante entre vários pares, o que permite prosseguir com a análise fatorial.\n"
   ]
  },
  {
   "cell_type": "markdown",
   "metadata": {},
   "source": [
    "### Teste de Esfericidade de Bartlett\n",
    "\n",
    "> - Avalia a hipótese ( 𝐻_0) de que a matriz das correlações pode ser a matriz identidade com determinante igual a 1\n",
    "> - Se 𝐻_0 não é rejeitada, as inter-relações entre as variáveis são iguais a 0. As variáveis não estão correlacionadas.  A utilização da AF não é adequado.\n",
    "> - As variáveis devem apresentar normalidade multivariada.\n",
    "\n"
   ]
  },
  {
   "cell_type": "markdown",
   "metadata": {},
   "source": [
    "<img src=\"data:image/png;base64,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\" align='center' width=250px;>"
   ]
  },
  {
   "cell_type": "markdown",
   "metadata": {},
   "source": [
    "<p> Função Utilizada: <br>\n",
    "<a href=\"https://factor-analyzer.readthedocs.io/en/latest/factor_analyzer.html#factor_analyzer.factor_analyzer.calculate_bartlett_sphericity\">bartlett</a> <br>\n",
    "</p>\n"
   ]
  },
  {
   "cell_type": "code",
   "execution_count": 113,
   "metadata": {},
   "outputs": [
    {
     "name": "stdout",
     "output_type": "stream",
     "text": [
      "Qui_Quadrado:  961.721\n",
      "p_valor:  0.0\n"
     ]
    }
   ],
   "source": [
    "chi_square_value,p_value = bartlett(df[['x6', 'x7_log', 'x8', 'x9', 'x10', 'x11', 'x12', 'x13', 'x14', 'x15', 'x16', 'x17', 'x18']])\n",
    "print('Qui_Quadrado: ', chi_square_value.round(3))\n",
    "print('p_valor: ', p_value.round(3))"
   ]
  },
  {
   "cell_type": "markdown",
   "metadata": {},
   "source": [
    "### Análise\n",
    "\n",
    "Teste de esfericidade de Bartlett testa a hipótese de a matriz das correlações ser a matriz identidade (determinante igual a 1)\n",
    "> - p-value = 0,000\n",
    "> - Conduz à rejeição da hipótese de a matriz de correlações ser a matriz identidade, evidenciando a correlação entre as variáveis\n"
   ]
  },
  {
   "cell_type": "markdown",
   "metadata": {},
   "source": [
    "### KMO\n",
    "\n",
    "> KMO – Kaiser-Meyer-Olkin (KMO)\n",
    ">> - Compara as correlações simples com as correlações parciais\n",
    ">> - Avalia a adequação da amostra quanto ao grau de correlação parcial entre as variáveis:"
   ]
  },
  {
   "cell_type": "markdown",
   "metadata": {},
   "source": [
    "<img src=\"data:image/png;base64,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\" align='center' width=250px;>\n",
    "\n",
    "<img src=\"data:image/png;base64,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\" align='center' width=250px;>"
   ]
  },
  {
   "cell_type": "markdown",
   "metadata": {},
   "source": [
    "### MSA\n",
    "\n",
    "> - É uma forma de obter indícios acerca da necessidade de eliminação de determinada variável do modelo;\n",
    "> - Calcula-se uma Medida de Adequação da Amostra (Measure of Sampling Adequacy – MSA), para cada variável. Inclui apenas os coeficientes que se deseja analisar\n",
    "> - Quanto maior os valores, melhor a utilização da AF.\n",
    "> - Baixo valore pode sugerir a exclusão da variável do modelo.\n"
   ]
  },
  {
   "cell_type": "markdown",
   "metadata": {},
   "source": [
    "<img src=\"data:image/png;base64,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\" align='center' width=250px;>"
   ]
  },
  {
   "cell_type": "markdown",
   "metadata": {},
   "source": [
    "<p> Função Utilizada: <br>\n",
    "<a href=\"https://factor-analyzer.readthedocs.io/en/latest/factor_analyzer.html#factor_analyzer.factor_analyzer.calculate_kmo\">kmo</a> <br>\n",
    "</p>\n"
   ]
  },
  {
   "cell_type": "code",
   "execution_count": 114,
   "metadata": {},
   "outputs": [],
   "source": [
    "MSA,kmo_model=kmo(df[['x6', 'x7_log', 'x8', 'x9', 'x10', 'x11', 'x12', 'x13', 'x14', 'x15', 'x16', 'x17', 'x18']])"
   ]
  },
  {
   "cell_type": "code",
   "execution_count": 115,
   "metadata": {},
   "outputs": [
    {
     "name": "stdout",
     "output_type": "stream",
     "text": [
      "KMO:  0.6\n"
     ]
    }
   ],
   "source": [
    "print('KMO: ', kmo_model.round(3))"
   ]
  },
  {
   "cell_type": "code",
   "execution_count": 116,
   "metadata": {},
   "outputs": [
    {
     "data": {
      "text/plain": [
       "array([0.87318017, 0.60095215, 0.52146852, 0.86993297, 0.81748175,\n",
       "       0.44095568, 0.57384717, 0.88253217, 0.52307576, 0.28024801,\n",
       "       0.85143205, 0.43583089, 0.52607417])"
      ]
     },
     "execution_count": 116,
     "metadata": {},
     "output_type": "execute_result"
    }
   ],
   "source": [
    "MSA"
   ]
  },
  {
   "cell_type": "code",
   "execution_count": 117,
   "metadata": {},
   "outputs": [
    {
     "name": "stdout",
     "output_type": "stream",
     "text": [
      "MSA\n",
      "x6 :  0.873\n",
      "x7_log :  0.601\n",
      "x8 :  0.521\n",
      "x9 :  0.87\n",
      "x10 :  0.817\n",
      "x11 :  0.441\n",
      "x12 :  0.574\n",
      "x13 :  0.883\n",
      "x14 :  0.523\n",
      "x15 :  0.28\n",
      "x16 :  0.851\n",
      "x17 :  0.436\n",
      "x18 :  0.526\n"
     ]
    }
   ],
   "source": [
    "# Impressão dos valores do MSA\n",
    "print('MSA')\n",
    "variaveis = ['x6', 'x7_log', 'x8', 'x9', 'x10', 'x11', 'x12', 'x13', 'x14', 'x15', 'x16', 'x17', 'x18']\n",
    "i = 0\n",
    "while i < len(variaveis):\n",
    "    print(variaveis[i], ': ', round(MSA[i],3))\n",
    "    i +=1"
   ]
  },
  {
   "cell_type": "markdown",
   "metadata": {},
   "source": [
    "### Análise - KMO / MSA\n",
    "\n",
    "KMO: \n",
    "> Varia entre 0 e 1, compara as correlações simples com as parciais observadas entre as variáveis\n",
    "> KMO = 0,6 tora razoável a aplicação da AF, de acordo com quadro de referência apresentado anteriormente\n",
    "\n",
    "MSA: \n",
    "> - Valores abaixo de 0,5 indicam que a variável pode não se ajustar à estrutura definida pelas outras variáveis e, portanto, poderá ser eliminada. Neste caso, elimina-se a variável com MSA mais baixo e recalcula-se as estatísticas de ajuste. Caso o MSA de alguma variável ainda continue abaixo de 0,5, repete-se o procedimento.<br> \n",
    "> - Neste caso, a primeira variável a ser eliminada seria a x15, com MSA = 0,28<br> \n",
    "> - Opcionalmente, ao invés de eliminar a variável, pode-se deixá-la e observar a sua comunalidade. Se for alta, poderá representar sozinha um fator.\n"
   ]
  },
  {
   "cell_type": "markdown",
   "metadata": {},
   "source": [
    "_______________________________________________________________________________________________________________________________________________\n",
    "_______________________________________________________________________________________________________________________________________________\n",
    "## Análise Fatorial - Ajuste do Modelo\n",
    "\n",
    "Análise Fatorial Exploratoria (AFE) é uma técnica estatística utilizada para identificar relacionamentos latentes a partir de um conjunto de variáveis observáveis.\n",
    "\n",
    " \n",
    "<p> Biblioteca utilizada:: <br>\n",
    "<a href=\"https://factor-analyzer.readthedocs.io/en/latest/factor_analyzer.html#factor_analyzer.factor_analyzer.FactorAnalyzer\">factor-analyzer</a> <br>\n",
    "</p>"
   ]
  },
  {
   "cell_type": "markdown",
   "metadata": {},
   "source": [
    "Em princípio, a proposta é de retenção de 5 fatores. Contudo, após a execução é necessário avaliar o número recomendado e, caso necessário, executar novamente com o número de fatores edequado.<br>\n",
    "Os outros parâmetros foram **rotação varimax** e extração os fatores por **Componentes Princiapias**\n",
    "\n",
    "<p> Função Utilizada: <br>\n",
    "<a href=\"https://factor-analyzer.readthedocs.io/en/latest/factor_analyzer.html#factor_analyzer.factor_analyzer.FactorAnalyzer\">FactorAnalyzer</a> <br>\n",
    "</p>\n"
   ]
  },
  {
   "cell_type": "code",
   "execution_count": 118,
   "metadata": {},
   "outputs": [
    {
     "data": {
      "text/plain": [
       "FactorAnalyzer(bounds=(0.005, 1), impute='median', is_corr_matrix=False,\n",
       "        method='principal', n_factors=5, rotation='varimax',\n",
       "        rotation_kwargs={}, use_smc=True)"
      ]
     },
     "execution_count": 118,
     "metadata": {},
     "output_type": "execute_result"
    }
   ],
   "source": [
    "fea = fa(rotation='varimax',n_factors=5, method='principal')\n",
    "fea.fit(df[['x6', 'x7_log', 'x8', 'x9', 'x10', 'x11', 'x12', 'x13', 'x14', 'x15', 'x16', 'x17', 'x18']])"
   ]
  },
  {
   "cell_type": "markdown",
   "metadata": {},
   "source": [
    "### Comunalidade\n",
    "\n",
    "> - Comunalidade: Parcela da variância de 𝑋_𝑖que é explicada pelos fatores comuns.\n",
    "\n",
    "> - Especificidade: Parcela de variância de 𝑋_𝑖 que não é explicada pelos fatores\n",
    "\n",
    "> - A comunalidade é um índice da variabilidade total explicada por todos os fatores para cada variável\n",
    "\n",
    "> - Comunalidade + Especificidade = 1\n",
    "\n",
    "\n",
    "<p> Função Utilizada: <br>\n",
    "<a href=\"https://factor-analyzer.readthedocs.io/en/latest/factor_analyzer.html#factor_analyzer.factor_analyzer.FactorAnalyzer.get_communalities\">get_communalities</a> <br>\n",
    "</p>\n"
   ]
  },
  {
   "cell_type": "code",
   "execution_count": 119,
   "metadata": {},
   "outputs": [],
   "source": [
    "comunalidade = fea.get_communalities().round(3)"
   ]
  },
  {
   "cell_type": "code",
   "execution_count": 120,
   "metadata": {},
   "outputs": [
    {
     "data": {
      "text/plain": [
       "array([0.687, 0.804, 0.893, 0.882, 0.591, 0.841, 0.852, 0.592, 0.901,\n",
       "       0.975, 0.772, 0.891, 0.925])"
      ]
     },
     "execution_count": 120,
     "metadata": {},
     "output_type": "execute_result"
    }
   ],
   "source": [
    "comunalidade"
   ]
  },
  {
   "cell_type": "code",
   "execution_count": 121,
   "metadata": {},
   "outputs": [
    {
     "name": "stdout",
     "output_type": "stream",
     "text": [
      "Comunalidades\n",
      "x6 :  0.687\n",
      "x7_log :  0.804\n",
      "x8 :  0.893\n",
      "x9 :  0.882\n",
      "x10 :  0.591\n",
      "x11 :  0.841\n",
      "x12 :  0.852\n",
      "x13 :  0.592\n",
      "x14 :  0.901\n",
      "x15 :  0.975\n",
      "x16 :  0.772\n",
      "x17 :  0.891\n",
      "x18 :  0.925\n"
     ]
    }
   ],
   "source": [
    "# Impressão dos valores do MSA\n",
    "print('Comunalidades')\n",
    "variaveis = ['x6', 'x7_log', 'x8', 'x9', 'x10', 'x11', 'x12', 'x13', 'x14', 'x15', 'x16', 'x17', 'x18']\n",
    "i = 0\n",
    "while i < len(variaveis):\n",
    "    print(variaveis[i], ': ', round(comunalidade[i],3))\n",
    "    i +=1"
   ]
  },
  {
   "cell_type": "markdown",
   "metadata": {},
   "source": [
    "### Análise - Comunalidade\n",
    "\n",
    "> - A comunalidade representa a variância total explicada pelos fatores em cada variável. A comunalidade inicial é igual a 1 e, após a extração, variam entre 0 e 1. <br>\n",
    "> - Neste caso, todas as variáveis possuem forte relação com os fatores retidos pois as comunalidades são altas.\n",
    "\n"
   ]
  },
  {
   "cell_type": "markdown",
   "metadata": {},
   "source": [
    "### Autovalores e Fatores Retidos\n",
    "\n",
    "> - Critério da raiz latente:<br>\n",
    ">> - Apenas fatores que têm autovalores (eigenvalues) maiores que 1 são considerados significantes, os demais são descartados; Isto porque, no mínimo, o componente deve explicar a variância de uma variável utilizada no modelo (média 0 e desvio 1)<br>\n",
    ">> - Os eigenvalues mostram a variância explicada por cada fator, ou seja, quanto cada fator consegue explicar da variância total<br>\n",
    "\n",
    "\n",
    "<p> Função Utilizada: <br>\n",
    "<a href=\"https://factor-analyzer.readthedocs.io/en/latest/factor_analyzer.html#factor_analyzer.factor_analyzer.FactorAnalyzer.get_eigenvalues\">get_eigenvalues</a> <br>\n",
    "<a href=\"https://factor-analyzer.readthedocs.io/en/latest/factor_analyzer.html#factor_analyzer.factor_analyzer.FactorAnalyzer.get_factor_variance\">get_factor_variance</a> <br></p>\n",
    "\n",
    "\n"
   ]
  },
  {
   "cell_type": "code",
   "execution_count": 122,
   "metadata": {},
   "outputs": [],
   "source": [
    "ev, v = fea.get_eigenvalues()"
   ]
  },
  {
   "cell_type": "code",
   "execution_count": 123,
   "metadata": {},
   "outputs": [],
   "source": [
    "autovalor, var, var_acum = fea.get_factor_variance()"
   ]
  },
  {
   "cell_type": "code",
   "execution_count": 124,
   "metadata": {},
   "outputs": [
    {
     "name": "stdout",
     "output_type": "stream",
     "text": [
      "         Variância Total Explicada\n",
      "Componente | Auovalor | Variância(%) | Variância Acum. | Autovalor Rotacionado | Variância Rotacionada | Variância Acum. Rot\n",
      "1            3.545      27.271         27.271           3.14                     24.156                   24.156\n",
      "2            3.024      23.263         50.533           2.305                     17.728                   41.884\n",
      "3            1.742      13.402         63.935           2.264                     17.412                   59.296\n",
      "4            1.285      9.887         73.822           1.864                     14.336                   73.632\n",
      "5            1.009      7.764         81.586           1.034                     7.954                   81.586\n",
      "6            0.608      4.673          86.259\n",
      "7            0.546      4.198          90.457\n",
      "8            0.446      3.428          93.885\n",
      "9            0.282      2.167          96.052\n",
      "10            0.209      1.611          97.663\n",
      "11            0.168      1.289          98.951\n",
      "12            0.127      0.98          99.931\n",
      "13            0.009      0.069          100.0\n"
     ]
    }
   ],
   "source": [
    "# Impressão dos autovalores originais, variância original, autovalores rotacionados e variância rotacionada\n",
    "print('         Variância Total Explicada')\n",
    "\n",
    "print('Componente', '| Auovalor', '| Variância(%)', '| Variância Acum.', '| Autovalor Rotacionado', '| Variância Rotacionada', '| Variância Acum. Rot')\n",
    "variaveis = ['x6', 'x7_log', 'x8', 'x9', 'x10', 'x11', 'x12', 'x13', 'x14', 'x15', 'x16', 'x17', 'x18']\n",
    "i = 0\n",
    "var_acum1 = 0\n",
    "while i < len(variaveis):\n",
    "    var_acum1 += ev[i]/len(variaveis)\n",
    "    if i < len(autovalor):\n",
    "        print(i+1, '          ', round(ev[i],3), '    ', round(ev[i]/len(variaveis) * 100,3), '       ', round(var_acum1 * 100,3),'         ', \n",
    "              round(autovalor[i], 3), '                   ', round(var[i]*100, 3), '                 ', round(var_acum[i]*100, 3) )\n",
    "    else:\n",
    "        print(i+1, '          ', round(ev[i],3),'    ',  round(ev[i]/len(variaveis) * 100,3), '        ', round(var_acum1 * 100,3) )\n",
    "    i +=1"
   ]
  },
  {
   "cell_type": "markdown",
   "metadata": {},
   "source": [
    "### Análise - Fatores Retidos e Variância Explicada\n",
    "\n",
    "> - Com base regra de retenção de fatores com valores superiores a 1, foram retidos 5 fatores que conseguem explicar 81,586% da variância dos dados originais.<br> \n",
    "> - Antes da rotação, o primeiro componente explica 27,271% da variância dos dados e após a rotação, 24,156%. <br>\n",
    "> - A tabela mostra também o percentual da variância explicada por fator antes e depois da rotação\n",
    "\n",
    "\n"
   ]
  },
  {
   "cell_type": "markdown",
   "metadata": {},
   "source": [
    "### Fatores Retidos - Scree Plot\n",
    "\n",
    "> - Critério do Gráfico Scree:\n",
    ">> - Esse teste é usado para identificar o número ótimo de fatores que podem ser extraídos antes que a quantia de variância única comece a dominar a estrutura de variância comum.\n",
    ">> - Raiz latente, ou eigenvalues, no eixo Y e o número de fatores no eixo X, de acordo com a ordem de extração. A partir do ponto que o gráfico passa a se tornar mais horizontal, reflete um indicativo do número máximo de fatores a serem extraídos.\n",
    ">> - Neste caso, reforça a retenção dos 5 fatores. \n",
    "\n"
   ]
  },
  {
   "cell_type": "code",
   "execution_count": 125,
   "metadata": {},
   "outputs": [
    {
     "data": {
      "image/png": "[encoded data removed]",
      "text/plain": [
       "<Figure size 1440x360 with 1 Axes>"
      ]
     },
     "metadata": {
      "needs_background": "light"
     },
     "output_type": "display_data"
    }
   ],
   "source": [
    "# Cria o Scree Plot utilizando-se MAtPlotLib\n",
    "plt.scatter(range(1,14),ev)\n",
    "plt.plot(range(1,14),ev)\n",
    "plt.title('Scree Plot')\n",
    "plt.xlabel('Fatores')\n",
    "plt.ylabel('Autovalor')\n",
    "plt.grid()\n",
    "plt.show()"
   ]
  },
  {
   "cell_type": "markdown",
   "metadata": {},
   "source": [
    "### Carga Fatorial e Interpretação dos Fatores\n",
    "\n",
    "> - Interpretar e nomear os fatores por meio das cargas fatoriais\n",
    "> - Em geral, considera-se cargas fatoriais maiores que 0,30.\n",
    "> - Cargas superiores a 0,40 são consideradas importantes\n",
    "> - Maiores que 0,50 são consideradas estatisticamente significativas\n",
    "> - Cargas fatoriais significantes dependem do tamanho da amostra\n",
    "> - Os valores da tabela apresenta orientações para identificação de cargas fatoriais significantes e tamanho de amostras ao nível de 5%.\n",
    "> - O valor da carga fatorial representa a quantia de variância total da variável explicada pelo fator.\n",
    "\n",
    "\n"
   ]
  },
  {
   "cell_type": "markdown",
   "metadata": {},
   "source": [
    "<img src=\"data:image/png;base64,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\" align='center' width=250px;>"
   ]
  },
  {
   "cell_type": "markdown",
   "metadata": {},
   "source": [
    "<p> Função Utilizada: <br>\n",
    "<a href=\"https://factor-analyzer.readthedocs.io/en/latest/factor_analyzer.html#factor_analyzer.confirmatory_factor_analyzer.ConfirmatoryFactorAnalyzer.loadings_\">loadings_</a> <br>\n",
    "</p>"
   ]
  },
  {
   "cell_type": "code",
   "execution_count": 126,
   "metadata": {},
   "outputs": [],
   "source": [
    "carga_fatorial = fea.loadings_.round(3)"
   ]
  },
  {
   "cell_type": "code",
   "execution_count": 127,
   "metadata": {},
   "outputs": [
    {
     "name": "stdout",
     "output_type": "stream",
     "text": [
      "         Matriz de Componente Rotativa\n",
      "                      Componentes ( 5 )\n",
      "Variável\n",
      "x6        [ 0.039  0.824 -0.01  -0.047  0.055]\n",
      "x7_log        [ 0.033 -0.128  0.877  0.028 -0.127]\n",
      "x8        [ 0.025  0.101 -0.025  0.936 -0.068]\n",
      "x9        [0.929 0.077 0.099 0.053 0.003]\n",
      "x10        [ 0.163 -0.041  0.731 -0.068  0.153]\n",
      "x11        [ 0.56   0.713 -0.044  0.134  0.007]\n",
      "x12        [ 0.135 -0.156  0.896  0.076 -0.008]\n",
      "x13        [-0.117 -0.686  0.229 -0.232  0.035]\n",
      "x14        [0.1   0.123 0.058 0.932 0.057]\n",
      "x15        [ 0.051 -0.003  0.013 -0.008  0.986]\n",
      "x16        [0.869 0.017 0.094 0.091 0.021]\n",
      "x17        [ 0.49  -0.756  0.225 -0.148  0.081]\n",
      "x18        [0.945 0.024 0.166 0.001 0.057]\n"
     ]
    }
   ],
   "source": [
    "# Impressão dos autovalores originais, variância original, autovalores rotacionados e variância rotacionada\n",
    "print('         Matriz de Componente Rotativa')\n",
    "print('                      Componentes (', len(carga_fatorial[0]), ')')\n",
    "print('Variável')\n",
    "\n",
    "variaveis = ['x6', 'x7_log', 'x8', 'x9', 'x10', 'x11', 'x12', 'x13', 'x14', 'x15', 'x16', 'x17', 'x18']\n",
    "i = 0\n",
    "while i < len(variaveis):\n",
    "    print(variaveis[i], '      ', carga_fatorial[i])\n",
    "    i +=1"
   ]
  },
  {
   "cell_type": "markdown",
   "metadata": {},
   "source": [
    "### Composição dos Fatores\n",
    "\n",
    "As variáveis são agrupadas em fatores a partir da carga fatorial. Ao analisar a linha, a variável se agrupará ao fator cuja carga fatorial seja a maior, em valor absoluto (módulo da carga fatorial).<br>\n",
    "Para este exemplo, os fatores foram compostos por:\n",
    "\n",
    "> - Fator1\n",
    ">> - x9, x16, x18\n",
    "> - Fator2\n",
    ">> - x6, x11, x13, x17\n",
    "> - Fator 3\n",
    ">> - x7, x10, x12\n",
    "> - Fator4\n",
    ">> - x8, x14, \n",
    "> - Fator5\n",
    ">> - x15\n"
   ]
  },
  {
   "cell_type": "markdown",
   "metadata": {},
   "source": [
    "### Cálculo dos Escores Fatoriais para cada um dos elementos da amostra\n",
    "\n",
    "Gera os scores para os fatores para cada um dos indivíduos da amostra ou para novos casos.\n",
    "\n",
    "<p> Função Utilizada: <br>\n",
    "<a href=\"https://factor-analyzer.readthedocs.io/en/latest/factor_analyzer.html#factor_analyzer.confirmatory_factor_analyzer.ConfirmatoryFactorAnalyzer.transform\">tansform</a> <br>\n",
    "</p>\n"
   ]
  },
  {
   "cell_type": "code",
   "execution_count": 128,
   "metadata": {},
   "outputs": [],
   "source": [
    "fatores = fea.transform(df[['x6', 'x7_log', 'x8', 'x9', 'x10', 'x11', 'x12', 'x13', 'x14', 'x15', 'x16', 'x17', 'x18']])"
   ]
  },
  {
   "cell_type": "code",
   "execution_count": 129,
   "metadata": {},
   "outputs": [],
   "source": [
    "# Transforma os fatores gerados para cada observação em um novo Data Frame\n",
    "df_fat=pd.DataFrame(fatores, columns=['Fat1', 'Fat2', 'Fat3','Fat4','Fat5']) "
   ]
  },
  {
   "cell_type": "code",
   "execution_count": 130,
   "metadata": {},
   "outputs": [
    {
     "data": {
      "text/html": [
       "<div>\n",
       "<style scoped>\n",
       "    .dataframe tbody tr th:only-of-type {\n",
       "        vertical-align: middle;\n",
       "    }\n",
       "\n",
       "    .dataframe tbody tr th {\n",
       "        vertical-align: top;\n",
       "    }\n",
       "\n",
       "    .dataframe thead th {\n",
       "        text-align: right;\n",
       "    }\n",
       "</style>\n",
       "<table border=\"1\" class=\"dataframe\">\n",
       "  <thead>\n",
       "    <tr style=\"text-align: right;\">\n",
       "      <th></th>\n",
       "      <th>Fat1</th>\n",
       "      <th>Fat2</th>\n",
       "      <th>Fat3</th>\n",
       "      <th>Fat4</th>\n",
       "      <th>Fat5</th>\n",
       "    </tr>\n",
       "  </thead>\n",
       "  <tbody>\n",
       "    <tr>\n",
       "      <th>0</th>\n",
       "      <td>0.223185</td>\n",
       "      <td>0.236492</td>\n",
       "      <td>0.769601</td>\n",
       "      <td>-1.898413</td>\n",
       "      <td>-0.581145</td>\n",
       "    </tr>\n",
       "    <tr>\n",
       "      <th>1</th>\n",
       "      <td>1.269256</td>\n",
       "      <td>0.793456</td>\n",
       "      <td>-1.701355</td>\n",
       "      <td>-0.648755</td>\n",
       "      <td>-0.765869</td>\n",
       "    </tr>\n",
       "    <tr>\n",
       "      <th>2</th>\n",
       "      <td>0.702988</td>\n",
       "      <td>1.470056</td>\n",
       "      <td>0.614835</td>\n",
       "      <td>-0.008461</td>\n",
       "      <td>-0.221153</td>\n",
       "    </tr>\n",
       "  </tbody>\n",
       "</table>\n",
       "</div>"
      ],
      "text/plain": [
       "       Fat1      Fat2      Fat3      Fat4      Fat5\n",
       "0  0.223185  0.236492  0.769601 -1.898413 -0.581145\n",
       "1  1.269256  0.793456 -1.701355 -0.648755 -0.765869\n",
       "2  0.702988  1.470056  0.614835 -0.008461 -0.221153"
      ]
     },
     "execution_count": 130,
     "metadata": {},
     "output_type": "execute_result"
    }
   ],
   "source": [
    "df_fat.head(3)"
   ]
  },
  {
   "cell_type": "markdown",
   "metadata": {},
   "source": [
    "<p> Concatena a base original <b>HBAT</b> com os fatores recém-calculados e armazena o resultado na base <b>HBAT</b>:\n",
    "<p> Função utilizada:<p>\n",
    "<a href=\"https://pandas.pydata.org/pandas-docs/stable/reference/api/pandas.concat.html\">concat()</a>\n",
    "</p>"
   ]
  },
  {
   "cell_type": "code",
   "execution_count": 131,
   "metadata": {},
   "outputs": [],
   "source": [
    "df = pd.concat([df, df_fat], axis=1).reindex(df.index)"
   ]
  },
  {
   "cell_type": "code",
   "execution_count": 132,
   "metadata": {},
   "outputs": [
    {
     "data": {
      "text/html": [
       "<div>\n",
       "<style scoped>\n",
       "    .dataframe tbody tr th:only-of-type {\n",
       "        vertical-align: middle;\n",
       "    }\n",
       "\n",
       "    .dataframe tbody tr th {\n",
       "        vertical-align: top;\n",
       "    }\n",
       "\n",
       "    .dataframe thead th {\n",
       "        text-align: right;\n",
       "    }\n",
       "</style>\n",
       "<table border=\"1\" class=\"dataframe\">\n",
       "  <thead>\n",
       "    <tr style=\"text-align: right;\">\n",
       "      <th></th>\n",
       "      <th>id</th>\n",
       "      <th>x1</th>\n",
       "      <th>x2</th>\n",
       "      <th>x3</th>\n",
       "      <th>x4</th>\n",
       "      <th>x5</th>\n",
       "      <th>x6</th>\n",
       "      <th>x7</th>\n",
       "      <th>x8</th>\n",
       "      <th>x9</th>\n",
       "      <th>x10</th>\n",
       "      <th>x11</th>\n",
       "      <th>x12</th>\n",
       "      <th>x13</th>\n",
       "      <th>x14</th>\n",
       "      <th>x15</th>\n",
       "      <th>x16</th>\n",
       "      <th>x17</th>\n",
       "      <th>x18</th>\n",
       "      <th>x19</th>\n",
       "      <th>x20</th>\n",
       "      <th>x21</th>\n",
       "      <th>x22</th>\n",
       "      <th>x23</th>\n",
       "      <th>x7_log</th>\n",
       "      <th>Fat1</th>\n",
       "      <th>Fat2</th>\n",
       "      <th>Fat3</th>\n",
       "      <th>Fat4</th>\n",
       "      <th>Fat5</th>\n",
       "    </tr>\n",
       "  </thead>\n",
       "  <tbody>\n",
       "    <tr>\n",
       "      <th>0</th>\n",
       "      <td>1</td>\n",
       "      <td>Entre 1 e 5 Anos</td>\n",
       "      <td>Indústria de Revista</td>\n",
       "      <td>Grande (500+)</td>\n",
       "      <td>Fora da América do Norte</td>\n",
       "      <td>Direto</td>\n",
       "      <td>8.5</td>\n",
       "      <td>3.9</td>\n",
       "      <td>2.5</td>\n",
       "      <td>5.9</td>\n",
       "      <td>4.8</td>\n",
       "      <td>4.9</td>\n",
       "      <td>6.0</td>\n",
       "      <td>6.8</td>\n",
       "      <td>4.7</td>\n",
       "      <td>4.3</td>\n",
       "      <td>5.0</td>\n",
       "      <td>5.1</td>\n",
       "      <td>3.7</td>\n",
       "      <td>8.2</td>\n",
       "      <td>8.0</td>\n",
       "      <td>8.4</td>\n",
       "      <td>65.1</td>\n",
       "      <td>Sim</td>\n",
       "      <td>1.360977</td>\n",
       "      <td>0.223185</td>\n",
       "      <td>0.236492</td>\n",
       "      <td>0.769601</td>\n",
       "      <td>-1.898413</td>\n",
       "      <td>-0.581145</td>\n",
       "    </tr>\n",
       "    <tr>\n",
       "      <th>1</th>\n",
       "      <td>2</td>\n",
       "      <td>Acima de 5 Anos</td>\n",
       "      <td>Indústria de Jornal</td>\n",
       "      <td>Pequena (0 to 499)</td>\n",
       "      <td>USA/América do Norte</td>\n",
       "      <td>Indireto</td>\n",
       "      <td>8.2</td>\n",
       "      <td>2.7</td>\n",
       "      <td>5.1</td>\n",
       "      <td>7.2</td>\n",
       "      <td>3.4</td>\n",
       "      <td>7.9</td>\n",
       "      <td>3.1</td>\n",
       "      <td>5.3</td>\n",
       "      <td>5.5</td>\n",
       "      <td>4.0</td>\n",
       "      <td>3.9</td>\n",
       "      <td>4.3</td>\n",
       "      <td>4.9</td>\n",
       "      <td>5.7</td>\n",
       "      <td>6.5</td>\n",
       "      <td>7.5</td>\n",
       "      <td>67.1</td>\n",
       "      <td>Não</td>\n",
       "      <td>0.993252</td>\n",
       "      <td>1.269256</td>\n",
       "      <td>0.793456</td>\n",
       "      <td>-1.701355</td>\n",
       "      <td>-0.648755</td>\n",
       "      <td>-0.765869</td>\n",
       "    </tr>\n",
       "    <tr>\n",
       "      <th>2</th>\n",
       "      <td>3</td>\n",
       "      <td>Acima de 5 Anos</td>\n",
       "      <td>Indústria de Revista</td>\n",
       "      <td>Grande (500+)</td>\n",
       "      <td>Fora da América do Norte</td>\n",
       "      <td>Direto</td>\n",
       "      <td>9.2</td>\n",
       "      <td>3.4</td>\n",
       "      <td>5.6</td>\n",
       "      <td>5.6</td>\n",
       "      <td>5.4</td>\n",
       "      <td>7.4</td>\n",
       "      <td>5.8</td>\n",
       "      <td>4.5</td>\n",
       "      <td>6.2</td>\n",
       "      <td>4.6</td>\n",
       "      <td>5.4</td>\n",
       "      <td>4.0</td>\n",
       "      <td>4.5</td>\n",
       "      <td>8.9</td>\n",
       "      <td>8.4</td>\n",
       "      <td>9.0</td>\n",
       "      <td>72.1</td>\n",
       "      <td>Sim</td>\n",
       "      <td>1.223775</td>\n",
       "      <td>0.702988</td>\n",
       "      <td>1.470056</td>\n",
       "      <td>0.614835</td>\n",
       "      <td>-0.008461</td>\n",
       "      <td>-0.221153</td>\n",
       "    </tr>\n",
       "  </tbody>\n",
       "</table>\n",
       "</div>"
      ],
      "text/plain": [
       "   id                x1                    x2                  x3  \\\n",
       "0   1  Entre 1 e 5 Anos  Indústria de Revista       Grande (500+)   \n",
       "1   2   Acima de 5 Anos   Indústria de Jornal  Pequena (0 to 499)   \n",
       "2   3   Acima de 5 Anos  Indústria de Revista       Grande (500+)   \n",
       "\n",
       "                         x4        x5   x6   x7   x8   x9  x10  x11  x12  x13  \\\n",
       "0  Fora da América do Norte    Direto  8.5  3.9  2.5  5.9  4.8  4.9  6.0  6.8   \n",
       "1      USA/América do Norte  Indireto  8.2  2.7  5.1  7.2  3.4  7.9  3.1  5.3   \n",
       "2  Fora da América do Norte    Direto  9.2  3.4  5.6  5.6  5.4  7.4  5.8  4.5   \n",
       "\n",
       "   x14  x15  x16  x17  x18  x19  x20  x21   x22  x23    x7_log      Fat1  \\\n",
       "0  4.7  4.3  5.0  5.1  3.7  8.2  8.0  8.4  65.1  Sim  1.360977  0.223185   \n",
       "1  5.5  4.0  3.9  4.3  4.9  5.7  6.5  7.5  67.1  Não  0.993252  1.269256   \n",
       "2  6.2  4.6  5.4  4.0  4.5  8.9  8.4  9.0  72.1  Sim  1.223775  0.702988   \n",
       "\n",
       "       Fat2      Fat3      Fat4      Fat5  \n",
       "0  0.236492  0.769601 -1.898413 -0.581145  \n",
       "1  0.793456 -1.701355 -0.648755 -0.765869  \n",
       "2  1.470056  0.614835 -0.008461 -0.221153  "
      ]
     },
     "execution_count": 132,
     "metadata": {},
     "output_type": "execute_result"
    }
   ],
   "source": [
    "df.head(3)"
   ]
  },
  {
   "cell_type": "markdown",
   "metadata": {},
   "source": [
    "<p> Salva o arquivo em formato <b>csv</b>:\n",
    "<a href=\"https://pandas.pydata.org/pandas-docs/stable/reference/api/pandas.DataFrame.to_csv.html\">to_csv()</a>\n",
    "</p>"
   ]
  },
  {
   "cell_type": "code",
   "execution_count": null,
   "metadata": {},
   "outputs": [],
   "source": [
    "df.to_csv('HBAT_FATORIAL.csv', encoding='utf-8', decimal=',')"
   ]
  }
 ],
 "metadata": {
  "kernelspec": {
   "display_name": "Python 3",
   "language": "python",
   "name": "python3"
  },
  "language_info": {
   "codemirror_mode": {
    "name": "ipython",
    "version": 3
   },
   "file_extension": ".py",
   "mimetype": "text/x-python",
   "name": "python",
   "nbconvert_exporter": "python",
   "pygments_lexer": "ipython3",
   "version": "3.8.3"
  }
 },
 "nbformat": 4,
 "nbformat_minor": 4
}
