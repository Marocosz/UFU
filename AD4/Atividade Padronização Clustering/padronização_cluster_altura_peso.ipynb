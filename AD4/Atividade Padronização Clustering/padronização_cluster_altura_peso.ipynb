{
 "cells": [
  {
   "cell_type": "code",
   "execution_count": 2,
   "id": "996ec48b-08f3-45a4-8b16-267b4e3f90f7",
   "metadata": {},
   "outputs": [],
   "source": [
    "import pandas as pd\n",
    "import matplotlib.pyplot as plt\n",
    "from statsmodels.graphics.gofplots import qqplot\n",
    "import numpy as np\n",
    "import scipy as sp\n",
    "from scipy import stats as st\n",
    "import researchpy as rs\n",
    "from scipy.spatial import distance_matrix\n",
    "from scipy.spatial import distance\n",
    "from scipy.cluster.hierarchy import dendrogram, linkage\n",
    "\n",
    "from sklearn import preprocessing\n",
    "from sklearn.preprocessing import StandardScaler\n",
    "from sklearn.preprocessing import MinMaxScaler\n",
    "\n",
    "from sklearn.cluster import AgglomerativeClustering\n",
    "from sklearn.cluster import KMeans\n",
    "\n",
    "import statsmodels.api as sm\n",
    "from statsmodels.formula.api import ols\n",
    "import statsmodels as stm"
   ]
  },
  {
   "cell_type": "code",
   "execution_count": 3,
   "id": "9fbebf84-4a2e-4472-8e3f-d1f29f1d713d",
   "metadata": {},
   "outputs": [],
   "source": [
    "df = pd.read_excel('Altura_peso.xlsx')"
   ]
  },
  {
   "cell_type": "code",
   "execution_count": 4,
   "id": "a499f2ce-7f41-4499-9ccc-7f752fffaea9",
   "metadata": {},
   "outputs": [],
   "source": [
    "df.loc[0, 'Altura'] = 201\n",
    "df.loc[0, 'Peso'] = 90"
   ]
  },
  {
   "cell_type": "code",
   "execution_count": 5,
   "id": "046b4063-567f-4c9c-ad73-66dd489360d9",
   "metadata": {},
   "outputs": [
    {
     "data": {
      "text/html": [
       "<div>\n",
       "<style scoped>\n",
       "    .dataframe tbody tr th:only-of-type {\n",
       "        vertical-align: middle;\n",
       "    }\n",
       "\n",
       "    .dataframe tbody tr th {\n",
       "        vertical-align: top;\n",
       "    }\n",
       "\n",
       "    .dataframe thead th {\n",
       "        text-align: right;\n",
       "    }\n",
       "</style>\n",
       "<table border=\"1\" class=\"dataframe\">\n",
       "  <thead>\n",
       "    <tr style=\"text-align: right;\">\n",
       "      <th></th>\n",
       "      <th>Individuo</th>\n",
       "      <th>Altura</th>\n",
       "      <th>Peso</th>\n",
       "    </tr>\n",
       "  </thead>\n",
       "  <tbody>\n",
       "    <tr>\n",
       "      <th>0</th>\n",
       "      <td>1</td>\n",
       "      <td>201</td>\n",
       "      <td>90</td>\n",
       "    </tr>\n",
       "    <tr>\n",
       "      <th>1</th>\n",
       "      <td>2</td>\n",
       "      <td>160</td>\n",
       "      <td>50</td>\n",
       "    </tr>\n",
       "    <tr>\n",
       "      <th>2</th>\n",
       "      <td>3</td>\n",
       "      <td>171</td>\n",
       "      <td>76</td>\n",
       "    </tr>\n",
       "    <tr>\n",
       "      <th>3</th>\n",
       "      <td>4</td>\n",
       "      <td>160</td>\n",
       "      <td>65</td>\n",
       "    </tr>\n",
       "    <tr>\n",
       "      <th>4</th>\n",
       "      <td>5</td>\n",
       "      <td>180</td>\n",
       "      <td>72</td>\n",
       "    </tr>\n",
       "  </tbody>\n",
       "</table>\n",
       "</div>"
      ],
      "text/plain": [
       "   Individuo  Altura  Peso\n",
       "0          1     201    90\n",
       "1          2     160    50\n",
       "2          3     171    76\n",
       "3          4     160    65\n",
       "4          5     180    72"
      ]
     },
     "execution_count": 5,
     "metadata": {},
     "output_type": "execute_result"
    }
   ],
   "source": [
    "df.head()"
   ]
  },
  {
   "cell_type": "code",
   "execution_count": 6,
   "id": "c02549b9-7cb0-4c56-8ced-6e5ed2e8fb58",
   "metadata": {},
   "outputs": [
    {
     "name": "stdout",
     "output_type": "stream",
     "text": [
      "<class 'pandas.core.frame.DataFrame'>\n",
      "RangeIndex: 40 entries, 0 to 39\n",
      "Data columns (total 3 columns):\n",
      " #   Column     Non-Null Count  Dtype\n",
      "---  ------     --------------  -----\n",
      " 0   Individuo  40 non-null     int64\n",
      " 1   Altura     40 non-null     int64\n",
      " 2   Peso       40 non-null     int64\n",
      "dtypes: int64(3)\n",
      "memory usage: 1.1 KB\n"
     ]
    }
   ],
   "source": [
    "df.info()"
   ]
  },
  {
   "cell_type": "code",
   "execution_count": 7,
   "id": "063379bc-84ea-4cc5-acaf-14ba3d64e4a1",
   "metadata": {},
   "outputs": [
    {
     "data": {
      "text/html": [
       "<div>\n",
       "<style scoped>\n",
       "    .dataframe tbody tr th:only-of-type {\n",
       "        vertical-align: middle;\n",
       "    }\n",
       "\n",
       "    .dataframe tbody tr th {\n",
       "        vertical-align: top;\n",
       "    }\n",
       "\n",
       "    .dataframe thead th {\n",
       "        text-align: right;\n",
       "    }\n",
       "</style>\n",
       "<table border=\"1\" class=\"dataframe\">\n",
       "  <thead>\n",
       "    <tr style=\"text-align: right;\">\n",
       "      <th></th>\n",
       "      <th>Individuo</th>\n",
       "      <th>Altura</th>\n",
       "      <th>Peso</th>\n",
       "    </tr>\n",
       "  </thead>\n",
       "  <tbody>\n",
       "    <tr>\n",
       "      <th>count</th>\n",
       "      <td>40.00</td>\n",
       "      <td>40.00</td>\n",
       "      <td>40.00</td>\n",
       "    </tr>\n",
       "    <tr>\n",
       "      <th>mean</th>\n",
       "      <td>20.50</td>\n",
       "      <td>173.80</td>\n",
       "      <td>71.78</td>\n",
       "    </tr>\n",
       "    <tr>\n",
       "      <th>std</th>\n",
       "      <td>11.69</td>\n",
       "      <td>12.51</td>\n",
       "      <td>17.08</td>\n",
       "    </tr>\n",
       "    <tr>\n",
       "      <th>min</th>\n",
       "      <td>1.00</td>\n",
       "      <td>150.00</td>\n",
       "      <td>42.00</td>\n",
       "    </tr>\n",
       "    <tr>\n",
       "      <th>25%</th>\n",
       "      <td>10.75</td>\n",
       "      <td>167.00</td>\n",
       "      <td>60.00</td>\n",
       "    </tr>\n",
       "    <tr>\n",
       "      <th>50%</th>\n",
       "      <td>20.50</td>\n",
       "      <td>172.00</td>\n",
       "      <td>72.00</td>\n",
       "    </tr>\n",
       "    <tr>\n",
       "      <th>75%</th>\n",
       "      <td>30.25</td>\n",
       "      <td>182.25</td>\n",
       "      <td>78.50</td>\n",
       "    </tr>\n",
       "    <tr>\n",
       "      <th>max</th>\n",
       "      <td>40.00</td>\n",
       "      <td>201.00</td>\n",
       "      <td>125.00</td>\n",
       "    </tr>\n",
       "  </tbody>\n",
       "</table>\n",
       "</div>"
      ],
      "text/plain": [
       "       Individuo  Altura    Peso\n",
       "count      40.00   40.00   40.00\n",
       "mean       20.50  173.80   71.78\n",
       "std        11.69   12.51   17.08\n",
       "min         1.00  150.00   42.00\n",
       "25%        10.75  167.00   60.00\n",
       "50%        20.50  172.00   72.00\n",
       "75%        30.25  182.25   78.50\n",
       "max        40.00  201.00  125.00"
      ]
     },
     "execution_count": 7,
     "metadata": {},
     "output_type": "execute_result"
    }
   ],
   "source": [
    "df.describe().round(2)"
   ]
  },
  {
   "cell_type": "code",
   "execution_count": 8,
   "id": "be376403-8c64-4ab2-a2a2-1c17bdf8cb79",
   "metadata": {},
   "outputs": [],
   "source": [
    "variaveis = ['Altura', 'Peso']"
   ]
  },
  {
   "cell_type": "code",
   "execution_count": 9,
   "id": "a54b3d22-b768-41b1-ba8d-4aa81163be99",
   "metadata": {},
   "outputs": [],
   "source": [
    "z_variaveis = []\n",
    "for var in variaveis:\n",
    "    z_variaveis.append(\"z_\" + var)"
   ]
  },
  {
   "cell_type": "code",
   "execution_count": 10,
   "id": "4a2f300f-f9b3-419e-995a-192a563ae2f3",
   "metadata": {},
   "outputs": [
    {
     "data": {
      "text/plain": [
       "['z_Altura', 'z_Peso']"
      ]
     },
     "execution_count": 10,
     "metadata": {},
     "output_type": "execute_result"
    }
   ],
   "source": [
    "z_variaveis"
   ]
  },
  {
   "cell_type": "code",
   "execution_count": 11,
   "id": "adebfa4c-fafd-44f9-a9fb-3ecf9cfb5ee1",
   "metadata": {},
   "outputs": [],
   "source": [
    "# Transformando para o padrão-z\n",
    "X = df[variaveis]\n",
    "X_std = StandardScaler().fit_transform(X)"
   ]
  },
  {
   "cell_type": "code",
   "execution_count": 12,
   "id": "05a3059e-6ad7-41cc-8d9e-c603ce090167",
   "metadata": {},
   "outputs": [],
   "source": [
    "# Adicionando os valores padrão-z no dataframe\n",
    "df = pd.concat([df, pd.DataFrame(X_std, columns=z_variaveis)], axis=1)"
   ]
  },
  {
   "cell_type": "code",
   "execution_count": 13,
   "id": "c9a15be8-85fb-47bb-b122-40dea712046d",
   "metadata": {},
   "outputs": [
    {
     "data": {
      "text/plain": [
       "array([[0.000e+00, 3.281e+03, 1.096e+03, ..., 3.449e+03, 1.010e+03,\n",
       "        1.168e+03],\n",
       "       [3.281e+03, 0.000e+00, 7.970e+02, ..., 4.000e+00, 8.730e+02,\n",
       "        8.650e+02],\n",
       "       [1.096e+03, 7.970e+02, 0.000e+00, ..., 8.450e+02, 2.000e+00,\n",
       "        8.000e+00],\n",
       "       ...,\n",
       "       [3.449e+03, 4.000e+00, 8.450e+02, ..., 0.000e+00, 9.250e+02,\n",
       "        9.050e+02],\n",
       "       [1.010e+03, 8.730e+02, 2.000e+00, ..., 9.250e+02, 0.000e+00,\n",
       "        1.000e+01],\n",
       "       [1.168e+03, 8.650e+02, 8.000e+00, ..., 9.050e+02, 1.000e+01,\n",
       "        0.000e+00]])"
      ]
     },
     "execution_count": 13,
     "metadata": {},
     "output_type": "execute_result"
    }
   ],
   "source": [
    "distance.cdist(df[variaveis], \n",
    "               df[variaveis], 'sqeuclidean')"
   ]
  },
  {
   "cell_type": "code",
   "execution_count": 14,
   "id": "0b87e091-266c-4087-beca-cb85e37c3d37",
   "metadata": {},
   "outputs": [
    {
     "data": {
      "text/plain": [
       "(-3.0, 3.0)"
      ]
     },
     "execution_count": 14,
     "metadata": {},
     "output_type": "execute_result"
    },
    {
     "data": {
      "image/png": "[encoded data removed]",
      "text/plain": [
       "<Figure size 1400x600 with 1 Axes>"
      ]
     },
     "metadata": {},
     "output_type": "display_data"
    }
   ],
   "source": [
    "df[z_variaveis].boxplot(rot=90,figsize=[14,6])\n",
    "plt.ylim(-3,3)"
   ]
  },
  {
   "cell_type": "code",
   "execution_count": 15,
   "id": "c6ca9e61-29e5-4fb5-aaf7-1c47a0432888",
   "metadata": {},
   "outputs": [],
   "source": [
    "def mahalanobis(x=None, data=None, cov=None):\n",
    "    \"\"\"Computa a Distância de Mahalanobis entre cada objeto e a média  \n",
    "    x    : vetor ou matriz de dados, com p colunas.\n",
    "    data : ndarray dos dados a partir do qual a a Distância de Mahalanobis para cada observação de x deve ser computado.\n",
    "    cov  : Matriz de covariancia (p x p) dos dados. Se None, ela será calculada a partir dos dados.\n",
    "    \"\"\"\n",
    "    x_minus_mu = x - np.mean(data)\n",
    "    if not cov:\n",
    "        cov = np.cov(data.values.T)\n",
    "    inv_covmat = sp.linalg.inv(cov)\n",
    "    left_term = np.dot(x_minus_mu, inv_covmat)\n",
    "    mahal = np.dot(left_term, x_minus_mu.T)\n",
    "    return mahal.diagonal()"
   ]
  },
  {
   "cell_type": "code",
   "execution_count": 16,
   "id": "d6f8b559-8102-41c2-a693-5d189648fdc9",
   "metadata": {},
   "outputs": [],
   "source": [
    "# Calcula a distância de Mahalanobis para cada um dos casos.\n",
    "df['mahala'] = mahalanobis(x=df[variaveis], data=df[variaveis])"
   ]
  },
  {
   "cell_type": "code",
   "execution_count": 17,
   "id": "421126e1-173f-4f5c-9b08-fba3d8345816",
   "metadata": {},
   "outputs": [],
   "source": [
    "# Criando o MinMaxScaler para o intervalo [0,1]\n",
    "scaler = MinMaxScaler(feature_range=(0, 1))"
   ]
  },
  {
   "cell_type": "code",
   "execution_count": 18,
   "id": "db1dd1e9-5578-4842-b902-6dce9e67c65c",
   "metadata": {},
   "outputs": [],
   "source": [
    "# Aplicando a transformação nas colunas numéricas\n",
    "df_scaled = pd.DataFrame(scaler.fit_transform(X), columns=X.columns)"
   ]
  },
  {
   "cell_type": "code",
   "execution_count": 19,
   "id": "867f1742-a7fe-4f0c-b3fd-af133bc41cf8",
   "metadata": {},
   "outputs": [],
   "source": [
    "zeroAum_variaveis = []\n",
    "for var in variaveis:\n",
    "    zeroAum_variaveis.append(\"zeroAum_\" + var)"
   ]
  },
  {
   "cell_type": "code",
   "execution_count": 20,
   "id": "880bbbc1-7e7a-4413-9485-8beef2c63a95",
   "metadata": {},
   "outputs": [],
   "source": [
    "df_scaled.columns = zeroAum_variaveis"
   ]
  },
  {
   "cell_type": "code",
   "execution_count": 21,
   "id": "30e85f10-17e8-47db-8df6-a9c60e8fe268",
   "metadata": {},
   "outputs": [],
   "source": [
    "df = pd.concat([df, df_scaled], axis=1)"
   ]
  },
  {
   "cell_type": "code",
   "execution_count": 22,
   "id": "867f4c01-d633-4067-a5e2-5ad053a24911",
   "metadata": {},
   "outputs": [],
   "source": [
    "# Criando o MinMaxScaler para o intervalo [-1,1]\n",
    "scaler1 = MinMaxScaler(feature_range=(-1, 1))"
   ]
  },
  {
   "cell_type": "code",
   "execution_count": 23,
   "id": "489d1f77-4315-4543-8b8d-670677fb2fab",
   "metadata": {},
   "outputs": [],
   "source": [
    "# Aplicando a transformação nas colunas numéricas\n",
    "df_scaled1 = pd.DataFrame(scaler1.fit_transform(X), columns=X.columns)"
   ]
  },
  {
   "cell_type": "code",
   "execution_count": 24,
   "id": "24ecdaa5-cae3-4282-a6c1-7facf42b9446",
   "metadata": {},
   "outputs": [],
   "source": [
    "menosumAum_variaveis = []\n",
    "for var in variaveis:\n",
    "    menosumAum_variaveis.append(\"menosumAum_\" + var)"
   ]
  },
  {
   "cell_type": "code",
   "execution_count": 25,
   "id": "f3c90067-c3fa-434b-acb8-62d804f7b056",
   "metadata": {},
   "outputs": [],
   "source": [
    "df_scaled1.columns = menosumAum_variaveis"
   ]
  },
  {
   "cell_type": "code",
   "execution_count": 26,
   "id": "e807d488-a2b3-4f80-b2fb-69f147644eb8",
   "metadata": {},
   "outputs": [],
   "source": [
    "df = pd.concat([df, df_scaled1], axis=1)"
   ]
  },
  {
   "cell_type": "code",
   "execution_count": 27,
   "id": "114be7ab-6f40-4c8a-bc89-f6f88566aadc",
   "metadata": {},
   "outputs": [],
   "source": [
    "df_mean_norm = (X - X.mean()) / (X.max() - X.min())"
   ]
  },
  {
   "cell_type": "code",
   "execution_count": 28,
   "id": "723faf14-f11e-427b-9885-80cdda76acd9",
   "metadata": {},
   "outputs": [],
   "source": [
    "mediaUm_variaveis = []\n",
    "for var in variaveis:\n",
    "    mediaUm_variaveis.append(\"mediaUm_\" + var)"
   ]
  },
  {
   "cell_type": "code",
   "execution_count": 29,
   "id": "34b65cb5-bcd5-4adc-bc71-0ad848b05536",
   "metadata": {},
   "outputs": [],
   "source": [
    "df_mean_norm.columns = mediaUm_variaveis"
   ]
  },
  {
   "cell_type": "code",
   "execution_count": 30,
   "id": "25299b6c-be49-4561-a137-9bf602868aa4",
   "metadata": {},
   "outputs": [],
   "source": [
    "df = pd.concat([df, df_mean_norm], axis=1)"
   ]
  },
  {
   "cell_type": "code",
   "execution_count": 31,
   "id": "40cfb40e-b119-497e-b0cd-4e1be98b233f",
   "metadata": {},
   "outputs": [],
   "source": [
    "df_max_amp = X / X.abs().max()"
   ]
  },
  {
   "cell_type": "code",
   "execution_count": 32,
   "id": "f8034a6e-7e2f-484f-848e-4d7846a72e88",
   "metadata": {},
   "outputs": [],
   "source": [
    "max_amp_variaveis = []\n",
    "for var in variaveis:\n",
    "    max_amp_variaveis.append(\"max_amp_\" + var)"
   ]
  },
  {
   "cell_type": "code",
   "execution_count": 33,
   "id": "66d24b43-74db-4692-b8e3-d76a880dc99d",
   "metadata": {},
   "outputs": [],
   "source": [
    "df_max_amp.columns = max_amp_variaveis"
   ]
  },
  {
   "cell_type": "code",
   "execution_count": 34,
   "id": "dc2c3842-b98f-4357-a12d-1ac937a72e8c",
   "metadata": {},
   "outputs": [],
   "source": [
    "df = pd.concat([df, df_max_amp], axis=1)"
   ]
  },
  {
   "cell_type": "code",
   "execution_count": 35,
   "id": "7e4c47ec-ef06-46b6-b615-d17dda61390d",
   "metadata": {},
   "outputs": [],
   "source": [
    "df_zscore = (X - X.mean()) / X.std()"
   ]
  },
  {
   "cell_type": "code",
   "execution_count": 36,
   "id": "a4274ad3-3840-4ba6-af58-5a060bab724c",
   "metadata": {},
   "outputs": [],
   "source": [
    "zscore_variaveis = []\n",
    "for var in variaveis:\n",
    "    zscore_variaveis.append(\"zscore_\" + var)"
   ]
  },
  {
   "cell_type": "code",
   "execution_count": 37,
   "id": "7626c43d-7fc3-4922-965a-06f3e16cd20c",
   "metadata": {},
   "outputs": [],
   "source": [
    "df_zscore.columns = zscore_variaveis"
   ]
  },
  {
   "cell_type": "code",
   "execution_count": 38,
   "id": "2d90e3d8-ea40-4ba3-a9c6-3542a57504a6",
   "metadata": {},
   "outputs": [],
   "source": [
    "df = pd.concat([df, df_zscore], axis=1)"
   ]
  },
  {
   "cell_type": "code",
   "execution_count": 39,
   "id": "50e4373f-0c60-4b61-9f10-26ca7cc1dafc",
   "metadata": {},
   "outputs": [
    {
     "data": {
      "text/html": [
       "<div>\n",
       "<style scoped>\n",
       "    .dataframe tbody tr th:only-of-type {\n",
       "        vertical-align: middle;\n",
       "    }\n",
       "\n",
       "    .dataframe tbody tr th {\n",
       "        vertical-align: top;\n",
       "    }\n",
       "\n",
       "    .dataframe thead th {\n",
       "        text-align: right;\n",
       "    }\n",
       "</style>\n",
       "<table border=\"1\" class=\"dataframe\">\n",
       "  <thead>\n",
       "    <tr style=\"text-align: right;\">\n",
       "      <th></th>\n",
       "      <th>Individuo</th>\n",
       "      <th>Altura</th>\n",
       "      <th>Peso</th>\n",
       "      <th>z_Altura</th>\n",
       "      <th>z_Peso</th>\n",
       "      <th>mahala</th>\n",
       "      <th>zeroAum_Altura</th>\n",
       "      <th>zeroAum_Peso</th>\n",
       "      <th>menosumAum_Altura</th>\n",
       "      <th>menosumAum_Peso</th>\n",
       "      <th>mediaUm_Altura</th>\n",
       "      <th>mediaUm_Peso</th>\n",
       "      <th>max_amp_Altura</th>\n",
       "      <th>max_amp_Peso</th>\n",
       "      <th>zscore_Altura</th>\n",
       "      <th>zscore_Peso</th>\n",
       "    </tr>\n",
       "  </thead>\n",
       "  <tbody>\n",
       "    <tr>\n",
       "      <th>0</th>\n",
       "      <td>1</td>\n",
       "      <td>201</td>\n",
       "      <td>90</td>\n",
       "      <td>2.201798</td>\n",
       "      <td>1.080743</td>\n",
       "      <td>120.272019</td>\n",
       "      <td>1.000000</td>\n",
       "      <td>0.578313</td>\n",
       "      <td>1.000000</td>\n",
       "      <td>0.156627</td>\n",
       "      <td>0.533333</td>\n",
       "      <td>0.219578</td>\n",
       "      <td>1.000000</td>\n",
       "      <td>0.720</td>\n",
       "      <td>2.174101</td>\n",
       "      <td>1.067148</td>\n",
       "    </tr>\n",
       "    <tr>\n",
       "      <th>1</th>\n",
       "      <td>2</td>\n",
       "      <td>160</td>\n",
       "      <td>50</td>\n",
       "      <td>-1.117089</td>\n",
       "      <td>-1.291258</td>\n",
       "      <td>90.503533</td>\n",
       "      <td>0.196078</td>\n",
       "      <td>0.096386</td>\n",
       "      <td>-0.607843</td>\n",
       "      <td>-0.807229</td>\n",
       "      <td>-0.270588</td>\n",
       "      <td>-0.262349</td>\n",
       "      <td>0.796020</td>\n",
       "      <td>0.400</td>\n",
       "      <td>-1.103037</td>\n",
       "      <td>-1.275015</td>\n",
       "    </tr>\n",
       "    <tr>\n",
       "      <th>2</th>\n",
       "      <td>3</td>\n",
       "      <td>171</td>\n",
       "      <td>76</td>\n",
       "      <td>-0.226656</td>\n",
       "      <td>0.250543</td>\n",
       "      <td>75.090966</td>\n",
       "      <td>0.411765</td>\n",
       "      <td>0.409639</td>\n",
       "      <td>-0.176471</td>\n",
       "      <td>-0.180723</td>\n",
       "      <td>-0.054902</td>\n",
       "      <td>0.050904</td>\n",
       "      <td>0.850746</td>\n",
       "      <td>0.608</td>\n",
       "      <td>-0.223805</td>\n",
       "      <td>0.247391</td>\n",
       "    </tr>\n",
       "    <tr>\n",
       "      <th>3</th>\n",
       "      <td>4</td>\n",
       "      <td>160</td>\n",
       "      <td>65</td>\n",
       "      <td>-1.117089</td>\n",
       "      <td>-0.401758</td>\n",
       "      <td>69.541842</td>\n",
       "      <td>0.196078</td>\n",
       "      <td>0.277108</td>\n",
       "      <td>-0.607843</td>\n",
       "      <td>-0.445783</td>\n",
       "      <td>-0.270588</td>\n",
       "      <td>-0.081627</td>\n",
       "      <td>0.796020</td>\n",
       "      <td>0.520</td>\n",
       "      <td>-1.103037</td>\n",
       "      <td>-0.396704</td>\n",
       "    </tr>\n",
       "    <tr>\n",
       "      <th>4</th>\n",
       "      <td>5</td>\n",
       "      <td>180</td>\n",
       "      <td>72</td>\n",
       "      <td>0.501880</td>\n",
       "      <td>0.013343</td>\n",
       "      <td>98.655217</td>\n",
       "      <td>0.588235</td>\n",
       "      <td>0.361446</td>\n",
       "      <td>0.176471</td>\n",
       "      <td>-0.277108</td>\n",
       "      <td>0.121569</td>\n",
       "      <td>0.002711</td>\n",
       "      <td>0.895522</td>\n",
       "      <td>0.576</td>\n",
       "      <td>0.495567</td>\n",
       "      <td>0.013175</td>\n",
       "    </tr>\n",
       "  </tbody>\n",
       "</table>\n",
       "</div>"
      ],
      "text/plain": [
       "   Individuo  Altura  Peso  z_Altura    z_Peso      mahala  zeroAum_Altura  \\\n",
       "0          1     201    90  2.201798  1.080743  120.272019        1.000000   \n",
       "1          2     160    50 -1.117089 -1.291258   90.503533        0.196078   \n",
       "2          3     171    76 -0.226656  0.250543   75.090966        0.411765   \n",
       "3          4     160    65 -1.117089 -0.401758   69.541842        0.196078   \n",
       "4          5     180    72  0.501880  0.013343   98.655217        0.588235   \n",
       "\n",
       "   zeroAum_Peso  menosumAum_Altura  menosumAum_Peso  mediaUm_Altura  \\\n",
       "0      0.578313           1.000000         0.156627        0.533333   \n",
       "1      0.096386          -0.607843        -0.807229       -0.270588   \n",
       "2      0.409639          -0.176471        -0.180723       -0.054902   \n",
       "3      0.277108          -0.607843        -0.445783       -0.270588   \n",
       "4      0.361446           0.176471        -0.277108        0.121569   \n",
       "\n",
       "   mediaUm_Peso  max_amp_Altura  max_amp_Peso  zscore_Altura  zscore_Peso  \n",
       "0      0.219578        1.000000         0.720       2.174101     1.067148  \n",
       "1     -0.262349        0.796020         0.400      -1.103037    -1.275015  \n",
       "2      0.050904        0.850746         0.608      -0.223805     0.247391  \n",
       "3     -0.081627        0.796020         0.520      -1.103037    -0.396704  \n",
       "4      0.002711        0.895522         0.576       0.495567     0.013175  "
      ]
     },
     "execution_count": 39,
     "metadata": {},
     "output_type": "execute_result"
    }
   ],
   "source": [
    "df.head()"
   ]
  },
  {
   "cell_type": "code",
   "execution_count": null,
   "id": "58880af5-f3f8-4177-9575-5bfe7c09eaf6",
   "metadata": {},
   "outputs": [],
   "source": []
  },
  {
   "cell_type": "code",
   "execution_count": null,
   "id": "3d665dc5-a7b5-416b-9dc7-0c2be56877af",
   "metadata": {},
   "outputs": [],
   "source": []
  }
 ],
 "metadata": {
  "kernelspec": {
   "display_name": "Python 3 (ipykernel)",
   "language": "python",
   "name": "python3"
  },
  "language_info": {
   "codemirror_mode": {
    "name": "ipython",
    "version": 3
   },
   "file_extension": ".py",
   "mimetype": "text/x-python",
   "name": "python",
   "nbconvert_exporter": "python",
   "pygments_lexer": "ipython3",
   "version": "3.12.7"
  }
 },
 "nbformat": 4,
 "nbformat_minor": 5
}
