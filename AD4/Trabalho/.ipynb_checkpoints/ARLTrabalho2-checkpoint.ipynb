{
 "cells": [
  {
   "cell_type": "code",
   "execution_count": 2,
   "id": "1caac80c-6a0f-483a-8b8b-d9e4a0c982fe",
   "metadata": {},
   "outputs": [],
   "source": [
    "import pandas as pd\n",
    "import numpy as np\n",
    "import matplotlib.pyplot as plt\n",
    "import seaborn as sns\n",
    "\n",
    "from sklearn.model_selection import train_test_split\n",
    "from sklearn.linear_model import LogisticRegression\n",
    "from sklearn.metrics import confusion_matrix, classification_report, roc_auc_score, roc_curve\n",
    "import statsmodels.api as sm"
   ]
  },
  {
   "cell_type": "code",
   "execution_count": 3,
   "id": "9e48cb18-6424-41bd-9d34-3cbf752f65ca",
   "metadata": {},
   "outputs": [],
   "source": [
    "df = pd.read_csv('mental_health_and_technology_usage_2024.csv')"
   ]
  },
  {
   "cell_type": "code",
   "execution_count": 18,
   "id": "e5942394-1f21-40a9-baf6-b3eb4c017cad",
   "metadata": {},
   "outputs": [
    {
     "data": {
      "text/plain": [
       "(10000, 14)"
      ]
     },
     "execution_count": 18,
     "metadata": {},
     "output_type": "execute_result"
    }
   ],
   "source": [
    "# Exibir o formato da base e o tipo de dados\n",
    "df.shape"
   ]
  },
  {
   "cell_type": "code",
   "execution_count": 20,
   "id": "d3f673ac-f017-4520-b1e1-4fbed5121afc",
   "metadata": {},
   "outputs": [
    {
     "data": {
      "text/plain": [
       "User_ID                      object\n",
       "Age                           int64\n",
       "Gender                       object\n",
       "Technology_Usage_Hours      float64\n",
       "Social_Media_Usage_Hours    float64\n",
       "Gaming_Hours                float64\n",
       "Screen_Time_Hours           float64\n",
       "Mental_Health_Status         object\n",
       "Stress_Level                 object\n",
       "Sleep_Hours                 float64\n",
       "Physical_Activity_Hours     float64\n",
       "Support_Systems_Access       object\n",
       "Work_Environment_Impact      object\n",
       "Online_Support_Usage         object\n",
       "dtype: object"
      ]
     },
     "execution_count": 20,
     "metadata": {},
     "output_type": "execute_result"
    }
   ],
   "source": [
    "df.dtypes"
   ]
  },
  {
   "cell_type": "code",
   "execution_count": 22,
   "id": "7e89bc7e-928e-46fa-bd3d-8a2bbef1f8d3",
   "metadata": {},
   "outputs": [
    {
     "data": {
      "text/html": [
       "<div>\n",
       "<style scoped>\n",
       "    .dataframe tbody tr th:only-of-type {\n",
       "        vertical-align: middle;\n",
       "    }\n",
       "\n",
       "    .dataframe tbody tr th {\n",
       "        vertical-align: top;\n",
       "    }\n",
       "\n",
       "    .dataframe thead th {\n",
       "        text-align: right;\n",
       "    }\n",
       "</style>\n",
       "<table border=\"1\" class=\"dataframe\">\n",
       "  <thead>\n",
       "    <tr style=\"text-align: right;\">\n",
       "      <th></th>\n",
       "      <th>Age</th>\n",
       "      <th>Technology_Usage_Hours</th>\n",
       "      <th>Social_Media_Usage_Hours</th>\n",
       "      <th>Gaming_Hours</th>\n",
       "      <th>Screen_Time_Hours</th>\n",
       "      <th>Sleep_Hours</th>\n",
       "      <th>Physical_Activity_Hours</th>\n",
       "    </tr>\n",
       "  </thead>\n",
       "  <tbody>\n",
       "    <tr>\n",
       "      <th>count</th>\n",
       "      <td>10000.000000</td>\n",
       "      <td>10000.000000</td>\n",
       "      <td>10000.000000</td>\n",
       "      <td>10000.000000</td>\n",
       "      <td>10000.000000</td>\n",
       "      <td>10000.000000</td>\n",
       "      <td>10000.000000</td>\n",
       "    </tr>\n",
       "    <tr>\n",
       "      <th>mean</th>\n",
       "      <td>41.518600</td>\n",
       "      <td>6.474341</td>\n",
       "      <td>3.972321</td>\n",
       "      <td>2.515598</td>\n",
       "      <td>7.975765</td>\n",
       "      <td>6.500724</td>\n",
       "      <td>5.003860</td>\n",
       "    </tr>\n",
       "    <tr>\n",
       "      <th>std</th>\n",
       "      <td>13.920217</td>\n",
       "      <td>3.169022</td>\n",
       "      <td>2.313707</td>\n",
       "      <td>1.446748</td>\n",
       "      <td>4.042608</td>\n",
       "      <td>1.450933</td>\n",
       "      <td>2.905044</td>\n",
       "    </tr>\n",
       "    <tr>\n",
       "      <th>min</th>\n",
       "      <td>18.000000</td>\n",
       "      <td>1.000000</td>\n",
       "      <td>0.000000</td>\n",
       "      <td>0.000000</td>\n",
       "      <td>1.000000</td>\n",
       "      <td>4.000000</td>\n",
       "      <td>0.000000</td>\n",
       "    </tr>\n",
       "    <tr>\n",
       "      <th>25%</th>\n",
       "      <td>29.000000</td>\n",
       "      <td>3.760000</td>\n",
       "      <td>1.980000</td>\n",
       "      <td>1.260000</td>\n",
       "      <td>4.520000</td>\n",
       "      <td>5.260000</td>\n",
       "      <td>2.490000</td>\n",
       "    </tr>\n",
       "    <tr>\n",
       "      <th>50%</th>\n",
       "      <td>42.000000</td>\n",
       "      <td>6.425000</td>\n",
       "      <td>3.950000</td>\n",
       "      <td>2.520000</td>\n",
       "      <td>7.900000</td>\n",
       "      <td>6.500000</td>\n",
       "      <td>4.990000</td>\n",
       "    </tr>\n",
       "    <tr>\n",
       "      <th>75%</th>\n",
       "      <td>54.000000</td>\n",
       "      <td>9.212500</td>\n",
       "      <td>5.990000</td>\n",
       "      <td>3.790000</td>\n",
       "      <td>11.500000</td>\n",
       "      <td>7.760000</td>\n",
       "      <td>7.540000</td>\n",
       "    </tr>\n",
       "    <tr>\n",
       "      <th>max</th>\n",
       "      <td>65.000000</td>\n",
       "      <td>12.000000</td>\n",
       "      <td>8.000000</td>\n",
       "      <td>5.000000</td>\n",
       "      <td>15.000000</td>\n",
       "      <td>9.000000</td>\n",
       "      <td>10.000000</td>\n",
       "    </tr>\n",
       "  </tbody>\n",
       "</table>\n",
       "</div>"
      ],
      "text/plain": [
       "                Age  Technology_Usage_Hours  Social_Media_Usage_Hours  \\\n",
       "count  10000.000000            10000.000000              10000.000000   \n",
       "mean      41.518600                6.474341                  3.972321   \n",
       "std       13.920217                3.169022                  2.313707   \n",
       "min       18.000000                1.000000                  0.000000   \n",
       "25%       29.000000                3.760000                  1.980000   \n",
       "50%       42.000000                6.425000                  3.950000   \n",
       "75%       54.000000                9.212500                  5.990000   \n",
       "max       65.000000               12.000000                  8.000000   \n",
       "\n",
       "       Gaming_Hours  Screen_Time_Hours   Sleep_Hours  Physical_Activity_Hours  \n",
       "count  10000.000000       10000.000000  10000.000000             10000.000000  \n",
       "mean       2.515598           7.975765      6.500724                 5.003860  \n",
       "std        1.446748           4.042608      1.450933                 2.905044  \n",
       "min        0.000000           1.000000      4.000000                 0.000000  \n",
       "25%        1.260000           4.520000      5.260000                 2.490000  \n",
       "50%        2.520000           7.900000      6.500000                 4.990000  \n",
       "75%        3.790000          11.500000      7.760000                 7.540000  \n",
       "max        5.000000          15.000000      9.000000                10.000000  "
      ]
     },
     "execution_count": 22,
     "metadata": {},
     "output_type": "execute_result"
    }
   ],
   "source": [
    "df.describe()"
   ]
  },
  {
   "cell_type": "code",
   "execution_count": 24,
   "id": "e0cd4a64-70e0-497c-a936-3e4d8583d714",
   "metadata": {},
   "outputs": [
    {
     "name": "stdout",
     "output_type": "stream",
     "text": [
      "\n",
      "Distribuição das Variáveis Categóricas:\n",
      "\n",
      "User_ID:\n",
      " User_ID\n",
      "USER-00001    1\n",
      "USER-06671    1\n",
      "USER-06664    1\n",
      "USER-06665    1\n",
      "USER-06666    1\n",
      "             ..\n",
      "USER-03334    1\n",
      "USER-03335    1\n",
      "USER-03336    1\n",
      "USER-03337    1\n",
      "USER-10000    1\n",
      "Name: count, Length: 10000, dtype: int64\n",
      "\n",
      "Gender:\n",
      " Gender\n",
      "Other     3364\n",
      "Male      3350\n",
      "Female    3286\n",
      "Name: count, dtype: int64\n",
      "\n",
      "Mental_Health_Status:\n",
      " Mental_Health_Status\n",
      "Excellent    2518\n",
      "Good         2508\n",
      "Fair         2490\n",
      "Poor         2484\n",
      "Name: count, dtype: int64\n",
      "\n",
      "Stress_Level:\n",
      " Stress_Level\n",
      "Medium    3338\n",
      "Low       3332\n",
      "High      3330\n",
      "Name: count, dtype: int64\n",
      "\n",
      "Support_Systems_Access:\n",
      " Support_Systems_Access\n",
      "No     5006\n",
      "Yes    4994\n",
      "Name: count, dtype: int64\n",
      "\n",
      "Work_Environment_Impact:\n",
      " Work_Environment_Impact\n",
      "Negative    3378\n",
      "Neutral     3312\n",
      "Positive    3310\n",
      "Name: count, dtype: int64\n",
      "\n",
      "Online_Support_Usage:\n",
      " Online_Support_Usage\n",
      "No     5013\n",
      "Yes    4987\n",
      "Name: count, dtype: int64\n"
     ]
    }
   ],
   "source": [
    "# Análise para variáveis categóricas\n",
    "print(\"\\nDistribuição das Variáveis Categóricas:\")\n",
    "categ_vars = df.select_dtypes(include='object')\n",
    "for col in categ_vars.columns:\n",
    "    print(f\"\\n{col}:\\n\", df[col].value_counts())"
   ]
  },
  {
   "cell_type": "code",
   "execution_count": 26,
   "id": "6e7d4662-fb1e-4e4b-82b4-0a0cacbbf769",
   "metadata": {},
   "outputs": [
    {
     "name": "stdout",
     "output_type": "stream",
     "text": [
      "\n",
      "Colunas disponíveis: ['User_ID', 'Age', 'Gender', 'Technology_Usage_Hours', 'Social_Media_Usage_Hours', 'Gaming_Hours', 'Screen_Time_Hours', 'Mental_Health_Status', 'Stress_Level', 'Sleep_Hours', 'Physical_Activity_Hours', 'Support_Systems_Access', 'Work_Environment_Impact', 'Online_Support_Usage']\n"
     ]
    }
   ],
   "source": [
    "# Listar as colunas disponíveis\n",
    "print(\"\\nColunas disponíveis:\", df.columns.tolist())"
   ]
  },
  {
   "cell_type": "code",
   "execution_count": 28,
   "id": "7eead118-ed68-464e-b6b8-54a01865de79",
   "metadata": {},
   "outputs": [
    {
     "name": "stdout",
     "output_type": "stream",
     "text": [
      "\n",
      "Distribuição de 'Mental_Health_Status':\n",
      "Mental_Health_Status\n",
      "Excellent    2518\n",
      "Good         2508\n",
      "Fair         2490\n",
      "Poor         2484\n",
      "Name: count, dtype: int64\n"
     ]
    }
   ],
   "source": [
    "# Foco na variável 'Mental_Health_Status'\n",
    "print(\"\\nDistribuição de 'Mental_Health_Status':\")\n",
    "print(df['Mental_Health_Status'].value_counts())"
   ]
  },
  {
   "cell_type": "code",
   "execution_count": 30,
   "id": "69d9d0c0-6ccf-431a-afdd-cf1be07744b9",
   "metadata": {},
   "outputs": [],
   "source": [
    "# Se houver mais de duas categorias, binarizar\n",
    "# Aqui vamos considerar 'Poor' como 1 (problema) e o resto como 0\n",
    "df['Mental_Health_Status_Bin'] = df['Mental_Health_Status'].apply(lambda x: 1 if x == 'Poor' else 0)"
   ]
  },
  {
   "cell_type": "code",
   "execution_count": 32,
   "id": "545c73ef-9f6e-4a83-9308-41f0411e1f81",
   "metadata": {},
   "outputs": [
    {
     "name": "stdout",
     "output_type": "stream",
     "text": [
      "\n",
      "Distribuição após binarização:\n",
      "Mental_Health_Status_Bin\n",
      "0    7516\n",
      "1    2484\n",
      "Name: count, dtype: int64\n"
     ]
    }
   ],
   "source": [
    "# Conferir distribuição após binarização\n",
    "print(\"\\nDistribuição após binarização:\")\n",
    "print(df['Mental_Health_Status_Bin'].value_counts())\n"
   ]
  },
  {
   "cell_type": "code",
   "execution_count": 34,
   "id": "a817f0b0-436f-4a80-83e2-0e8e0cd7b721",
   "metadata": {},
   "outputs": [],
   "source": [
    "# Variável dependente (y)\n",
    "y = df['Mental_Health_Status_Bin']"
   ]
  },
  {
   "cell_type": "code",
   "execution_count": 36,
   "id": "f8ff37d1-61fe-4678-8da6-4d112ad7c465",
   "metadata": {},
   "outputs": [],
   "source": [
    "# ================================================================\n",
    "# 5. Preparar variáveis independentes (X)\n",
    "# ================================================================\n",
    "\n",
    "# Remover colunas que não devem ser usadas (como IDs, variáveis originais duplicadas)\n",
    "df_features = df.drop(columns=['User_ID', 'Mental_Health_Status', 'Mental_Health_Status_Bin'])"
   ]
  },
  {
   "cell_type": "code",
   "execution_count": 38,
   "id": "ffe410dc-c100-4c35-a305-0cfd82d42bdf",
   "metadata": {},
   "outputs": [],
   "source": [
    "# Codificar variáveis categóricas\n",
    "df_features_encoded = pd.get_dummies(df_features, drop_first=True)"
   ]
  },
  {
   "cell_type": "code",
   "execution_count": 40,
   "id": "7ebdb068-7fac-4dcc-b6c5-3167f4438106",
   "metadata": {},
   "outputs": [
    {
     "name": "stdout",
     "output_type": "stream",
     "text": [
      "\n",
      "Formato de X após transformação: (10000, 15)\n"
     ]
    }
   ],
   "source": [
    "# Conferir o novo formato\n",
    "print(\"\\nFormato de X após transformação:\", df_features_encoded.shape)"
   ]
  },
  {
   "cell_type": "code",
   "execution_count": 42,
   "id": "02d5a83a-4873-40bd-ab6e-11268d5e25ed",
   "metadata": {},
   "outputs": [],
   "source": [
    "# ================================================================\n",
    "# 6. Seleção de variáveis independentes usando p-valor\n",
    "# ================================================================\n",
    "\n",
    "# Adicionar constante para o modelo\n",
    "X_const = sm.add_constant(df_features_encoded)"
   ]
  },
  {
   "cell_type": "code",
   "execution_count": 46,
   "id": "012c12a4-26e4-4378-afbd-dc805160b46c",
   "metadata": {},
   "outputs": [
    {
     "name": "stdout",
     "output_type": "stream",
     "text": [
      "Optimization terminated successfully.\n",
      "         Current function value: 0.559630\n",
      "         Iterations 5\n",
      "                              Logit Regression Results                              \n",
      "====================================================================================\n",
      "Dep. Variable:     Mental_Health_Status_Bin   No. Observations:                10000\n",
      "Model:                                Logit   Df Residuals:                     9984\n",
      "Method:                                 MLE   Df Model:                           15\n",
      "Date:                      Mon, 28 Apr 2025   Pseudo R-squ.:                0.001678\n",
      "Time:                              10:47:38   Log-Likelihood:                -5596.3\n",
      "converged:                             True   LL-Null:                       -5605.7\n",
      "Covariance Type:                  nonrobust   LLR p-value:                    0.2225\n",
      "====================================================================================================\n",
      "                                       coef    std err          z      P>|z|      [0.025      0.975]\n",
      "----------------------------------------------------------------------------------------------------\n",
      "const                               -1.2053      0.173     -6.973      0.000      -1.544      -0.866\n",
      "Age                                 -0.0017      0.002     -1.020      0.308      -0.005       0.002\n",
      "Technology_Usage_Hours               0.0129      0.007      1.757      0.079      -0.001       0.027\n",
      "Social_Media_Usage_Hours            -0.0056      0.010     -0.563      0.573      -0.025       0.014\n",
      "Gaming_Hours                         0.0032      0.016      0.198      0.843      -0.028       0.035\n",
      "Screen_Time_Hours                   -0.0029      0.006     -0.499      0.617      -0.014       0.008\n",
      "Sleep_Hours                          0.0100      0.016      0.627      0.531      -0.021       0.041\n",
      "Physical_Activity_Hours              0.0019      0.008      0.235      0.814      -0.014       0.018\n",
      "Gender_Male                          0.0380      0.057      0.671      0.502      -0.073       0.149\n",
      "Gender_Other                        -0.0300      0.057     -0.525      0.599      -0.142       0.082\n",
      "Stress_Level_Low                    -0.0021      0.056     -0.037      0.971      -0.112       0.108\n",
      "Stress_Level_Medium                 -0.1016      0.057     -1.782      0.075      -0.213       0.010\n",
      "Support_Systems_Access_Yes           0.1209      0.046      2.605      0.009       0.030       0.212\n",
      "Work_Environment_Impact_Neutral     -0.0084      0.057     -0.148      0.883      -0.120       0.103\n",
      "Work_Environment_Impact_Positive     0.0530      0.057      0.938      0.348      -0.058       0.164\n",
      "Online_Support_Usage_Yes             0.0051      0.046      0.110      0.912      -0.086       0.096\n",
      "====================================================================================================\n"
     ]
    }
   ],
   "source": [
    "# Codificar variáveis categóricas\n",
    "df_features_encoded = pd.get_dummies(df_features, drop_first=True)\n",
    "\n",
    "# Converter tudo para float\n",
    "df_features_encoded = df_features_encoded.astype(float)\n",
    "\n",
    "# Agora adicionar a constante\n",
    "X_const = sm.add_constant(df_features_encoded)\n",
    "\n",
    "# E só agora ajustar o modelo\n",
    "modelo_inicial = sm.Logit(y, X_const).fit()\n",
    "print(modelo_inicial.summary())"
   ]
  },
  {
   "cell_type": "code",
   "execution_count": 48,
   "id": "9e89a8f3-417f-42db-b90c-eda3240352ab",
   "metadata": {},
   "outputs": [],
   "source": [
    "# Selecionar variáveis com p-valor < 0.05\n",
    "pvalores = modelo_inicial.pvalues\n",
    "variaveis_significativas = pvalores[pvalores < 0.05].index.tolist()"
   ]
  },
  {
   "cell_type": "code",
   "execution_count": 50,
   "id": "dc25133d-0471-40e5-8da1-d9944972dbf8",
   "metadata": {},
   "outputs": [],
   "source": [
    "# Remover constante\n",
    "variaveis_significativas = [v for v in variaveis_significativas if v != 'const']"
   ]
  },
  {
   "cell_type": "code",
   "execution_count": 52,
   "id": "a50e8abe-5c9b-466a-961f-c2241bc695a5",
   "metadata": {},
   "outputs": [
    {
     "name": "stdout",
     "output_type": "stream",
     "text": [
      "\n",
      "Variáveis selecionadas (p-valor < 0.05): ['Support_Systems_Access_Yes']\n"
     ]
    }
   ],
   "source": [
    "print(\"\\nVariáveis selecionadas (p-valor < 0.05):\", variaveis_significativas)"
   ]
  },
  {
   "cell_type": "code",
   "execution_count": 54,
   "id": "fba1245b-b673-4cca-ab74-dce8b86c475d",
   "metadata": {},
   "outputs": [],
   "source": [
    "# Definir X_final com as variáveis escolhidas\n",
    "X_final = df_features_encoded[variaveis_significativas]\n"
   ]
  },
  {
   "cell_type": "code",
   "execution_count": 56,
   "id": "a1994e78-de4e-499e-bdb0-39fda8c95809",
   "metadata": {},
   "outputs": [],
   "source": [
    "# ================================================================\n",
    "# 7. Dividir em treino e teste\n",
    "# ================================================================\n",
    "\n",
    "X_train, X_test, y_train, y_test = train_test_split(X_final, y, test_size=0.3, random_state=42)"
   ]
  },
  {
   "cell_type": "code",
   "execution_count": 58,
   "id": "97cf6980-20c3-4ad3-915f-ad73071154c2",
   "metadata": {},
   "outputs": [
    {
     "data": {
      "text/html": [
       "<style>#sk-container-id-1 {\n",
       "  /* Definition of color scheme common for light and dark mode */\n",
       "  --sklearn-color-text: black;\n",
       "  --sklearn-color-line: gray;\n",
       "  /* Definition of color scheme for unfitted estimators */\n",
       "  --sklearn-color-unfitted-level-0: #fff5e6;\n",
       "  --sklearn-color-unfitted-level-1: #f6e4d2;\n",
       "  --sklearn-color-unfitted-level-2: #ffe0b3;\n",
       "  --sklearn-color-unfitted-level-3: chocolate;\n",
       "  /* Definition of color scheme for fitted estimators */\n",
       "  --sklearn-color-fitted-level-0: #f0f8ff;\n",
       "  --sklearn-color-fitted-level-1: #d4ebff;\n",
       "  --sklearn-color-fitted-level-2: #b3dbfd;\n",
       "  --sklearn-color-fitted-level-3: cornflowerblue;\n",
       "\n",
       "  /* Specific color for light theme */\n",
       "  --sklearn-color-text-on-default-background: var(--sg-text-color, var(--theme-code-foreground, var(--jp-content-font-color1, black)));\n",
       "  --sklearn-color-background: var(--sg-background-color, var(--theme-background, var(--jp-layout-color0, white)));\n",
       "  --sklearn-color-border-box: var(--sg-text-color, var(--theme-code-foreground, var(--jp-content-font-color1, black)));\n",
       "  --sklearn-color-icon: #696969;\n",
       "\n",
       "  @media (prefers-color-scheme: dark) {\n",
       "    /* Redefinition of color scheme for dark theme */\n",
       "    --sklearn-color-text-on-default-background: var(--sg-text-color, var(--theme-code-foreground, var(--jp-content-font-color1, white)));\n",
       "    --sklearn-color-background: var(--sg-background-color, var(--theme-background, var(--jp-layout-color0, #111)));\n",
       "    --sklearn-color-border-box: var(--sg-text-color, var(--theme-code-foreground, var(--jp-content-font-color1, white)));\n",
       "    --sklearn-color-icon: #878787;\n",
       "  }\n",
       "}\n",
       "\n",
       "#sk-container-id-1 {\n",
       "  color: var(--sklearn-color-text);\n",
       "}\n",
       "\n",
       "#sk-container-id-1 pre {\n",
       "  padding: 0;\n",
       "}\n",
       "\n",
       "#sk-container-id-1 input.sk-hidden--visually {\n",
       "  border: 0;\n",
       "  clip: rect(1px 1px 1px 1px);\n",
       "  clip: rect(1px, 1px, 1px, 1px);\n",
       "  height: 1px;\n",
       "  margin: -1px;\n",
       "  overflow: hidden;\n",
       "  padding: 0;\n",
       "  position: absolute;\n",
       "  width: 1px;\n",
       "}\n",
       "\n",
       "#sk-container-id-1 div.sk-dashed-wrapped {\n",
       "  border: 1px dashed var(--sklearn-color-line);\n",
       "  margin: 0 0.4em 0.5em 0.4em;\n",
       "  box-sizing: border-box;\n",
       "  padding-bottom: 0.4em;\n",
       "  background-color: var(--sklearn-color-background);\n",
       "}\n",
       "\n",
       "#sk-container-id-1 div.sk-container {\n",
       "  /* jupyter's `normalize.less` sets `[hidden] { display: none; }`\n",
       "     but bootstrap.min.css set `[hidden] { display: none !important; }`\n",
       "     so we also need the `!important` here to be able to override the\n",
       "     default hidden behavior on the sphinx rendered scikit-learn.org.\n",
       "     See: https://github.com/scikit-learn/scikit-learn/issues/21755 */\n",
       "  display: inline-block !important;\n",
       "  position: relative;\n",
       "}\n",
       "\n",
       "#sk-container-id-1 div.sk-text-repr-fallback {\n",
       "  display: none;\n",
       "}\n",
       "\n",
       "div.sk-parallel-item,\n",
       "div.sk-serial,\n",
       "div.sk-item {\n",
       "  /* draw centered vertical line to link estimators */\n",
       "  background-image: linear-gradient(var(--sklearn-color-text-on-default-background), var(--sklearn-color-text-on-default-background));\n",
       "  background-size: 2px 100%;\n",
       "  background-repeat: no-repeat;\n",
       "  background-position: center center;\n",
       "}\n",
       "\n",
       "/* Parallel-specific style estimator block */\n",
       "\n",
       "#sk-container-id-1 div.sk-parallel-item::after {\n",
       "  content: \"\";\n",
       "  width: 100%;\n",
       "  border-bottom: 2px solid var(--sklearn-color-text-on-default-background);\n",
       "  flex-grow: 1;\n",
       "}\n",
       "\n",
       "#sk-container-id-1 div.sk-parallel {\n",
       "  display: flex;\n",
       "  align-items: stretch;\n",
       "  justify-content: center;\n",
       "  background-color: var(--sklearn-color-background);\n",
       "  position: relative;\n",
       "}\n",
       "\n",
       "#sk-container-id-1 div.sk-parallel-item {\n",
       "  display: flex;\n",
       "  flex-direction: column;\n",
       "}\n",
       "\n",
       "#sk-container-id-1 div.sk-parallel-item:first-child::after {\n",
       "  align-self: flex-end;\n",
       "  width: 50%;\n",
       "}\n",
       "\n",
       "#sk-container-id-1 div.sk-parallel-item:last-child::after {\n",
       "  align-self: flex-start;\n",
       "  width: 50%;\n",
       "}\n",
       "\n",
       "#sk-container-id-1 div.sk-parallel-item:only-child::after {\n",
       "  width: 0;\n",
       "}\n",
       "\n",
       "/* Serial-specific style estimator block */\n",
       "\n",
       "#sk-container-id-1 div.sk-serial {\n",
       "  display: flex;\n",
       "  flex-direction: column;\n",
       "  align-items: center;\n",
       "  background-color: var(--sklearn-color-background);\n",
       "  padding-right: 1em;\n",
       "  padding-left: 1em;\n",
       "}\n",
       "\n",
       "\n",
       "/* Toggleable style: style used for estimator/Pipeline/ColumnTransformer box that is\n",
       "clickable and can be expanded/collapsed.\n",
       "- Pipeline and ColumnTransformer use this feature and define the default style\n",
       "- Estimators will overwrite some part of the style using the `sk-estimator` class\n",
       "*/\n",
       "\n",
       "/* Pipeline and ColumnTransformer style (default) */\n",
       "\n",
       "#sk-container-id-1 div.sk-toggleable {\n",
       "  /* Default theme specific background. It is overwritten whether we have a\n",
       "  specific estimator or a Pipeline/ColumnTransformer */\n",
       "  background-color: var(--sklearn-color-background);\n",
       "}\n",
       "\n",
       "/* Toggleable label */\n",
       "#sk-container-id-1 label.sk-toggleable__label {\n",
       "  cursor: pointer;\n",
       "  display: block;\n",
       "  width: 100%;\n",
       "  margin-bottom: 0;\n",
       "  padding: 0.5em;\n",
       "  box-sizing: border-box;\n",
       "  text-align: center;\n",
       "}\n",
       "\n",
       "#sk-container-id-1 label.sk-toggleable__label-arrow:before {\n",
       "  /* Arrow on the left of the label */\n",
       "  content: \"▸\";\n",
       "  float: left;\n",
       "  margin-right: 0.25em;\n",
       "  color: var(--sklearn-color-icon);\n",
       "}\n",
       "\n",
       "#sk-container-id-1 label.sk-toggleable__label-arrow:hover:before {\n",
       "  color: var(--sklearn-color-text);\n",
       "}\n",
       "\n",
       "/* Toggleable content - dropdown */\n",
       "\n",
       "#sk-container-id-1 div.sk-toggleable__content {\n",
       "  max-height: 0;\n",
       "  max-width: 0;\n",
       "  overflow: hidden;\n",
       "  text-align: left;\n",
       "  /* unfitted */\n",
       "  background-color: var(--sklearn-color-unfitted-level-0);\n",
       "}\n",
       "\n",
       "#sk-container-id-1 div.sk-toggleable__content.fitted {\n",
       "  /* fitted */\n",
       "  background-color: var(--sklearn-color-fitted-level-0);\n",
       "}\n",
       "\n",
       "#sk-container-id-1 div.sk-toggleable__content pre {\n",
       "  margin: 0.2em;\n",
       "  border-radius: 0.25em;\n",
       "  color: var(--sklearn-color-text);\n",
       "  /* unfitted */\n",
       "  background-color: var(--sklearn-color-unfitted-level-0);\n",
       "}\n",
       "\n",
       "#sk-container-id-1 div.sk-toggleable__content.fitted pre {\n",
       "  /* unfitted */\n",
       "  background-color: var(--sklearn-color-fitted-level-0);\n",
       "}\n",
       "\n",
       "#sk-container-id-1 input.sk-toggleable__control:checked~div.sk-toggleable__content {\n",
       "  /* Expand drop-down */\n",
       "  max-height: 200px;\n",
       "  max-width: 100%;\n",
       "  overflow: auto;\n",
       "}\n",
       "\n",
       "#sk-container-id-1 input.sk-toggleable__control:checked~label.sk-toggleable__label-arrow:before {\n",
       "  content: \"▾\";\n",
       "}\n",
       "\n",
       "/* Pipeline/ColumnTransformer-specific style */\n",
       "\n",
       "#sk-container-id-1 div.sk-label input.sk-toggleable__control:checked~label.sk-toggleable__label {\n",
       "  color: var(--sklearn-color-text);\n",
       "  background-color: var(--sklearn-color-unfitted-level-2);\n",
       "}\n",
       "\n",
       "#sk-container-id-1 div.sk-label.fitted input.sk-toggleable__control:checked~label.sk-toggleable__label {\n",
       "  background-color: var(--sklearn-color-fitted-level-2);\n",
       "}\n",
       "\n",
       "/* Estimator-specific style */\n",
       "\n",
       "/* Colorize estimator box */\n",
       "#sk-container-id-1 div.sk-estimator input.sk-toggleable__control:checked~label.sk-toggleable__label {\n",
       "  /* unfitted */\n",
       "  background-color: var(--sklearn-color-unfitted-level-2);\n",
       "}\n",
       "\n",
       "#sk-container-id-1 div.sk-estimator.fitted input.sk-toggleable__control:checked~label.sk-toggleable__label {\n",
       "  /* fitted */\n",
       "  background-color: var(--sklearn-color-fitted-level-2);\n",
       "}\n",
       "\n",
       "#sk-container-id-1 div.sk-label label.sk-toggleable__label,\n",
       "#sk-container-id-1 div.sk-label label {\n",
       "  /* The background is the default theme color */\n",
       "  color: var(--sklearn-color-text-on-default-background);\n",
       "}\n",
       "\n",
       "/* On hover, darken the color of the background */\n",
       "#sk-container-id-1 div.sk-label:hover label.sk-toggleable__label {\n",
       "  color: var(--sklearn-color-text);\n",
       "  background-color: var(--sklearn-color-unfitted-level-2);\n",
       "}\n",
       "\n",
       "/* Label box, darken color on hover, fitted */\n",
       "#sk-container-id-1 div.sk-label.fitted:hover label.sk-toggleable__label.fitted {\n",
       "  color: var(--sklearn-color-text);\n",
       "  background-color: var(--sklearn-color-fitted-level-2);\n",
       "}\n",
       "\n",
       "/* Estimator label */\n",
       "\n",
       "#sk-container-id-1 div.sk-label label {\n",
       "  font-family: monospace;\n",
       "  font-weight: bold;\n",
       "  display: inline-block;\n",
       "  line-height: 1.2em;\n",
       "}\n",
       "\n",
       "#sk-container-id-1 div.sk-label-container {\n",
       "  text-align: center;\n",
       "}\n",
       "\n",
       "/* Estimator-specific */\n",
       "#sk-container-id-1 div.sk-estimator {\n",
       "  font-family: monospace;\n",
       "  border: 1px dotted var(--sklearn-color-border-box);\n",
       "  border-radius: 0.25em;\n",
       "  box-sizing: border-box;\n",
       "  margin-bottom: 0.5em;\n",
       "  /* unfitted */\n",
       "  background-color: var(--sklearn-color-unfitted-level-0);\n",
       "}\n",
       "\n",
       "#sk-container-id-1 div.sk-estimator.fitted {\n",
       "  /* fitted */\n",
       "  background-color: var(--sklearn-color-fitted-level-0);\n",
       "}\n",
       "\n",
       "/* on hover */\n",
       "#sk-container-id-1 div.sk-estimator:hover {\n",
       "  /* unfitted */\n",
       "  background-color: var(--sklearn-color-unfitted-level-2);\n",
       "}\n",
       "\n",
       "#sk-container-id-1 div.sk-estimator.fitted:hover {\n",
       "  /* fitted */\n",
       "  background-color: var(--sklearn-color-fitted-level-2);\n",
       "}\n",
       "\n",
       "/* Specification for estimator info (e.g. \"i\" and \"?\") */\n",
       "\n",
       "/* Common style for \"i\" and \"?\" */\n",
       "\n",
       ".sk-estimator-doc-link,\n",
       "a:link.sk-estimator-doc-link,\n",
       "a:visited.sk-estimator-doc-link {\n",
       "  float: right;\n",
       "  font-size: smaller;\n",
       "  line-height: 1em;\n",
       "  font-family: monospace;\n",
       "  background-color: var(--sklearn-color-background);\n",
       "  border-radius: 1em;\n",
       "  height: 1em;\n",
       "  width: 1em;\n",
       "  text-decoration: none !important;\n",
       "  margin-left: 1ex;\n",
       "  /* unfitted */\n",
       "  border: var(--sklearn-color-unfitted-level-1) 1pt solid;\n",
       "  color: var(--sklearn-color-unfitted-level-1);\n",
       "}\n",
       "\n",
       ".sk-estimator-doc-link.fitted,\n",
       "a:link.sk-estimator-doc-link.fitted,\n",
       "a:visited.sk-estimator-doc-link.fitted {\n",
       "  /* fitted */\n",
       "  border: var(--sklearn-color-fitted-level-1) 1pt solid;\n",
       "  color: var(--sklearn-color-fitted-level-1);\n",
       "}\n",
       "\n",
       "/* On hover */\n",
       "div.sk-estimator:hover .sk-estimator-doc-link:hover,\n",
       ".sk-estimator-doc-link:hover,\n",
       "div.sk-label-container:hover .sk-estimator-doc-link:hover,\n",
       ".sk-estimator-doc-link:hover {\n",
       "  /* unfitted */\n",
       "  background-color: var(--sklearn-color-unfitted-level-3);\n",
       "  color: var(--sklearn-color-background);\n",
       "  text-decoration: none;\n",
       "}\n",
       "\n",
       "div.sk-estimator.fitted:hover .sk-estimator-doc-link.fitted:hover,\n",
       ".sk-estimator-doc-link.fitted:hover,\n",
       "div.sk-label-container:hover .sk-estimator-doc-link.fitted:hover,\n",
       ".sk-estimator-doc-link.fitted:hover {\n",
       "  /* fitted */\n",
       "  background-color: var(--sklearn-color-fitted-level-3);\n",
       "  color: var(--sklearn-color-background);\n",
       "  text-decoration: none;\n",
       "}\n",
       "\n",
       "/* Span, style for the box shown on hovering the info icon */\n",
       ".sk-estimator-doc-link span {\n",
       "  display: none;\n",
       "  z-index: 9999;\n",
       "  position: relative;\n",
       "  font-weight: normal;\n",
       "  right: .2ex;\n",
       "  padding: .5ex;\n",
       "  margin: .5ex;\n",
       "  width: min-content;\n",
       "  min-width: 20ex;\n",
       "  max-width: 50ex;\n",
       "  color: var(--sklearn-color-text);\n",
       "  box-shadow: 2pt 2pt 4pt #999;\n",
       "  /* unfitted */\n",
       "  background: var(--sklearn-color-unfitted-level-0);\n",
       "  border: .5pt solid var(--sklearn-color-unfitted-level-3);\n",
       "}\n",
       "\n",
       ".sk-estimator-doc-link.fitted span {\n",
       "  /* fitted */\n",
       "  background: var(--sklearn-color-fitted-level-0);\n",
       "  border: var(--sklearn-color-fitted-level-3);\n",
       "}\n",
       "\n",
       ".sk-estimator-doc-link:hover span {\n",
       "  display: block;\n",
       "}\n",
       "\n",
       "/* \"?\"-specific style due to the `<a>` HTML tag */\n",
       "\n",
       "#sk-container-id-1 a.estimator_doc_link {\n",
       "  float: right;\n",
       "  font-size: 1rem;\n",
       "  line-height: 1em;\n",
       "  font-family: monospace;\n",
       "  background-color: var(--sklearn-color-background);\n",
       "  border-radius: 1rem;\n",
       "  height: 1rem;\n",
       "  width: 1rem;\n",
       "  text-decoration: none;\n",
       "  /* unfitted */\n",
       "  color: var(--sklearn-color-unfitted-level-1);\n",
       "  border: var(--sklearn-color-unfitted-level-1) 1pt solid;\n",
       "}\n",
       "\n",
       "#sk-container-id-1 a.estimator_doc_link.fitted {\n",
       "  /* fitted */\n",
       "  border: var(--sklearn-color-fitted-level-1) 1pt solid;\n",
       "  color: var(--sklearn-color-fitted-level-1);\n",
       "}\n",
       "\n",
       "/* On hover */\n",
       "#sk-container-id-1 a.estimator_doc_link:hover {\n",
       "  /* unfitted */\n",
       "  background-color: var(--sklearn-color-unfitted-level-3);\n",
       "  color: var(--sklearn-color-background);\n",
       "  text-decoration: none;\n",
       "}\n",
       "\n",
       "#sk-container-id-1 a.estimator_doc_link.fitted:hover {\n",
       "  /* fitted */\n",
       "  background-color: var(--sklearn-color-fitted-level-3);\n",
       "}\n",
       "</style><div id=\"sk-container-id-1\" class=\"sk-top-container\"><div class=\"sk-text-repr-fallback\"><pre>LogisticRegression(max_iter=1000)</pre><b>In a Jupyter environment, please rerun this cell to show the HTML representation or trust the notebook. <br />On GitHub, the HTML representation is unable to render, please try loading this page with nbviewer.org.</b></div><div class=\"sk-container\" hidden><div class=\"sk-item\"><div class=\"sk-estimator fitted sk-toggleable\"><input class=\"sk-toggleable__control sk-hidden--visually\" id=\"sk-estimator-id-1\" type=\"checkbox\" checked><label for=\"sk-estimator-id-1\" class=\"sk-toggleable__label fitted sk-toggleable__label-arrow fitted\">&nbsp;&nbsp;LogisticRegression<a class=\"sk-estimator-doc-link fitted\" rel=\"noreferrer\" target=\"_blank\" href=\"https://scikit-learn.org/1.5/modules/generated/sklearn.linear_model.LogisticRegression.html\">?<span>Documentation for LogisticRegression</span></a><span class=\"sk-estimator-doc-link fitted\">i<span>Fitted</span></span></label><div class=\"sk-toggleable__content fitted\"><pre>LogisticRegression(max_iter=1000)</pre></div> </div></div></div></div>"
      ],
      "text/plain": [
       "LogisticRegression(max_iter=1000)"
      ]
     },
     "execution_count": 58,
     "metadata": {},
     "output_type": "execute_result"
    }
   ],
   "source": [
    "# ================================================================\n",
    "# 8. Ajustar modelo de Regressão Logística final\n",
    "# ================================================================\n",
    "\n",
    "# Treinar modelo\n",
    "modelo_final = LogisticRegression(max_iter=1000)\n",
    "modelo_final.fit(X_train, y_train)"
   ]
  },
  {
   "cell_type": "code",
   "execution_count": 60,
   "id": "0a137aa9-d497-4052-81b7-d40c589c5f58",
   "metadata": {},
   "outputs": [],
   "source": [
    "# Prever no conjunto de teste\n",
    "y_pred = modelo_final.predict(X_test)"
   ]
  },
  {
   "cell_type": "code",
   "execution_count": 62,
   "id": "b70689fd-937f-4a75-8b9b-120c816447cc",
   "metadata": {},
   "outputs": [
    {
     "data": {
      "image/png": "[encoded data removed]",
      "text/plain": [
       "<Figure size 640x480 with 2 Axes>"
      ]
     },
     "metadata": {},
     "output_type": "display_data"
    }
   ],
   "source": [
    "# ================================================================\n",
    "# 9. Avaliação do Modelo\n",
    "# ================================================================\n",
    "\n",
    "# Matriz de Confusão\n",
    "cm = confusion_matrix(y_test, y_pred)\n",
    "\n",
    "# Plotar matriz de confusão\n",
    "sns.heatmap(cm, annot=True, fmt='d', cmap='Blues')\n",
    "plt.title('Matriz de Confusão')\n",
    "plt.xlabel('Predito')\n",
    "plt.ylabel('Real')\n",
    "plt.show()"
   ]
  },
  {
   "cell_type": "code",
   "execution_count": 66,
   "id": "4dc2de26-ee83-4739-913e-362972cc6827",
   "metadata": {},
   "outputs": [
    {
     "name": "stdout",
     "output_type": "stream",
     "text": [
      "\n",
      "Sensibilidade (Recall Positivo): 0.00\n",
      "Especificidade (Recall Negativo): 1.00\n"
     ]
    }
   ],
   "source": [
    "# Calcular Sensibilidade e Especificidade\n",
    "sensibilidade = cm[1,1] / (cm[1,0] + cm[1,1])\n",
    "especificidade = cm[0,0] / (cm[0,0] + cm[0,1])\n",
    "\n",
    "print(f\"\\nSensibilidade (Recall Positivo): {sensibilidade:.2f}\")\n",
    "print(f\"Especificidade (Recall Negativo): {especificidade:.2f}\")"
   ]
  },
  {
   "cell_type": "code",
   "execution_count": 68,
   "id": "86deeb94-bb4f-4b84-9087-760bcf2180ae",
   "metadata": {},
   "outputs": [
    {
     "name": "stdout",
     "output_type": "stream",
     "text": [
      "\n",
      "Relatório de Classificação:\n",
      "              precision    recall  f1-score   support\n",
      "\n",
      "           0       0.75      1.00      0.86      2258\n",
      "           1       0.00      0.00      0.00       742\n",
      "\n",
      "    accuracy                           0.75      3000\n",
      "   macro avg       0.38      0.50      0.43      3000\n",
      "weighted avg       0.57      0.75      0.65      3000\n",
      "\n"
     ]
    },
    {
     "name": "stderr",
     "output_type": "stream",
     "text": [
      "C:\\Users\\marco\\anaconda3\\Lib\\site-packages\\sklearn\\metrics\\_classification.py:1531: UndefinedMetricWarning: Precision is ill-defined and being set to 0.0 in labels with no predicted samples. Use `zero_division` parameter to control this behavior.\n",
      "  _warn_prf(average, modifier, f\"{metric.capitalize()} is\", len(result))\n",
      "C:\\Users\\marco\\anaconda3\\Lib\\site-packages\\sklearn\\metrics\\_classification.py:1531: UndefinedMetricWarning: Precision is ill-defined and being set to 0.0 in labels with no predicted samples. Use `zero_division` parameter to control this behavior.\n",
      "  _warn_prf(average, modifier, f\"{metric.capitalize()} is\", len(result))\n",
      "C:\\Users\\marco\\anaconda3\\Lib\\site-packages\\sklearn\\metrics\\_classification.py:1531: UndefinedMetricWarning: Precision is ill-defined and being set to 0.0 in labels with no predicted samples. Use `zero_division` parameter to control this behavior.\n",
      "  _warn_prf(average, modifier, f\"{metric.capitalize()} is\", len(result))\n"
     ]
    }
   ],
   "source": [
    "# Relatório detalhado\n",
    "print(\"\\nRelatório de Classificação:\")\n",
    "print(classification_report(y_test, y_pred))\n",
    "\n"
   ]
  },
  {
   "cell_type": "code",
   "execution_count": 70,
   "id": "6f11f6c7-6817-44bb-b9c8-6a5b30cd9cfc",
   "metadata": {},
   "outputs": [
    {
     "name": "stdout",
     "output_type": "stream",
     "text": [
      "\n",
      "ROC AUC: 0.50\n"
     ]
    }
   ],
   "source": [
    "\n",
    "# Curva ROC e AUC\n",
    "y_prob = modelo_final.predict_proba(X_test)[:,1]\n",
    "roc_auc = roc_auc_score(y_test, y_prob)\n",
    "print(f\"\\nROC AUC: {roc_auc:.2f}\")"
   ]
  },
  {
   "cell_type": "code",
   "execution_count": 72,
   "id": "b6ca964c-a963-4544-aada-0eebd0b37e58",
   "metadata": {},
   "outputs": [
    {
     "data": {
      "image/png": "[encoded data removed]",
      "text/plain": [
       "<Figure size 640x480 with 1 Axes>"
      ]
     },
     "metadata": {},
     "output_type": "display_data"
    }
   ],
   "source": [
    "fpr, tpr, thresholds = roc_curve(y_test, y_prob)\n",
    "plt.plot(fpr, tpr, label=f'AUC = {roc_auc:.2f}')\n",
    "plt.plot([0,1],[0,1],'--')\n",
    "plt.xlabel('Taxa de Falsos Positivos (FPR)')\n",
    "plt.ylabel('Taxa de Verdadeiros Positivos (TPR)')\n",
    "plt.title('Curva ROC')\n",
    "plt.legend()\n",
    "plt.show()"
   ]
  },
  {
   "cell_type": "code",
   "execution_count": 74,
   "id": "ebffe6b0-a6b5-4fc5-bcc8-fd118feac341",
   "metadata": {},
   "outputs": [
    {
     "name": "stdout",
     "output_type": "stream",
     "text": [
      "Optimization terminated successfully.\n",
      "         Current function value: 0.560463\n",
      "         Iterations 5\n",
      "                              Logit Regression Results                              \n",
      "====================================================================================\n",
      "Dep. Variable:     Mental_Health_Status_Bin   No. Observations:                 7000\n",
      "Model:                                Logit   Df Residuals:                     6998\n",
      "Method:                                 MLE   Df Model:                            1\n",
      "Date:                      Mon, 28 Apr 2025   Pseudo R-squ.:                0.001092\n",
      "Time:                              10:54:11   Log-Likelihood:                -3923.2\n",
      "converged:                             True   LL-Null:                       -3927.5\n",
      "Covariance Type:                  nonrobust   LLR p-value:                  0.003397\n",
      "==============================================================================================\n",
      "                                 coef    std err          z      P>|z|      [0.025      0.975]\n",
      "----------------------------------------------------------------------------------------------\n",
      "const                         -1.1868      0.040    -29.821      0.000      -1.265      -1.109\n",
      "Support_Systems_Access_Yes     0.1621      0.055      2.928      0.003       0.054       0.271\n",
      "==============================================================================================\n"
     ]
    }
   ],
   "source": [
    "# ================================================================\n",
    "# 10. Análise de Log-Likelihood (LL) e Pseudo R²\n",
    "# ================================================================\n",
    "\n",
    "# Ajustar o modelo final no statsmodels para obter essas métricas\n",
    "modelo_stats_final = sm.Logit(y_train, sm.add_constant(X_train)).fit()\n",
    "print(modelo_stats_final.summary())"
   ]
  },
  {
   "cell_type": "code",
   "execution_count": 76,
   "id": "d943dab3-781f-43b2-81d4-85fcbf15b252",
   "metadata": {},
   "outputs": [
    {
     "name": "stdout",
     "output_type": "stream",
     "text": [
      "\n",
      "Log-Likelihood: -3923.24\n",
      "Pseudo R² (McFadden): 0.00\n"
     ]
    }
   ],
   "source": [
    "# Log-Likelihood\n",
    "print(f\"\\nLog-Likelihood: {modelo_stats_final.llf:.2f}\")\n",
    "\n",
    "# Pseudo R² (McFadden)\n",
    "print(f\"Pseudo R² (McFadden): {modelo_stats_final.prsquared:.2f}\")"
   ]
  },
  {
   "cell_type": "code",
   "execution_count": null,
   "id": "e10897fe-f468-4435-b362-1a8172dad84d",
   "metadata": {},
   "outputs": [],
   "source": []
  }
 ],
 "metadata": {
  "kernelspec": {
   "display_name": "Python 3 (ipykernel)",
   "language": "python",
   "name": "python3"
  },
  "language_info": {
   "codemirror_mode": {
    "name": "ipython",
    "version": 3
   },
   "file_extension": ".py",
   "mimetype": "text/x-python",
   "name": "python",
   "nbconvert_exporter": "python",
   "pygments_lexer": "ipython3",
   "version": "3.12.7"
  }
 },
 "nbformat": 4,
 "nbformat_minor": 5
}
